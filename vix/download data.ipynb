{
 "cells": [
  {
   "cell_type": "code",
   "execution_count": 1,
   "id": "eb90fd7c",
   "metadata": {},
   "outputs": [],
   "source": [
    "import datetime as dt\n",
    "import pandas as pd\n",
    "import requests\n",
    "import re\n",
    "import time\n",
    "import calendar as cal\n",
    "from io import StringIO\n",
    "# except ImportError:\n",
    "#     from StringIO import StringIO\n",
    "\n",
    "class Fetcher:\n",
    "    api_url = \"https://query1.finance.yahoo.com/v7/finance/download/%s?period1=%s&period2=%s&interval=%s&events=%s&crumb=%s\"\n",
    "    def __init__(self, ticker, start, end=None, interval=\"1d\"):\n",
    "        \"\"\"Initializes class variables and formats api_url string\"\"\"\n",
    "        self.ticker = ticker.upper()\n",
    "        self.interval = interval\n",
    "        self.cookie, self.crumb = self.init()\n",
    "        self.start = int(cal.timegm(dt.datetime(*start).timetuple()))\n",
    "\n",
    "        if end is not None:\n",
    "            self.end = int(cal.timegm(dt.datetime(*end).timetuple()))\n",
    "        else:\n",
    "            self.end = int(time.time())\n",
    "\n",
    "    def init(self):\n",
    "        \"\"\"Returns a tuple pair of cookie and crumb used in the request\"\"\"\n",
    "        url = 'https://finance.yahoo.com/quote/%s/history' % (self.ticker)\n",
    "        r = requests.get(url)\n",
    "        txt = r.content\n",
    "        cookie = r.cookies['B']\n",
    "        pattern = re.compile('.*\"CrumbStore\":\\{\"crumb\":\"(?P<crumb>[^\"]+)\"\\}')\n",
    "\n",
    "        for line in txt.splitlines():\n",
    "            m = pattern.match(line.decode(\"utf-8\"))\n",
    "            if m is not None:\n",
    "                crumb = m.groupdict()['crumb']\n",
    "                crumb = crumb.replace(u'\\\\u002F', '/')\n",
    "        return cookie, crumb  # return a tuple of crumb and cookie\n",
    "\n",
    "    def getData(self, events):\n",
    "        \"\"\"Returns a list of historical data from Yahoo Finance\"\"\"\n",
    "        if self.interval not in [\"1d\", \"1wk\", \"1mo\"]:\n",
    "            raise ValueError(\"Incorrect interval: valid intervals are 1d, 1wk, 1mo\")\n",
    "\n",
    "        url = self.api_url % (self.ticker, self.start, self.end, self.interval, events, self.crumb)\n",
    "\n",
    "        data = requests.get(url, cookies={'B':self.cookie})\n",
    "        content = StringIO(data.content.decode(\"utf-8\"))\n",
    "        return pd.read_csv(content, sep=',')\n",
    "\n",
    "    def getHistorical(self, events='history'):\n",
    "        \"\"\"Returns a list of historical price data from Yahoo Finance\"\"\"\n",
    "        return self.getData('history')\n",
    "\n",
    "    def getDividends(self):\n",
    "        \"\"\"Returns a list of historical dividends data from Yahoo Finance\"\"\"\n",
    "        return self.getData('div')\n",
    "\n",
    "    def getSplits(self):\n",
    "        \"\"\"Returns a list of historical splits data from Yahoo Finance\"\"\"\n",
    "        return self.getData('split')\n",
    "\n",
    "    def getDatePrice(self):\n",
    "        \"\"\"Returns a DataFrame for Date and Price from getHistorical()\"\"\"\n",
    "        return self.getHistorical().ix[:,[0,4]]\n",
    "\n",
    "    def getDateVolume(self):\n",
    "        \"\"\"Returns a DataFrame for Date and Volume from getHistorical()\"\"\"\n",
    "        return self.getHistorical().ix[:,[0,6]]"
   ]
  },
  {
   "cell_type": "code",
   "execution_count": 2,
   "id": "f08484d2",
   "metadata": {},
   "outputs": [],
   "source": [
    "import datetime as datetime\n",
    "import numpy as np\n",
    "\n",
    "today_date = datetime.datetime.today()\n",
    "today_date += datetime.timedelta(days = 1)\n",
    "\n",
    "today_date = str(today_date).split()[0]\n",
    "year=int(today_date[0:4])\n",
    "month=int(today_date[5:7])\n",
    "day=int(today_date[8:10])"
   ]
  },
  {
   "cell_type": "code",
   "execution_count": 3,
   "id": "70efe6ea",
   "metadata": {},
   "outputs": [
    {
     "name": "stdout",
     "output_type": "stream",
     "text": [
      "840\n"
     ]
    }
   ],
   "source": [
    "data = Fetcher('VXX', [year-40,month,day], [year,month,day])\n",
    "original_data=data.getHistorical()\n",
    "\n",
    "print(len(original_data['Close']))\n",
    "original_data.to_csv('VXX.csv',index=False)"
   ]
  },
  {
   "cell_type": "code",
   "execution_count": 4,
   "id": "4e40dffa",
   "metadata": {},
   "outputs": [
    {
     "name": "stdout",
     "output_type": "stream",
     "text": [
      "2616\n"
     ]
    }
   ],
   "source": [
    "data = Fetcher('VIXY', [year-40,month,day], [year,month,day])\n",
    "original_data=data.getHistorical()\n",
    "\n",
    "print(len(original_data['Close']))\n",
    "original_data.to_csv('VIXY.csv',index=False)"
   ]
  },
  {
   "cell_type": "code",
   "execution_count": null,
   "id": "742a35f7",
   "metadata": {},
   "outputs": [],
   "source": []
  }
 ],
 "metadata": {
  "kernelspec": {
   "display_name": "Python 3.7.4 64-bit ('p37': conda)",
   "language": "python",
   "name": "python37464bitp37condace755f694755478c9bd95f16cbb10579"
  },
  "language_info": {
   "codemirror_mode": {
    "name": "ipython",
    "version": 3
   },
   "file_extension": ".py",
   "mimetype": "text/x-python",
   "name": "python",
   "nbconvert_exporter": "python",
   "pygments_lexer": "ipython3",
   "version": "3.7.4"
  }
 },
 "nbformat": 4,
 "nbformat_minor": 5
}
