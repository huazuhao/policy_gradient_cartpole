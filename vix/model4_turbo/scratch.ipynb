{
 "cells": [
  {
   "cell_type": "code",
   "execution_count": 6,
   "id": "9ac64470",
   "metadata": {},
   "outputs": [],
   "source": [
    "import trading_vix_non_random_seed\n",
    "env = trading_vix_non_random_seed.trading_vix(seed_index = 3)"
   ]
  },
  {
   "cell_type": "code",
   "execution_count": 7,
   "id": "56abcffc",
   "metadata": {},
   "outputs": [
    {
     "data": {
      "text/plain": [
       "array([[ 4.25365824],\n",
       "       [23.        ],\n",
       "       [39.        ],\n",
       "       [78.        ],\n",
       "       [ 0.        ]])"
      ]
     },
     "execution_count": 7,
     "metadata": {},
     "output_type": "execute_result"
    }
   ],
   "source": [
    "env.reset()"
   ]
  },
  {
   "cell_type": "code",
   "execution_count": 8,
   "id": "79ed7f66",
   "metadata": {},
   "outputs": [
    {
     "data": {
      "text/plain": [
       "243"
      ]
     },
     "execution_count": 8,
     "metadata": {},
     "output_type": "execute_result"
    }
   ],
   "source": [
    "env.current_time_index"
   ]
  },
  {
   "cell_type": "code",
   "execution_count": 9,
   "id": "0d78b4d2",
   "metadata": {},
   "outputs": [],
   "source": [
    "env = trading_vix_non_random_seed.trading_vix(seed_index = 3)"
   ]
  },
  {
   "cell_type": "code",
   "execution_count": 10,
   "id": "fe640f35",
   "metadata": {},
   "outputs": [
    {
     "data": {
      "text/plain": [
       "243"
      ]
     },
     "execution_count": 10,
     "metadata": {},
     "output_type": "execute_result"
    }
   ],
   "source": [
    "env.reset()\n",
    "env.current_time_index"
   ]
  },
  {
   "cell_type": "code",
   "execution_count": null,
   "id": "02f70045",
   "metadata": {},
   "outputs": [],
   "source": [
    "import random\n",
    "\n",
    "print('Random number with seed 30')\n",
    "for i in range(3):\n",
    "    # Random number with seed 30\n",
    "    random.seed(30)\n",
    "    print(random.randint(25, 50))"
   ]
  },
  {
   "cell_type": "code",
   "execution_count": null,
   "id": "69724c9e",
   "metadata": {},
   "outputs": [],
   "source": []
  }
 ],
 "metadata": {
  "kernelspec": {
   "display_name": "Python 3.7.4 64-bit ('p37': conda)",
   "language": "python",
   "name": "python37464bitp37condace755f694755478c9bd95f16cbb10579"
  },
  "language_info": {
   "codemirror_mode": {
    "name": "ipython",
    "version": 3
   },
   "file_extension": ".py",
   "mimetype": "text/x-python",
   "name": "python",
   "nbconvert_exporter": "python",
   "pygments_lexer": "ipython3",
   "version": "3.7.4"
  }
 },
 "nbformat": 4,
 "nbformat_minor": 5
}
