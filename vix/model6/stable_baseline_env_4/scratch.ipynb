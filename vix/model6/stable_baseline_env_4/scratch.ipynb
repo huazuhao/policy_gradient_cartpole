{
 "cells": [
  {
   "cell_type": "code",
   "execution_count": 1,
   "id": "b65f9487",
   "metadata": {},
   "outputs": [],
   "source": [
    "from stable_baselines3 import A2C"
   ]
  },
  {
   "cell_type": "code",
   "execution_count": 4,
   "id": "363fa39f",
   "metadata": {},
   "outputs": [],
   "source": [
    "model = A2C.load('./a2c_data/best_model.zip')"
   ]
  },
  {
   "cell_type": "code",
   "execution_count": 5,
   "id": "8cb049c8",
   "metadata": {},
   "outputs": [
    {
     "data": {
      "text/plain": [
       "ActorCriticPolicy(\n",
       "  (features_extractor): FlattenExtractor(\n",
       "    (flatten): Flatten(start_dim=1, end_dim=-1)\n",
       "  )\n",
       "  (mlp_extractor): MlpExtractor(\n",
       "    (shared_net): Sequential()\n",
       "    (policy_net): Sequential(\n",
       "      (0): Linear(in_features=6, out_features=64, bias=True)\n",
       "      (1): Tanh()\n",
       "      (2): Linear(in_features=64, out_features=64, bias=True)\n",
       "      (3): Tanh()\n",
       "    )\n",
       "    (value_net): Sequential(\n",
       "      (0): Linear(in_features=6, out_features=64, bias=True)\n",
       "      (1): Tanh()\n",
       "      (2): Linear(in_features=64, out_features=64, bias=True)\n",
       "      (3): Tanh()\n",
       "    )\n",
       "  )\n",
       "  (action_net): Linear(in_features=64, out_features=1, bias=True)\n",
       "  (value_net): Linear(in_features=64, out_features=1, bias=True)\n",
       ")"
      ]
     },
     "execution_count": 5,
     "metadata": {},
     "output_type": "execute_result"
    }
   ],
   "source": [
    "model.policy"
   ]
  },
  {
   "cell_type": "code",
   "execution_count": 19,
   "id": "c747b1ff",
   "metadata": {},
   "outputs": [
    {
     "data": {
      "text/plain": [
       "OrderedDict([('0.weight',\n",
       "              tensor([[-7.4997e-02, -7.1656e-02, -1.8552e-01,  6.9454e-02,  1.5652e-01,\n",
       "                        7.5606e-02],\n",
       "                      [ 1.6535e-02,  2.1409e-01,  2.6701e-01,  3.6273e-02, -1.0511e-01,\n",
       "                       -7.1688e-02],\n",
       "                      [-4.3036e-02,  2.1788e-02,  7.7800e-02, -9.6995e-02,  9.9836e-02,\n",
       "                       -4.6026e-02],\n",
       "                      [ 2.8914e-01,  5.0495e-02, -1.2954e-01, -2.2032e-01,  1.2066e-02,\n",
       "                        2.6135e-01],\n",
       "                      [ 8.6101e-02,  2.8967e-02, -2.1447e-01,  3.5806e-01, -1.7500e-01,\n",
       "                        2.8005e-02],\n",
       "                      [-3.0088e-01,  1.2130e-01,  2.7908e-01, -1.5013e-01, -3.0338e-01,\n",
       "                        8.0048e-02],\n",
       "                      [ 2.5571e-01,  1.7067e-01,  2.2803e-01,  4.4221e-02, -2.2161e-01,\n",
       "                       -1.2461e-01],\n",
       "                      [ 1.1604e-01,  2.5096e-01,  3.1951e-03, -1.0752e-01, -1.1088e-01,\n",
       "                       -1.0800e-01],\n",
       "                      [-9.4377e-04,  9.7397e-02,  1.6514e-04,  1.6829e-01, -7.5878e-02,\n",
       "                       -6.7063e-02],\n",
       "                      [-1.0548e-01, -3.2749e-01, -8.8548e-02,  9.2507e-02, -1.2891e-01,\n",
       "                       -1.5709e-02],\n",
       "                      [ 8.9004e-02,  4.0117e-02,  1.2315e-01,  1.9493e-01, -2.1563e-01,\n",
       "                        9.2091e-02],\n",
       "                      [-3.0884e-02,  6.3105e-02,  1.1667e-01, -2.6048e-01, -3.7250e-04,\n",
       "                        4.3319e-02],\n",
       "                      [-7.3808e-02,  1.5044e-01, -2.9561e-02, -3.1668e-01,  1.5438e-01,\n",
       "                        1.1983e-01],\n",
       "                      [ 2.0972e-01, -2.8431e-01, -8.9963e-04, -2.4440e-02,  2.3684e-01,\n",
       "                        3.7104e-01],\n",
       "                      [ 3.8562e-02, -7.0320e-02,  8.2098e-02,  2.6240e-01,  1.8006e-01,\n",
       "                        3.6955e-01],\n",
       "                      [-2.2536e-01,  3.4697e-01, -1.9468e-01, -1.2015e-01,  2.1414e-01,\n",
       "                        6.5692e-02],\n",
       "                      [ 3.3741e-01, -1.2131e-01,  1.3072e-01, -1.5775e-02, -1.3927e-01,\n",
       "                        9.0532e-02],\n",
       "                      [ 3.1060e-01, -2.2693e-01,  1.5921e-01, -6.7930e-02,  5.1682e-02,\n",
       "                       -1.8871e-01],\n",
       "                      [ 3.9726e-01, -5.9504e-02, -1.3066e-01,  9.5984e-02,  3.4585e-01,\n",
       "                        1.2512e-01],\n",
       "                      [-5.6170e-02,  2.0080e-01, -1.3541e-01, -3.5271e-02, -1.6339e-01,\n",
       "                       -3.7231e-02],\n",
       "                      [ 7.7737e-02,  8.9852e-02, -3.5995e-01, -1.4103e-01, -3.6484e-01,\n",
       "                       -2.6801e-03],\n",
       "                      [-2.3692e-02, -1.8429e-01, -1.3436e-01,  5.0338e-02, -6.7394e-02,\n",
       "                       -2.2830e-01],\n",
       "                      [ 1.5022e-03,  1.0006e-01,  2.9346e-01,  2.5992e-01, -1.0567e-02,\n",
       "                       -1.4850e-01],\n",
       "                      [ 7.2850e-02,  5.3663e-02,  1.3587e-01, -2.4850e-02,  2.1146e-01,\n",
       "                        1.4019e-01],\n",
       "                      [-9.6018e-02, -3.3121e-01,  2.6012e-01, -1.0653e-01, -3.5221e-02,\n",
       "                       -9.2198e-02],\n",
       "                      [-1.2315e-02,  2.8461e-02,  1.5727e-01,  6.7072e-02,  2.6754e-01,\n",
       "                        9.2563e-02],\n",
       "                      [ 1.0671e-01, -2.0423e-01, -6.7260e-02,  2.6191e-01, -1.5451e-02,\n",
       "                       -1.4244e-01],\n",
       "                      [ 3.5812e-01, -1.3360e-01, -3.7364e-02, -2.3440e-01,  5.8339e-02,\n",
       "                        3.3089e-01],\n",
       "                      [-1.5596e-01,  3.1266e-02,  2.2445e-01, -2.4189e-01,  4.3484e-02,\n",
       "                        1.1503e-01],\n",
       "                      [ 3.0613e-01,  3.2858e-01, -1.0993e-01,  2.3239e-01,  4.0483e-01,\n",
       "                       -3.9091e-02],\n",
       "                      [-4.3895e-02, -7.6952e-02,  1.1014e-01,  1.2839e-01, -3.2937e-02,\n",
       "                        1.7534e-01],\n",
       "                      [ 4.7924e-03, -1.5338e-01, -1.7068e-01, -7.8693e-02, -2.4220e-02,\n",
       "                        2.4117e-01],\n",
       "                      [-9.5465e-02, -2.1262e-01,  1.7010e-01,  3.2717e-01,  6.4702e-02,\n",
       "                        1.4894e-01],\n",
       "                      [-3.3505e-01, -7.4829e-02,  1.2045e-01,  1.8902e-01,  1.2725e-01,\n",
       "                        1.6477e-01],\n",
       "                      [-1.0172e-01, -3.4005e-01, -2.3691e-01, -4.0697e-02,  1.4485e-01,\n",
       "                        4.0885e-02],\n",
       "                      [ 1.6919e-01, -2.2304e-01,  1.8421e-01, -2.6615e-01, -3.9361e-02,\n",
       "                        1.1779e-01],\n",
       "                      [-8.8467e-03, -1.6774e-01,  2.7224e-02, -9.6628e-02, -9.5885e-02,\n",
       "                       -3.2915e-02],\n",
       "                      [-1.6977e-01, -1.8275e-02, -3.1219e-01, -1.8981e-02,  1.7461e-01,\n",
       "                       -4.7879e-02],\n",
       "                      [-2.5584e-01, -3.8241e-02, -3.1147e-02, -8.3179e-02,  1.9986e-01,\n",
       "                       -8.0678e-02],\n",
       "                      [ 2.2976e-01,  2.6541e-01,  3.4799e-01,  2.7030e-02,  3.5826e-02,\n",
       "                       -2.6781e-01],\n",
       "                      [ 1.2847e-01, -1.8382e-01,  1.1319e-01, -2.1756e-02,  1.4438e-01,\n",
       "                       -2.6841e-01],\n",
       "                      [-2.3968e-01, -4.7255e-02, -7.2090e-02,  1.3392e-02,  1.0199e-01,\n",
       "                       -1.3002e-01],\n",
       "                      [-2.0772e-01,  2.3523e-02, -1.0311e-01,  2.9885e-02, -2.3610e-01,\n",
       "                       -5.8589e-03],\n",
       "                      [-4.4843e-02,  7.6356e-02,  9.8550e-02,  5.3072e-01, -2.4683e-01,\n",
       "                        1.0339e-01],\n",
       "                      [-4.6910e-01,  1.4297e-01,  1.5651e-01, -2.0745e-01,  3.4289e-02,\n",
       "                       -1.1803e-01],\n",
       "                      [ 4.9359e-04, -3.3316e-02,  1.4430e-01,  6.5795e-02,  9.2331e-02,\n",
       "                        1.8595e-01],\n",
       "                      [-7.9191e-02, -6.7110e-02, -4.8753e-01,  3.0822e-01,  2.7353e-02,\n",
       "                       -1.8150e-01],\n",
       "                      [-1.0343e-01,  1.1075e-01,  2.7524e-01, -2.3402e-01,  2.9579e-01,\n",
       "                        1.0418e-01],\n",
       "                      [ 2.0853e-01, -1.1248e-01, -8.0660e-02, -2.6487e-01, -1.7513e-01,\n",
       "                       -1.7405e-01],\n",
       "                      [ 7.7522e-02, -3.4616e-01,  1.1940e-01, -8.0108e-02, -1.6026e-01,\n",
       "                       -3.6523e-01],\n",
       "                      [-1.4279e-01, -1.6315e-01, -1.7683e-02,  8.4744e-02, -1.1745e-01,\n",
       "                        1.2357e-01],\n",
       "                      [-1.1952e-01, -3.0470e-01, -9.0919e-03, -3.3586e-02,  2.7048e-01,\n",
       "                       -4.3518e-01],\n",
       "                      [ 1.8303e-01,  2.7106e-01, -8.6973e-02, -1.2819e-01,  3.0639e-01,\n",
       "                       -1.7271e-02],\n",
       "                      [-2.7036e-02, -7.2435e-02, -2.4723e-01, -3.7441e-01, -4.6818e-02,\n",
       "                       -1.9879e-01],\n",
       "                      [-8.7667e-02, -1.9289e-01, -1.3658e-01, -1.1995e-01,  1.9398e-01,\n",
       "                        3.1575e-01],\n",
       "                      [ 1.8842e-01, -2.6580e-01,  1.4320e-01,  1.0667e-01,  3.1964e-01,\n",
       "                       -3.3563e-01],\n",
       "                      [ 4.6658e-02, -2.0189e-01,  2.0896e-01, -2.0993e-02, -1.0474e-01,\n",
       "                       -4.3578e-02],\n",
       "                      [-1.5033e-02, -1.0851e-01, -6.1395e-02,  1.2221e-01, -3.6292e-01,\n",
       "                        2.0569e-01],\n",
       "                      [-3.0840e-02, -7.3441e-02,  1.0554e-01,  4.0634e-01,  1.0059e-01,\n",
       "                        4.0174e-02],\n",
       "                      [-1.7586e-01, -4.6506e-02,  1.3060e-01,  1.1084e-01,  1.8764e-01,\n",
       "                        7.7119e-02],\n",
       "                      [ 1.0307e-01,  1.8355e-01, -2.7433e-01,  2.0230e-01,  1.7911e-02,\n",
       "                       -1.0295e-01],\n",
       "                      [-5.2227e-02,  1.2270e-01, -1.5759e-02,  7.3626e-02,  1.1601e-01,\n",
       "                       -1.3874e-01],\n",
       "                      [-1.3793e-01, -6.8102e-02, -1.6965e-02, -2.7679e-02,  2.3338e-01,\n",
       "                       -2.8334e-01],\n",
       "                      [ 7.3548e-02,  1.5363e-01, -1.1352e-01,  1.2770e-01,  1.3908e-01,\n",
       "                       -2.2857e-01]], device='cuda:0')),\n",
       "             ('0.bias',\n",
       "              tensor([ 3.4941e-03,  1.5172e-03,  1.2578e-02,  4.5861e-03,  6.4961e-04,\n",
       "                       8.0915e-05, -1.1884e-03, -6.4047e-03, -3.0102e-03, -1.7882e-06,\n",
       "                       1.7488e-03, -1.2950e-02, -7.6943e-04,  3.3654e-05,  1.3578e-03,\n",
       "                      -2.1314e-04, -4.6557e-03,  5.5389e-03, -7.4164e-09,  1.4513e-03,\n",
       "                      -7.3120e-04, -3.6613e-05, -7.4522e-04,  5.0242e-05,  5.5346e-04,\n",
       "                       3.3064e-04,  7.7965e-03,  7.4937e-03,  2.1628e-03, -2.1906e-10,\n",
       "                       3.5223e-04, -1.6133e-04, -3.8950e-03,  8.8845e-03,  5.3990e-03,\n",
       "                      -7.7117e-03, -2.4308e-03, -6.1898e-03,  5.0212e-03, -5.7398e-08,\n",
       "                      -1.3010e-05,  4.0617e-03, -5.3434e-07, -1.1576e-03, -3.8708e-03,\n",
       "                       4.7855e-03,  8.2756e-04, -1.0990e-03,  2.1597e-04, -3.5755e-03,\n",
       "                      -2.2874e-06, -2.5982e-03,  1.5771e-07, -1.8367e-05,  1.6875e-03,\n",
       "                      -1.6390e-06,  1.1078e-03,  1.7008e-04, -1.7273e-03, -3.6280e-03,\n",
       "                       3.3089e-03,  4.9079e-03,  9.9645e-04,  1.9366e-04], device='cuda:0')),\n",
       "             ('2.weight',\n",
       "              tensor([[ 0.2974, -0.1984, -0.1298,  ...,  0.0555, -0.0219, -0.0784],\n",
       "                      [ 0.2922,  0.0202,  0.0738,  ..., -0.3159,  0.1183,  0.0986],\n",
       "                      [-0.1594, -0.2665, -0.1918,  ...,  0.0084, -0.1241,  0.1879],\n",
       "                      ...,\n",
       "                      [ 0.0415, -0.0378,  0.0478,  ..., -0.1227,  0.0056, -0.1499],\n",
       "                      [-0.0821,  0.0084,  0.3496,  ..., -0.1096, -0.1608,  0.0949],\n",
       "                      [ 0.1582, -0.0109, -0.3043,  ..., -0.0332,  0.0077,  0.1679]],\n",
       "                     device='cuda:0')),\n",
       "             ('2.bias',\n",
       "              tensor([-7.7870e-03,  9.3543e-03,  8.1802e-03, -4.9243e-03, -1.8453e-03,\n",
       "                       3.1672e-03,  5.3622e-04, -1.7711e-04,  6.2850e-05, -2.6554e-04,\n",
       "                       2.3796e-03, -3.3517e-03, -2.7627e-03, -4.8075e-03, -2.3568e-03,\n",
       "                       8.3592e-05, -3.8043e-03, -3.2092e-03,  1.0121e-02, -1.6067e-02,\n",
       "                       1.5616e-02, -2.0989e-03, -1.1635e-02, -4.3808e-03,  1.3393e-02,\n",
       "                      -1.0809e-03, -3.9962e-03,  5.2063e-03, -1.9829e-03, -9.0402e-04,\n",
       "                      -3.6041e-03,  5.2551e-04, -4.0315e-03, -1.8447e-02, -5.5547e-03,\n",
       "                      -1.0652e-03, -4.6737e-03, -8.8728e-03, -9.1371e-04,  1.8848e-03,\n",
       "                       1.3115e-02,  1.1890e-02, -6.3132e-04, -2.0033e-03, -1.7392e-03,\n",
       "                      -1.5460e-03, -1.0407e-02,  7.9263e-03, -1.8289e-03, -1.2359e-03,\n",
       "                       1.3406e-03,  1.1463e-02,  3.8315e-03, -5.0845e-03, -2.7899e-03,\n",
       "                      -1.7175e-03,  8.8807e-03, -1.0771e-03, -5.2280e-04,  4.5891e-03,\n",
       "                      -2.2178e-04, -6.4318e-03,  6.5769e-03, -1.6853e-02], device='cuda:0'))])"
      ]
     },
     "execution_count": 19,
     "metadata": {},
     "output_type": "execute_result"
    }
   ],
   "source": [
    "model.policy.mlp_extractor.policy_net.state_dict()"
   ]
  },
  {
   "cell_type": "code",
   "execution_count": 20,
   "id": "51481af2",
   "metadata": {},
   "outputs": [
    {
     "data": {
      "text/plain": [
       "OrderedDict([('weight',\n",
       "              tensor([[-0.0898, -0.0683,  0.1033,  0.0189, -0.0018,  0.0369,  0.0050,  0.0052,\n",
       "                        0.0023, -0.0043,  0.0411,  0.0046,  0.0139,  0.0360, -0.1134, -0.0010,\n",
       "                       -0.0783, -0.0165, -0.0386,  0.0580, -0.0289,  0.0471, -0.0400,  0.0195,\n",
       "                        0.0975,  0.0609,  0.0565,  0.0697,  0.0218,  0.0065, -0.0030, -0.0203,\n",
       "                       -0.0351,  0.0201, -0.0374, -0.0489,  0.0477,  0.0409, -0.0010,  0.0638,\n",
       "                       -0.0338, -0.0802,  0.0409,  0.0086, -0.0410,  0.0709,  0.0491, -0.0138,\n",
       "                       -0.0035, -0.0059,  0.0071,  0.0386, -0.0429,  0.0480,  0.0058,  0.0353,\n",
       "                        0.0413,  0.0372, -0.0298,  0.0615,  0.1091, -0.0243, -0.0474, -0.0777]],\n",
       "                     device='cuda:0')),\n",
       "             ('bias', tensor([0.0078], device='cuda:0'))])"
      ]
     },
     "execution_count": 20,
     "metadata": {},
     "output_type": "execute_result"
    }
   ],
   "source": [
    "model.policy.action_net.state_dict()"
   ]
  },
  {
   "cell_type": "code",
   "execution_count": 17,
   "id": "85114596",
   "metadata": {},
   "outputs": [
    {
     "data": {
      "text/plain": [
       "<generator object Module.parameters at 0x7f7e703ad550>"
      ]
     },
     "execution_count": 17,
     "metadata": {},
     "output_type": "execute_result"
    }
   ],
   "source": [
    "model.policy.mlp_extractor.policy_net.parameters()"
   ]
  },
  {
   "cell_type": "code",
   "execution_count": 7,
   "id": "5a67c3cd",
   "metadata": {},
   "outputs": [
    {
     "data": {
      "text/plain": [
       "ActorCriticPolicy(\n",
       "  (features_extractor): FlattenExtractor(\n",
       "    (flatten): Flatten(start_dim=1, end_dim=-1)\n",
       "  )\n",
       "  (mlp_extractor): MlpExtractor(\n",
       "    (shared_net): Sequential()\n",
       "    (policy_net): Sequential(\n",
       "      (0): Linear(in_features=6, out_features=64, bias=True)\n",
       "      (1): Tanh()\n",
       "      (2): Linear(in_features=64, out_features=64, bias=True)\n",
       "      (3): Tanh()\n",
       "    )\n",
       "    (value_net): Sequential(\n",
       "      (0): Linear(in_features=6, out_features=64, bias=True)\n",
       "      (1): Tanh()\n",
       "      (2): Linear(in_features=64, out_features=64, bias=True)\n",
       "      (3): Tanh()\n",
       "    )\n",
       "  )\n",
       "  (action_net): Linear(in_features=64, out_features=1, bias=True)\n",
       "  (value_net): Linear(in_features=64, out_features=1, bias=True)\n",
       ")"
      ]
     },
     "execution_count": 7,
     "metadata": {},
     "output_type": "execute_result"
    }
   ],
   "source": [
    "model.policy"
   ]
  },
  {
   "cell_type": "code",
   "execution_count": 6,
   "id": "23f243f5",
   "metadata": {},
   "outputs": [],
   "source": [
    "model = A2C.load('./ppo_data/best_model.zip')"
   ]
  },
  {
   "cell_type": "code",
   "execution_count": 7,
   "id": "d2244624",
   "metadata": {},
   "outputs": [],
   "source": [
    "import trading_vix_env"
   ]
  },
  {
   "cell_type": "code",
   "execution_count": 8,
   "id": "7205a487",
   "metadata": {},
   "outputs": [
    {
     "name": "stderr",
     "output_type": "stream",
     "text": [
      "/home/zuhao/anaconda2/envs/p37/lib/python3.7/site-packages/gym/logger.py:30: UserWarning: \u001b[33mWARN: Box bound precision lowered by casting to float32\u001b[0m\n",
      "  warnings.warn(colorize('%s: %s'%('WARN', msg % args), 'yellow'))\n"
     ]
    }
   ],
   "source": [
    "local_env = trading_vix_env.trading_vix_env()"
   ]
  },
  {
   "cell_type": "code",
   "execution_count": 9,
   "id": "1d76fa8b",
   "metadata": {},
   "outputs": [
    {
     "data": {
      "text/html": [
       "<div>\n",
       "<style scoped>\n",
       "    .dataframe tbody tr th:only-of-type {\n",
       "        vertical-align: middle;\n",
       "    }\n",
       "\n",
       "    .dataframe tbody tr th {\n",
       "        vertical-align: top;\n",
       "    }\n",
       "\n",
       "    .dataframe thead th {\n",
       "        text-align: right;\n",
       "    }\n",
       "</style>\n",
       "<table border=\"1\" class=\"dataframe\">\n",
       "  <thead>\n",
       "    <tr style=\"text-align: right;\">\n",
       "      <th></th>\n",
       "      <th>vix_price_adj_close</th>\n",
       "      <th>vix_adj_close</th>\n",
       "      <th>mv_ratio</th>\n",
       "      <th>days_since_5</th>\n",
       "      <th>days_since_6</th>\n",
       "      <th>days_since_7</th>\n",
       "    </tr>\n",
       "  </thead>\n",
       "  <tbody>\n",
       "    <tr>\n",
       "      <th>0</th>\n",
       "      <td>172.000000</td>\n",
       "      <td>11.070000</td>\n",
       "      <td>5.049115</td>\n",
       "      <td>4</td>\n",
       "      <td>34</td>\n",
       "      <td>167</td>\n",
       "    </tr>\n",
       "    <tr>\n",
       "      <th>1</th>\n",
       "      <td>180.479996</td>\n",
       "      <td>12.540000</td>\n",
       "      <td>5.649338</td>\n",
       "      <td>5</td>\n",
       "      <td>35</td>\n",
       "      <td>168</td>\n",
       "    </tr>\n",
       "    <tr>\n",
       "      <th>2</th>\n",
       "      <td>174.559998</td>\n",
       "      <td>11.190000</td>\n",
       "      <td>5.036545</td>\n",
       "      <td>6</td>\n",
       "      <td>36</td>\n",
       "      <td>169</td>\n",
       "    </tr>\n",
       "    <tr>\n",
       "      <th>3</th>\n",
       "      <td>170.080002</td>\n",
       "      <td>11.110000</td>\n",
       "      <td>4.999308</td>\n",
       "      <td>7</td>\n",
       "      <td>37</td>\n",
       "      <td>170</td>\n",
       "    </tr>\n",
       "    <tr>\n",
       "      <th>4</th>\n",
       "      <td>169.600006</td>\n",
       "      <td>10.890000</td>\n",
       "      <td>4.906989</td>\n",
       "      <td>8</td>\n",
       "      <td>38</td>\n",
       "      <td>171</td>\n",
       "    </tr>\n",
       "    <tr>\n",
       "      <th>...</th>\n",
       "      <td>...</td>\n",
       "      <td>...</td>\n",
       "      <td>...</td>\n",
       "      <td>...</td>\n",
       "      <td>...</td>\n",
       "      <td>...</td>\n",
       "    </tr>\n",
       "    <tr>\n",
       "      <th>995</th>\n",
       "      <td>26.090000</td>\n",
       "      <td>17.750000</td>\n",
       "      <td>4.863391</td>\n",
       "      <td>22</td>\n",
       "      <td>26</td>\n",
       "      <td>99</td>\n",
       "    </tr>\n",
       "    <tr>\n",
       "      <th>996</th>\n",
       "      <td>28.360001</td>\n",
       "      <td>20.700001</td>\n",
       "      <td>5.593985</td>\n",
       "      <td>1</td>\n",
       "      <td>27</td>\n",
       "      <td>100</td>\n",
       "    </tr>\n",
       "    <tr>\n",
       "      <th>997</th>\n",
       "      <td>26.500000</td>\n",
       "      <td>17.889999</td>\n",
       "      <td>4.839229</td>\n",
       "      <td>2</td>\n",
       "      <td>28</td>\n",
       "      <td>101</td>\n",
       "    </tr>\n",
       "    <tr>\n",
       "      <th>998</th>\n",
       "      <td>25.270000</td>\n",
       "      <td>16.660000</td>\n",
       "      <td>4.535959</td>\n",
       "      <td>3</td>\n",
       "      <td>29</td>\n",
       "      <td>102</td>\n",
       "    </tr>\n",
       "    <tr>\n",
       "      <th>999</th>\n",
       "      <td>24.770000</td>\n",
       "      <td>16.320000</td>\n",
       "      <td>4.476456</td>\n",
       "      <td>4</td>\n",
       "      <td>30</td>\n",
       "      <td>103</td>\n",
       "    </tr>\n",
       "  </tbody>\n",
       "</table>\n",
       "<p>1000 rows × 6 columns</p>\n",
       "</div>"
      ],
      "text/plain": [
       "     vix_price_adj_close  vix_adj_close  mv_ratio  days_since_5  days_since_6  \\\n",
       "0             172.000000      11.070000  5.049115             4            34   \n",
       "1             180.479996      12.540000  5.649338             5            35   \n",
       "2             174.559998      11.190000  5.036545             6            36   \n",
       "3             170.080002      11.110000  4.999308             7            37   \n",
       "4             169.600006      10.890000  4.906989             8            38   \n",
       "..                   ...            ...       ...           ...           ...   \n",
       "995            26.090000      17.750000  4.863391            22            26   \n",
       "996            28.360001      20.700001  5.593985             1            27   \n",
       "997            26.500000      17.889999  4.839229             2            28   \n",
       "998            25.270000      16.660000  4.535959             3            29   \n",
       "999            24.770000      16.320000  4.476456             4            30   \n",
       "\n",
       "     days_since_7  \n",
       "0             167  \n",
       "1             168  \n",
       "2             169  \n",
       "3             170  \n",
       "4             171  \n",
       "..            ...  \n",
       "995            99  \n",
       "996           100  \n",
       "997           101  \n",
       "998           102  \n",
       "999           103  \n",
       "\n",
       "[1000 rows x 6 columns]"
      ]
     },
     "execution_count": 9,
     "metadata": {},
     "output_type": "execute_result"
    }
   ],
   "source": [
    "local_env.index_feature_dataframe"
   ]
  },
  {
   "cell_type": "code",
   "execution_count": 10,
   "id": "6848a397",
   "metadata": {},
   "outputs": [
    {
     "data": {
      "text/plain": [
       "array([15.43      ,  4.27698997, 16.        , 39.        , 34.        ,\n",
       "        0.        ])"
      ]
     },
     "execution_count": 10,
     "metadata": {},
     "output_type": "execute_result"
    }
   ],
   "source": [
    "local_env.reset()"
   ]
  },
  {
   "cell_type": "code",
   "execution_count": 11,
   "id": "1b738715",
   "metadata": {},
   "outputs": [
    {
     "data": {
      "text/plain": [
       "404"
      ]
     },
     "execution_count": 11,
     "metadata": {},
     "output_type": "execute_result"
    }
   ],
   "source": [
    "local_env.current_time_index"
   ]
  },
  {
   "cell_type": "code",
   "execution_count": 13,
   "id": "b76b6a18",
   "metadata": {},
   "outputs": [
    {
     "data": {
      "text/html": [
       "<div>\n",
       "<style scoped>\n",
       "    .dataframe tbody tr th:only-of-type {\n",
       "        vertical-align: middle;\n",
       "    }\n",
       "\n",
       "    .dataframe tbody tr th {\n",
       "        vertical-align: top;\n",
       "    }\n",
       "\n",
       "    .dataframe thead th {\n",
       "        text-align: right;\n",
       "    }\n",
       "</style>\n",
       "<table border=\"1\" class=\"dataframe\">\n",
       "  <thead>\n",
       "    <tr style=\"text-align: right;\">\n",
       "      <th></th>\n",
       "      <th>vix_price_adj_close</th>\n",
       "      <th>vix_adj_close</th>\n",
       "      <th>mv_ratio</th>\n",
       "      <th>days_since_5</th>\n",
       "      <th>days_since_6</th>\n",
       "      <th>days_since_7</th>\n",
       "    </tr>\n",
       "  </thead>\n",
       "  <tbody>\n",
       "    <tr>\n",
       "      <th>404</th>\n",
       "      <td>109.400002</td>\n",
       "      <td>15.430000</td>\n",
       "      <td>4.276990</td>\n",
       "      <td>16</td>\n",
       "      <td>39</td>\n",
       "      <td>34</td>\n",
       "    </tr>\n",
       "    <tr>\n",
       "      <th>405</th>\n",
       "      <td>109.040001</td>\n",
       "      <td>15.650000</td>\n",
       "      <td>4.371423</td>\n",
       "      <td>17</td>\n",
       "      <td>40</td>\n",
       "      <td>35</td>\n",
       "    </tr>\n",
       "    <tr>\n",
       "      <th>406</th>\n",
       "      <td>111.000000</td>\n",
       "      <td>16.219999</td>\n",
       "      <td>4.549964</td>\n",
       "      <td>18</td>\n",
       "      <td>41</td>\n",
       "      <td>36</td>\n",
       "    </tr>\n",
       "    <tr>\n",
       "      <th>407</th>\n",
       "      <td>107.239998</td>\n",
       "      <td>14.910000</td>\n",
       "      <td>4.226682</td>\n",
       "      <td>19</td>\n",
       "      <td>42</td>\n",
       "      <td>37</td>\n",
       "    </tr>\n",
       "    <tr>\n",
       "      <th>408</th>\n",
       "      <td>107.480003</td>\n",
       "      <td>14.880000</td>\n",
       "      <td>4.259364</td>\n",
       "      <td>20</td>\n",
       "      <td>43</td>\n",
       "      <td>38</td>\n",
       "    </tr>\n",
       "  </tbody>\n",
       "</table>\n",
       "</div>"
      ],
      "text/plain": [
       "     vix_price_adj_close  vix_adj_close  mv_ratio  days_since_5  days_since_6  \\\n",
       "404           109.400002      15.430000  4.276990            16            39   \n",
       "405           109.040001      15.650000  4.371423            17            40   \n",
       "406           111.000000      16.219999  4.549964            18            41   \n",
       "407           107.239998      14.910000  4.226682            19            42   \n",
       "408           107.480003      14.880000  4.259364            20            43   \n",
       "\n",
       "     days_since_7  \n",
       "404            34  \n",
       "405            35  \n",
       "406            36  \n",
       "407            37  \n",
       "408            38  "
      ]
     },
     "execution_count": 13,
     "metadata": {},
     "output_type": "execute_result"
    }
   ],
   "source": [
    "local_env.index_feature_dataframe.iloc[local_env.current_time_index:local_env.current_time_index+5]"
   ]
  },
  {
   "cell_type": "code",
   "execution_count": 20,
   "id": "bbdaa1d5",
   "metadata": {},
   "outputs": [
    {
     "data": {
      "text/plain": [
       "404    15.430000\n",
       "405    15.650000\n",
       "406    16.219999\n",
       "407    14.910000\n",
       "408    14.880000\n",
       "Name: vix_adj_close, dtype: float64"
      ]
     },
     "execution_count": 20,
     "metadata": {},
     "output_type": "execute_result"
    }
   ],
   "source": [
    "local_env.index_feature_dataframe.iloc[local_env.current_time_index:local_env.current_time_index+5]['vix_adj_close']"
   ]
  },
  {
   "cell_type": "code",
   "execution_count": 18,
   "id": "616af32d",
   "metadata": {},
   "outputs": [
    {
     "ename": "KeyError",
     "evalue": "0",
     "output_type": "error",
     "traceback": [
      "\u001b[0;31m---------------------------------------------------------------------------\u001b[0m",
      "\u001b[0;31mValueError\u001b[0m                                Traceback (most recent call last)",
      "\u001b[0;32m~/anaconda2/envs/p37/lib/python3.7/site-packages/pandas/core/indexes/range.py\u001b[0m in \u001b[0;36mget_loc\u001b[0;34m(self, key, method, tolerance)\u001b[0m\n\u001b[1;32m    354\u001b[0m                 \u001b[0;32mtry\u001b[0m\u001b[0;34m:\u001b[0m\u001b[0;34m\u001b[0m\u001b[0;34m\u001b[0m\u001b[0m\n\u001b[0;32m--> 355\u001b[0;31m                     \u001b[0;32mreturn\u001b[0m \u001b[0mself\u001b[0m\u001b[0;34m.\u001b[0m\u001b[0m_range\u001b[0m\u001b[0;34m.\u001b[0m\u001b[0mindex\u001b[0m\u001b[0;34m(\u001b[0m\u001b[0mnew_key\u001b[0m\u001b[0;34m)\u001b[0m\u001b[0;34m\u001b[0m\u001b[0;34m\u001b[0m\u001b[0m\n\u001b[0m\u001b[1;32m    356\u001b[0m                 \u001b[0;32mexcept\u001b[0m \u001b[0mValueError\u001b[0m \u001b[0;32mas\u001b[0m \u001b[0merr\u001b[0m\u001b[0;34m:\u001b[0m\u001b[0;34m\u001b[0m\u001b[0;34m\u001b[0m\u001b[0m\n",
      "\u001b[0;31mValueError\u001b[0m: 0 is not in range",
      "\nThe above exception was the direct cause of the following exception:\n",
      "\u001b[0;31mKeyError\u001b[0m                                  Traceback (most recent call last)",
      "\u001b[0;32m<ipython-input-18-2d91f464851e>\u001b[0m in \u001b[0;36m<module>\u001b[0;34m\u001b[0m\n\u001b[0;32m----> 1\u001b[0;31m \u001b[0mlocal_env\u001b[0m\u001b[0;34m.\u001b[0m\u001b[0mindex_feature_dataframe\u001b[0m\u001b[0;34m.\u001b[0m\u001b[0miloc\u001b[0m\u001b[0;34m[\u001b[0m\u001b[0mlocal_env\u001b[0m\u001b[0;34m.\u001b[0m\u001b[0mcurrent_time_index\u001b[0m\u001b[0;34m:\u001b[0m\u001b[0mlocal_env\u001b[0m\u001b[0;34m.\u001b[0m\u001b[0mcurrent_time_index\u001b[0m\u001b[0;34m+\u001b[0m\u001b[0;36m5\u001b[0m\u001b[0;34m]\u001b[0m\u001b[0;34m[\u001b[0m\u001b[0;34m'vix_adj_close'\u001b[0m\u001b[0;34m]\u001b[0m\u001b[0;34m[\u001b[0m\u001b[0;36m0\u001b[0m\u001b[0;34m]\u001b[0m\u001b[0;34m\u001b[0m\u001b[0;34m\u001b[0m\u001b[0m\n\u001b[0m",
      "\u001b[0;32m~/anaconda2/envs/p37/lib/python3.7/site-packages/pandas/core/series.py\u001b[0m in \u001b[0;36m__getitem__\u001b[0;34m(self, key)\u001b[0m\n\u001b[1;32m    880\u001b[0m \u001b[0;34m\u001b[0m\u001b[0m\n\u001b[1;32m    881\u001b[0m         \u001b[0;32melif\u001b[0m \u001b[0mkey_is_scalar\u001b[0m\u001b[0;34m:\u001b[0m\u001b[0;34m\u001b[0m\u001b[0;34m\u001b[0m\u001b[0m\n\u001b[0;32m--> 882\u001b[0;31m             \u001b[0;32mreturn\u001b[0m \u001b[0mself\u001b[0m\u001b[0;34m.\u001b[0m\u001b[0m_get_value\u001b[0m\u001b[0;34m(\u001b[0m\u001b[0mkey\u001b[0m\u001b[0;34m)\u001b[0m\u001b[0;34m\u001b[0m\u001b[0;34m\u001b[0m\u001b[0m\n\u001b[0m\u001b[1;32m    883\u001b[0m \u001b[0;34m\u001b[0m\u001b[0m\n\u001b[1;32m    884\u001b[0m         \u001b[0;32mif\u001b[0m \u001b[0mis_hashable\u001b[0m\u001b[0;34m(\u001b[0m\u001b[0mkey\u001b[0m\u001b[0;34m)\u001b[0m\u001b[0;34m:\u001b[0m\u001b[0;34m\u001b[0m\u001b[0;34m\u001b[0m\u001b[0m\n",
      "\u001b[0;32m~/anaconda2/envs/p37/lib/python3.7/site-packages/pandas/core/series.py\u001b[0m in \u001b[0;36m_get_value\u001b[0;34m(self, label, takeable)\u001b[0m\n\u001b[1;32m    987\u001b[0m \u001b[0;34m\u001b[0m\u001b[0m\n\u001b[1;32m    988\u001b[0m         \u001b[0;31m# Similar to Index.get_value, but we do not fall back to positional\u001b[0m\u001b[0;34m\u001b[0m\u001b[0;34m\u001b[0m\u001b[0;34m\u001b[0m\u001b[0m\n\u001b[0;32m--> 989\u001b[0;31m         \u001b[0mloc\u001b[0m \u001b[0;34m=\u001b[0m \u001b[0mself\u001b[0m\u001b[0;34m.\u001b[0m\u001b[0mindex\u001b[0m\u001b[0;34m.\u001b[0m\u001b[0mget_loc\u001b[0m\u001b[0;34m(\u001b[0m\u001b[0mlabel\u001b[0m\u001b[0;34m)\u001b[0m\u001b[0;34m\u001b[0m\u001b[0;34m\u001b[0m\u001b[0m\n\u001b[0m\u001b[1;32m    990\u001b[0m         \u001b[0;32mreturn\u001b[0m \u001b[0mself\u001b[0m\u001b[0;34m.\u001b[0m\u001b[0mindex\u001b[0m\u001b[0;34m.\u001b[0m\u001b[0m_get_values_for_loc\u001b[0m\u001b[0;34m(\u001b[0m\u001b[0mself\u001b[0m\u001b[0;34m,\u001b[0m \u001b[0mloc\u001b[0m\u001b[0;34m,\u001b[0m \u001b[0mlabel\u001b[0m\u001b[0;34m)\u001b[0m\u001b[0;34m\u001b[0m\u001b[0;34m\u001b[0m\u001b[0m\n\u001b[1;32m    991\u001b[0m \u001b[0;34m\u001b[0m\u001b[0m\n",
      "\u001b[0;32m~/anaconda2/envs/p37/lib/python3.7/site-packages/pandas/core/indexes/range.py\u001b[0m in \u001b[0;36mget_loc\u001b[0;34m(self, key, method, tolerance)\u001b[0m\n\u001b[1;32m    355\u001b[0m                     \u001b[0;32mreturn\u001b[0m \u001b[0mself\u001b[0m\u001b[0;34m.\u001b[0m\u001b[0m_range\u001b[0m\u001b[0;34m.\u001b[0m\u001b[0mindex\u001b[0m\u001b[0;34m(\u001b[0m\u001b[0mnew_key\u001b[0m\u001b[0;34m)\u001b[0m\u001b[0;34m\u001b[0m\u001b[0;34m\u001b[0m\u001b[0m\n\u001b[1;32m    356\u001b[0m                 \u001b[0;32mexcept\u001b[0m \u001b[0mValueError\u001b[0m \u001b[0;32mas\u001b[0m \u001b[0merr\u001b[0m\u001b[0;34m:\u001b[0m\u001b[0;34m\u001b[0m\u001b[0;34m\u001b[0m\u001b[0m\n\u001b[0;32m--> 357\u001b[0;31m                     \u001b[0;32mraise\u001b[0m \u001b[0mKeyError\u001b[0m\u001b[0;34m(\u001b[0m\u001b[0mkey\u001b[0m\u001b[0;34m)\u001b[0m \u001b[0;32mfrom\u001b[0m \u001b[0merr\u001b[0m\u001b[0;34m\u001b[0m\u001b[0;34m\u001b[0m\u001b[0m\n\u001b[0m\u001b[1;32m    358\u001b[0m             \u001b[0;32mraise\u001b[0m \u001b[0mKeyError\u001b[0m\u001b[0;34m(\u001b[0m\u001b[0mkey\u001b[0m\u001b[0;34m)\u001b[0m\u001b[0;34m\u001b[0m\u001b[0;34m\u001b[0m\u001b[0m\n\u001b[1;32m    359\u001b[0m         \u001b[0;32mreturn\u001b[0m \u001b[0msuper\u001b[0m\u001b[0;34m(\u001b[0m\u001b[0;34m)\u001b[0m\u001b[0;34m.\u001b[0m\u001b[0mget_loc\u001b[0m\u001b[0;34m(\u001b[0m\u001b[0mkey\u001b[0m\u001b[0;34m,\u001b[0m \u001b[0mmethod\u001b[0m\u001b[0;34m=\u001b[0m\u001b[0mmethod\u001b[0m\u001b[0;34m,\u001b[0m \u001b[0mtolerance\u001b[0m\u001b[0;34m=\u001b[0m\u001b[0mtolerance\u001b[0m\u001b[0;34m)\u001b[0m\u001b[0;34m\u001b[0m\u001b[0;34m\u001b[0m\u001b[0m\n",
      "\u001b[0;31mKeyError\u001b[0m: 0"
     ]
    }
   ],
   "source": [
    "local_env.index_feature_dataframe.iloc[local_env.current_time_index:local_env.current_time_index+5]['vix_adj_close']"
   ]
  },
  {
   "cell_type": "code",
   "execution_count": 16,
   "id": "83aa6909",
   "metadata": {},
   "outputs": [],
   "source": [
    "import numpy as np"
   ]
  },
  {
   "cell_type": "code",
   "execution_count": 17,
   "id": "006b43b5",
   "metadata": {},
   "outputs": [
    {
     "data": {
      "text/plain": [
       "15.417999799999999"
      ]
     },
     "execution_count": 17,
     "metadata": {},
     "output_type": "execute_result"
    }
   ],
   "source": [
    "np.mean(local_env.index_feature_dataframe.iloc[local_env.current_time_index:local_env.current_time_index+5]['vix_adj_close'])"
   ]
  },
  {
   "cell_type": "code",
   "execution_count": 1,
   "id": "bfb2d838",
   "metadata": {},
   "outputs": [],
   "source": [
    "import numpy as np"
   ]
  },
  {
   "cell_type": "code",
   "execution_count": 2,
   "id": "07a68001",
   "metadata": {},
   "outputs": [],
   "source": [
    "import trading_vix_env"
   ]
  },
  {
   "cell_type": "code",
   "execution_count": 3,
   "id": "ecc49dfd",
   "metadata": {},
   "outputs": [
    {
     "name": "stderr",
     "output_type": "stream",
     "text": [
      "/home/zuhao/anaconda2/envs/p37/lib/python3.7/site-packages/gym/logger.py:30: UserWarning: \u001b[33mWARN: Box bound precision lowered by casting to float32\u001b[0m\n",
      "  warnings.warn(colorize('%s: %s'%('WARN', msg % args), 'yellow'))\n"
     ]
    }
   ],
   "source": [
    "local_env = trading_vix_env.trading_vix_env()"
   ]
  },
  {
   "cell_type": "code",
   "execution_count": 4,
   "id": "c735641d",
   "metadata": {},
   "outputs": [],
   "source": [
    "state = local_env.reset()"
   ]
  },
  {
   "cell_type": "code",
   "execution_count": 5,
   "id": "56af2e97",
   "metadata": {},
   "outputs": [
    {
     "data": {
      "text/plain": [
       "numpy.ndarray"
      ]
     },
     "execution_count": 5,
     "metadata": {},
     "output_type": "execute_result"
    }
   ],
   "source": [
    "type(state)"
   ]
  },
  {
   "cell_type": "code",
   "execution_count": 6,
   "id": "bf88d78f",
   "metadata": {},
   "outputs": [
    {
     "data": {
      "text/plain": [
       "(6,)"
      ]
     },
     "execution_count": 6,
     "metadata": {},
     "output_type": "execute_result"
    }
   ],
   "source": [
    "state.shape"
   ]
  },
  {
   "cell_type": "code",
   "execution_count": 7,
   "id": "1832c5a4",
   "metadata": {},
   "outputs": [
    {
     "data": {
      "text/plain": [
       "array([ 14.82      ,   5.44956836,   1.        ,  62.        ,\n",
       "       103.        ,   0.        ])"
      ]
     },
     "execution_count": 7,
     "metadata": {},
     "output_type": "execute_result"
    }
   ],
   "source": [
    "state"
   ]
  },
  {
   "cell_type": "code",
   "execution_count": 8,
   "id": "36c23df3",
   "metadata": {},
   "outputs": [
    {
     "data": {
      "text/plain": [
       "array([ 14.82      ,   5.44956836,   1.        ,  62.        ,\n",
       "       103.        ,   0.        ])"
      ]
     },
     "execution_count": 8,
     "metadata": {},
     "output_type": "execute_result"
    }
   ],
   "source": [
    "np.reshape(state,(-1,))"
   ]
  },
  {
   "cell_type": "code",
   "execution_count": 9,
   "id": "2065c96e",
   "metadata": {},
   "outputs": [],
   "source": [
    "import gym\n",
    "env = gym.make('Pendulum-v0')"
   ]
  },
  {
   "cell_type": "code",
   "execution_count": 10,
   "id": "ff2c5f9a",
   "metadata": {},
   "outputs": [],
   "source": [
    "gym_state = env.reset()"
   ]
  },
  {
   "cell_type": "code",
   "execution_count": 11,
   "id": "7cab380d",
   "metadata": {},
   "outputs": [
    {
     "name": "stdout",
     "output_type": "stream",
     "text": [
      "<class 'numpy.ndarray'>\n",
      "(3,)\n"
     ]
    }
   ],
   "source": [
    "print(type(gym_state))\n",
    "print(gym_state.shape)"
   ]
  },
  {
   "cell_type": "code",
   "execution_count": 12,
   "id": "596e0b59",
   "metadata": {},
   "outputs": [
    {
     "data": {
      "text/plain": [
       "array([ 14.82      ,   5.44956836,   1.        ,  62.        ,\n",
       "       103.        ,   0.        ])"
      ]
     },
     "execution_count": 12,
     "metadata": {},
     "output_type": "execute_result"
    }
   ],
   "source": [
    "state"
   ]
  },
  {
   "cell_type": "code",
   "execution_count": 13,
   "id": "38e77f0c",
   "metadata": {},
   "outputs": [
    {
     "data": {
      "text/plain": [
       "(6,)"
      ]
     },
     "execution_count": 13,
     "metadata": {},
     "output_type": "execute_result"
    }
   ],
   "source": [
    "import numpy as np\n",
    "np.reshape(state,(-1,)).shape"
   ]
  },
  {
   "cell_type": "code",
   "execution_count": 14,
   "id": "c4355bf1",
   "metadata": {},
   "outputs": [],
   "source": [
    "from stable_baselines3.common.env_checker import check_env"
   ]
  },
  {
   "cell_type": "code",
   "execution_count": 15,
   "id": "b0e8d5ae",
   "metadata": {},
   "outputs": [
    {
     "name": "stderr",
     "output_type": "stream",
     "text": [
      "/home/zuhao/anaconda2/envs/p37/lib/python3.7/site-packages/gym/logger.py:30: UserWarning: \u001b[33mWARN: Box bound precision lowered by casting to float32\u001b[0m\n",
      "  warnings.warn(colorize('%s: %s'%('WARN', msg % args), 'yellow'))\n"
     ]
    }
   ],
   "source": [
    "vix_env = trading_vix_env.trading_vix_env()"
   ]
  },
  {
   "cell_type": "code",
   "execution_count": 16,
   "id": "0c54b356",
   "metadata": {},
   "outputs": [
    {
     "name": "stderr",
     "output_type": "stream",
     "text": [
      "/home/zuhao/anaconda2/envs/p37/lib/python3.7/site-packages/stable_baselines3/common/env_checker.py:232: UserWarning: We recommend you to use a symmetric and normalized Box action space (range=[-1, 1]) cf https://stable-baselines3.readthedocs.io/en/master/guide/rl_tips.html\n",
      "  \"We recommend you to use a symmetric and normalized Box action space (range=[-1, 1]) \"\n"
     ]
    }
   ],
   "source": [
    "check_env(vix_env, warn=True)"
   ]
  },
  {
   "cell_type": "code",
   "execution_count": 22,
   "id": "8f32ffc2",
   "metadata": {},
   "outputs": [],
   "source": [
    "#training"
   ]
  },
  {
   "cell_type": "code",
   "execution_count": 23,
   "id": "c58dc3b8",
   "metadata": {},
   "outputs": [],
   "source": [
    "vix_env = trading_vix_env.trading_vix_env()"
   ]
  },
  {
   "cell_type": "code",
   "execution_count": 24,
   "id": "febb635e",
   "metadata": {},
   "outputs": [
    {
     "data": {
      "text/plain": [
       "Box(0.0, 1.0, (1,), float32)"
      ]
     },
     "execution_count": 24,
     "metadata": {},
     "output_type": "execute_result"
    }
   ],
   "source": [
    "vix_env.action_space"
   ]
  },
  {
   "cell_type": "code",
   "execution_count": null,
   "id": "7b264596",
   "metadata": {},
   "outputs": [],
   "source": [
    "\n",
    "\n",
    "def make_env(env_id, rank, seed=0):\n",
    "    \"\"\"\n",
    "    Utility function for multiprocessed env.\n",
    "    \n",
    "    :param env_id: (str) the environment ID\n",
    "    :param num_env: (int) the number of environment you wish to have in subprocesses\n",
    "    :param seed: (int) the inital seed for RNG\n",
    "    :param rank: (int) index of the subprocess\n",
    "    \"\"\"\n",
    "    def _init():\n",
    "        env = gym.make(env_id)\n",
    "        env.seed(seed + rank)\n",
    "        return env\n",
    "\n",
    "    return _init"
   ]
  },
  {
   "cell_type": "code",
   "execution_count": null,
   "id": "c9c8699d",
   "metadata": {},
   "outputs": [],
   "source": [
    "from stable_baselines3.common.env_util import make_vec_env,SubprocVecEnv\n",
    "\n",
    "num_cpu = 10\n",
    "train_env = env = SubprocVecEnv([make_env(vix_env, i) for i in range(num_cpu)], start_method='spawn')"
   ]
  },
  {
   "cell_type": "code",
   "execution_count": null,
   "id": "8ae08b0d",
   "metadata": {},
   "outputs": [],
   "source": [
    "from stable_baselines3 import A2C\n",
    "from stable_baselines3.common.env_util import make_vec_env,SubprocVecEnv\n",
    "\n",
    "env = make_vec_env(trading_vix_env.trading_vix_env,n_envs = 10)\n",
    "model = A2C('MlpPolicy', env, verbose=1,n_steps = 10*201)\n",
    "model.learn(total_timesteps=1000000000)\n"
   ]
  },
  {
   "cell_type": "code",
   "execution_count": null,
   "id": "f291fecd",
   "metadata": {},
   "outputs": [],
   "source": [
    "def make_env(env_id, rank, seed=0):\n",
    "    \"\"\"\n",
    "    Utility function for multiprocessed env.\n",
    "\n",
    "    :param env_id: (str) the environment ID\n",
    "    :param num_env: (int) the number of environments you wish to have in subprocesses\n",
    "    :param seed: (int) the inital seed for RNG\n",
    "    :param rank: (int) index of the subprocess\n",
    "    \"\"\"\n",
    "    def _init():\n",
    "        env = gym.make(env_id)\n",
    "        env.seed(seed + rank)\n",
    "        return env\n",
    "    return _init\n",
    "\n",
    "def main():\n",
    "    env_id = trading_vix_env.trading_vix_env\n",
    "    num_cpu = 20  # Number of processes to use\n",
    "    # Create the vectorized environment\n",
    "    env = SubprocVecEnv([make_env(env_id, i) for i in range(num_cpu)])\n",
    "\n",
    "    model = A2C('MlpPolicy', env, verbose=1,n_steps = 201)\n",
    "    model.learn(total_timesteps=25000)\n",
    "\n",
    "    obs = env.reset()\n",
    "    for _ in range(1000):\n",
    "        action, _states = model.predict(obs)\n",
    "        obs, rewards, dones, info = env.step(action)\n",
    "        env.render()\n",
    "\n",
    "if __name__ == '__main__':\n",
    "    main()"
   ]
  },
  {
   "cell_type": "code",
   "execution_count": null,
   "id": "df594792",
   "metadata": {},
   "outputs": [],
   "source": [
    "import gym\n",
    "import numpy as np\n",
    "\n",
    "\n",
    "from stable_baselines3.common.vec_env import SubprocVecEnv\n",
    "\n",
    "\n",
    "def make_env(env_id, rank, seed=0):\n",
    "    \"\"\"\n",
    "    Utility function for multiprocessed env.\n",
    "\n",
    "    :param env_id: (str) the environment ID\n",
    "    :param num_env: (int) the number of environments you wish to have in subprocesses\n",
    "    :param seed: (int) the inital seed for RNG\n",
    "    :param rank: (int) index of the subprocess\n",
    "    \"\"\"\n",
    "    def _init():\n",
    "        env = gym.make(env_id)\n",
    "        env.seed(seed + rank)\n",
    "        return env\n",
    "    return _init\n",
    "\n",
    "def main():\n",
    "    env_id = \"CartPole-v1\"\n",
    "    num_cpu = 4  # Number of processes to use\n",
    "    # Create the vectorized environment\n",
    "    env = SubprocVecEnv([make_env(env_id, i) for i in range(num_cpu)])\n",
    "\n",
    "    model = A2C('MlpPolicy', env, verbose=1)\n",
    "    model.learn(total_timesteps=25000)\n",
    "\n",
    "    obs = env.reset()\n",
    "    for _ in range(1000):\n",
    "        action, _states = model.predict(obs)\n",
    "        obs, rewards, dones, info = env.step(action)\n",
    "        env.render()\n",
    "\n",
    "if __name__ == '__main__':\n",
    "    main()"
   ]
  },
  {
   "cell_type": "code",
   "execution_count": null,
   "id": "cee6c317",
   "metadata": {},
   "outputs": [],
   "source": []
  }
 ],
 "metadata": {
  "kernelspec": {
   "display_name": "Python 3.7.4 64-bit ('p37': conda)",
   "language": "python",
   "name": "python37464bitp37condace755f694755478c9bd95f16cbb10579"
  },
  "language_info": {
   "codemirror_mode": {
    "name": "ipython",
    "version": 3
   },
   "file_extension": ".py",
   "mimetype": "text/x-python",
   "name": "python",
   "nbconvert_exporter": "python",
   "pygments_lexer": "ipython3",
   "version": "3.7.4"
  }
 },
 "nbformat": 4,
 "nbformat_minor": 5
}
