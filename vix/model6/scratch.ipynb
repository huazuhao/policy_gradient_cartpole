{
 "cells": [
  {
   "cell_type": "code",
   "execution_count": 27,
   "id": "146b8ae7",
   "metadata": {},
   "outputs": [],
   "source": [
    "import trading_vix\n",
    "from scipy.stats import expon\n",
    "import numpy as np\n",
    "import matplotlib.pyplot as plt"
   ]
  },
  {
   "cell_type": "code",
   "execution_count": 28,
   "id": "9e8828e7",
   "metadata": {},
   "outputs": [],
   "source": [
    "local_env = trading_vix.trading_vix()"
   ]
  },
  {
   "cell_type": "code",
   "execution_count": 29,
   "id": "f8135e22",
   "metadata": {},
   "outputs": [],
   "source": [
    "current_env = local_env.reset()"
   ]
  },
  {
   "cell_type": "code",
   "execution_count": 30,
   "id": "72452887",
   "metadata": {},
   "outputs": [
    {
     "data": {
      "text/html": [
       "<div>\n",
       "<style scoped>\n",
       "    .dataframe tbody tr th:only-of-type {\n",
       "        vertical-align: middle;\n",
       "    }\n",
       "\n",
       "    .dataframe tbody tr th {\n",
       "        vertical-align: top;\n",
       "    }\n",
       "\n",
       "    .dataframe thead th {\n",
       "        text-align: right;\n",
       "    }\n",
       "</style>\n",
       "<table border=\"1\" class=\"dataframe\">\n",
       "  <thead>\n",
       "    <tr style=\"text-align: right;\">\n",
       "      <th></th>\n",
       "      <th>vix_price_adj_close</th>\n",
       "      <th>vix_adj_close</th>\n",
       "      <th>mv_ratio</th>\n",
       "      <th>days_since_5</th>\n",
       "      <th>days_since_6</th>\n",
       "      <th>days_since_7</th>\n",
       "    </tr>\n",
       "  </thead>\n",
       "  <tbody>\n",
       "    <tr>\n",
       "      <th>0</th>\n",
       "      <td>44.680000</td>\n",
       "      <td>10.39</td>\n",
       "      <td>4.723398</td>\n",
       "      <td>15</td>\n",
       "      <td>15</td>\n",
       "      <td>148</td>\n",
       "    </tr>\n",
       "    <tr>\n",
       "      <th>1</th>\n",
       "      <td>43.720001</td>\n",
       "      <td>10.16</td>\n",
       "      <td>4.637249</td>\n",
       "      <td>16</td>\n",
       "      <td>16</td>\n",
       "      <td>149</td>\n",
       "    </tr>\n",
       "    <tr>\n",
       "      <th>2</th>\n",
       "      <td>44.320000</td>\n",
       "      <td>10.70</td>\n",
       "      <td>4.881131</td>\n",
       "      <td>17</td>\n",
       "      <td>17</td>\n",
       "      <td>150</td>\n",
       "    </tr>\n",
       "    <tr>\n",
       "      <th>3</th>\n",
       "      <td>44.799999</td>\n",
       "      <td>11.46</td>\n",
       "      <td>5.196037</td>\n",
       "      <td>1</td>\n",
       "      <td>18</td>\n",
       "      <td>151</td>\n",
       "    </tr>\n",
       "    <tr>\n",
       "      <th>4</th>\n",
       "      <td>43.279999</td>\n",
       "      <td>10.42</td>\n",
       "      <td>4.737496</td>\n",
       "      <td>2</td>\n",
       "      <td>19</td>\n",
       "      <td>152</td>\n",
       "    </tr>\n",
       "  </tbody>\n",
       "</table>\n",
       "</div>"
      ],
      "text/plain": [
       "   vix_price_adj_close  vix_adj_close  mv_ratio  days_since_5  days_since_6  \\\n",
       "0            44.680000          10.39  4.723398            15            15   \n",
       "1            43.720001          10.16  4.637249            16            16   \n",
       "2            44.320000          10.70  4.881131            17            17   \n",
       "3            44.799999          11.46  5.196037             1            18   \n",
       "4            43.279999          10.42  4.737496             2            19   \n",
       "\n",
       "   days_since_7  \n",
       "0           148  \n",
       "1           149  \n",
       "2           150  \n",
       "3           151  \n",
       "4           152  "
      ]
     },
     "execution_count": 30,
     "metadata": {},
     "output_type": "execute_result"
    }
   ],
   "source": [
    "local_env.index_feature_dataframe.head()"
   ]
  },
  {
   "cell_type": "code",
   "execution_count": 31,
   "id": "99d2cf60",
   "metadata": {},
   "outputs": [
    {
     "data": {
      "text/plain": [
       "array([[ 11.07      ],\n",
       "       [  5.04911521],\n",
       "       [  4.        ],\n",
       "       [ 34.        ],\n",
       "       [167.        ],\n",
       "       [  0.        ]])"
      ]
     },
     "execution_count": 31,
     "metadata": {},
     "output_type": "execute_result"
    }
   ],
   "source": [
    "current_env"
   ]
  },
  {
   "cell_type": "code",
   "execution_count": 42,
   "id": "8f03e25b",
   "metadata": {},
   "outputs": [
    {
     "name": "stdout",
     "output_type": "stream",
     "text": [
      "9.14\n",
      "82.690002\n"
     ]
    }
   ],
   "source": [
    "#lambda_expon_0\n",
    "\n",
    "print(min(local_env.index_feature_dataframe['vix_adj_close']))\n",
    "print(max(local_env.index_feature_dataframe['vix_adj_close']))\n",
    "\n",
    "min_value = min(local_env.index_feature_dataframe['vix_adj_close'])\n",
    "max_value = max(local_env.index_feature_dataframe['vix_adj_close'])"
   ]
  },
  {
   "cell_type": "code",
   "execution_count": 46,
   "id": "bb7ba228",
   "metadata": {},
   "outputs": [
    {
     "data": {
      "image/png": "[encoded data removed]",
      "text/plain": [
       "<Figure size 432x288 with 1 Axes>"
      ]
     },
     "metadata": {
      "needs_background": "light"
     },
     "output_type": "display_data"
    }
   ],
   "source": [
    "\n",
    "\n",
    "parameter_value = 0.1\n",
    "\n",
    "x_plot = []\n",
    "y_plot = []\n",
    "\n",
    "for x_value in range(0,int(max_value)):\n",
    "    transformation = expon.cdf(x_value,scale = 1.0/parameter_value)\n",
    "    min_transformation = 0.1\n",
    "    transformation = min_transformation*np.exp(np.log(1.0/min_transformation)*transformation)\n",
    "    y_plot.append(transformation)\n",
    "    x_plot.append(x_value)\n",
    "\n",
    "plt.plot(x_plot,y_plot)\n",
    "\n",
    "plt.show()"
   ]
  },
  {
   "cell_type": "code",
   "execution_count": 47,
   "id": "01bef6ea",
   "metadata": {},
   "outputs": [
    {
     "data": {
      "image/png": "[encoded data removed]",
      "text/plain": [
       "<Figure size 432x288 with 1 Axes>"
      ]
     },
     "metadata": {
      "needs_background": "light"
     },
     "output_type": "display_data"
    }
   ],
   "source": [
    "\n",
    "\n",
    "parameter_value = 0.01\n",
    "\n",
    "x_plot = []\n",
    "y_plot = []\n",
    "\n",
    "for x_value in range(0,int(max_value)):\n",
    "    transformation = expon.cdf(x_value,scale = 1.0/parameter_value)\n",
    "    min_transformation = 0.1\n",
    "    transformation = min_transformation*np.exp(np.log(1.0/min_transformation)*transformation)\n",
    "    y_plot.append(transformation)\n",
    "    x_plot.append(x_value)\n",
    "\n",
    "plt.plot(x_plot,y_plot)\n",
    "\n",
    "plt.show()"
   ]
  },
  {
   "cell_type": "code",
   "execution_count": 51,
   "id": "737e0c86",
   "metadata": {},
   "outputs": [
    {
     "name": "stdout",
     "output_type": "stream",
     "text": [
      "3.814958087384502\n",
      "13.688822801607968\n"
     ]
    }
   ],
   "source": [
    "#lambda_expon_1\n",
    "\n",
    "print(min(local_env.index_feature_dataframe['mv_ratio']))\n",
    "print(max(local_env.index_feature_dataframe['mv_ratio']))\n",
    "\n",
    "min_value = min(local_env.index_feature_dataframe['mv_ratio'])\n",
    "max_value = max(local_env.index_feature_dataframe['mv_ratio'])"
   ]
  },
  {
   "cell_type": "code",
   "execution_count": 54,
   "id": "07482950",
   "metadata": {},
   "outputs": [
    {
     "data": {
      "image/png": "[encoded data removed]",
      "text/plain": [
       "<Figure size 432x288 with 1 Axes>"
      ]
     },
     "metadata": {
      "needs_background": "light"
     },
     "output_type": "display_data"
    }
   ],
   "source": [
    "\n",
    "\n",
    "parameter_value = 1\n",
    "\n",
    "x_plot = []\n",
    "y_plot = []\n",
    "\n",
    "for x_value in range(0,int(max_value)):\n",
    "    transformation = expon.cdf(x_value,scale = 1.0/parameter_value)\n",
    "    min_transformation = 0.1\n",
    "    transformation = min_transformation*np.exp(np.log(1.0/min_transformation)*transformation)\n",
    "    y_plot.append(transformation)\n",
    "    x_plot.append(x_value)\n",
    "\n",
    "plt.plot(x_plot,y_plot)\n",
    "\n",
    "plt.show()"
   ]
  },
  {
   "cell_type": "code",
   "execution_count": 55,
   "id": "10d87187",
   "metadata": {},
   "outputs": [
    {
     "data": {
      "image/png": "[encoded data removed]",
      "text/plain": [
       "<Figure size 432x288 with 1 Axes>"
      ]
     },
     "metadata": {
      "needs_background": "light"
     },
     "output_type": "display_data"
    }
   ],
   "source": [
    "\n",
    "\n",
    "parameter_value = 0.01\n",
    "\n",
    "x_plot = []\n",
    "y_plot = []\n",
    "\n",
    "for x_value in range(0,int(max_value)):\n",
    "    transformation = expon.cdf(x_value,scale = 1.0/parameter_value)\n",
    "    min_transformation = 0.1\n",
    "    transformation = min_transformation*np.exp(np.log(1.0/min_transformation)*transformation)\n",
    "    y_plot.append(transformation)\n",
    "    x_plot.append(x_value)\n",
    "\n",
    "plt.plot(x_plot,y_plot)\n",
    "\n",
    "plt.show()"
   ]
  },
  {
   "cell_type": "code",
   "execution_count": 56,
   "id": "63306f88",
   "metadata": {},
   "outputs": [
    {
     "name": "stdout",
     "output_type": "stream",
     "text": [
      "1\n",
      "48\n"
     ]
    }
   ],
   "source": [
    "#lambda_expon_2\n",
    "\n",
    "print(min(local_env.index_feature_dataframe['days_since_5']))\n",
    "print(max(local_env.index_feature_dataframe['days_since_5']))\n",
    "\n",
    "min_value = min(local_env.index_feature_dataframe['days_since_5'])\n",
    "max_value = max(local_env.index_feature_dataframe['days_since_5'])"
   ]
  },
  {
   "cell_type": "code",
   "execution_count": 59,
   "id": "45c13b1c",
   "metadata": {},
   "outputs": [
    {
     "data": {
      "image/png": "[encoded data removed]",
      "text/plain": [
       "<Figure size 432x288 with 1 Axes>"
      ]
     },
     "metadata": {
      "needs_background": "light"
     },
     "output_type": "display_data"
    }
   ],
   "source": [
    "\n",
    "\n",
    "parameter_value = 0.1\n",
    "\n",
    "x_plot = []\n",
    "y_plot = []\n",
    "\n",
    "for x_value in range(0,int(max_value)):\n",
    "    transformation = expon.cdf(x_value,scale = 1.0/parameter_value)\n",
    "    min_transformation = 0.1\n",
    "    transformation = min_transformation*np.exp(np.log(1.0/min_transformation)*transformation)\n",
    "    y_plot.append(transformation)\n",
    "    x_plot.append(x_value)\n",
    "\n",
    "plt.plot(x_plot,y_plot)\n",
    "\n",
    "plt.show()"
   ]
  },
  {
   "cell_type": "code",
   "execution_count": 60,
   "id": "f9a9a7ff",
   "metadata": {},
   "outputs": [
    {
     "data": {
      "image/png": "[encoded data removed]",
      "text/plain": [
       "<Figure size 432x288 with 1 Axes>"
      ]
     },
     "metadata": {
      "needs_background": "light"
     },
     "output_type": "display_data"
    }
   ],
   "source": [
    "\n",
    "\n",
    "parameter_value = 0.01\n",
    "\n",
    "x_plot = []\n",
    "y_plot = []\n",
    "\n",
    "for x_value in range(0,int(max_value)):\n",
    "    transformation = expon.cdf(x_value,scale = 1.0/parameter_value)\n",
    "    min_transformation = 0.1\n",
    "    transformation = min_transformation*np.exp(np.log(1.0/min_transformation)*transformation)\n",
    "    y_plot.append(transformation)\n",
    "    x_plot.append(x_value)\n",
    "\n",
    "plt.plot(x_plot,y_plot)\n",
    "\n",
    "plt.show()"
   ]
  },
  {
   "cell_type": "code",
   "execution_count": 61,
   "id": "4e36062e",
   "metadata": {},
   "outputs": [
    {
     "name": "stdout",
     "output_type": "stream",
     "text": [
      "1\n",
      "96\n"
     ]
    }
   ],
   "source": [
    "#lambda_expon_2\n",
    "\n",
    "print(min(local_env.index_feature_dataframe['days_since_6']))\n",
    "print(max(local_env.index_feature_dataframe['days_since_6']))\n",
    "\n",
    "min_value = min(local_env.index_feature_dataframe['days_since_6'])\n",
    "max_value = max(local_env.index_feature_dataframe['days_since_6'])"
   ]
  },
  {
   "cell_type": "code",
   "execution_count": 62,
   "id": "fa9f608a",
   "metadata": {},
   "outputs": [
    {
     "data": {
      "image/png": "[encoded data removed]",
      "text/plain": [
       "<Figure size 432x288 with 1 Axes>"
      ]
     },
     "metadata": {
      "needs_background": "light"
     },
     "output_type": "display_data"
    }
   ],
   "source": [
    "\n",
    "\n",
    "parameter_value = 0.1\n",
    "\n",
    "x_plot = []\n",
    "y_plot = []\n",
    "\n",
    "for x_value in range(0,int(max_value)):\n",
    "    transformation = expon.cdf(x_value,scale = 1.0/parameter_value)\n",
    "    min_transformation = 0.1\n",
    "    transformation = min_transformation*np.exp(np.log(1.0/min_transformation)*transformation)\n",
    "    y_plot.append(transformation)\n",
    "    x_plot.append(x_value)\n",
    "\n",
    "plt.plot(x_plot,y_plot)\n",
    "\n",
    "plt.show()"
   ]
  },
  {
   "cell_type": "code",
   "execution_count": 63,
   "id": "1ccc5bda",
   "metadata": {},
   "outputs": [
    {
     "data": {
      "image/png": "[encoded data removed]",
      "text/plain": [
       "<Figure size 432x288 with 1 Axes>"
      ]
     },
     "metadata": {
      "needs_background": "light"
     },
     "output_type": "display_data"
    }
   ],
   "source": [
    "\n",
    "\n",
    "parameter_value = 0.01\n",
    "\n",
    "x_plot = []\n",
    "y_plot = []\n",
    "\n",
    "for x_value in range(0,int(max_value)):\n",
    "    transformation = expon.cdf(x_value,scale = 1.0/parameter_value)\n",
    "    min_transformation = 0.1\n",
    "    transformation = min_transformation*np.exp(np.log(1.0/min_transformation)*transformation)\n",
    "    y_plot.append(transformation)\n",
    "    x_plot.append(x_value)\n",
    "\n",
    "plt.plot(x_plot,y_plot)\n",
    "\n",
    "plt.show()"
   ]
  },
  {
   "cell_type": "code",
   "execution_count": 64,
   "id": "80d0978f",
   "metadata": {},
   "outputs": [
    {
     "name": "stdout",
     "output_type": "stream",
     "text": [
      "1\n",
      "210\n"
     ]
    }
   ],
   "source": [
    "#lambda_expon_2\n",
    "\n",
    "print(min(local_env.index_feature_dataframe['days_since_7']))\n",
    "print(max(local_env.index_feature_dataframe['days_since_7']))\n",
    "\n",
    "min_value = min(local_env.index_feature_dataframe['days_since_7'])\n",
    "max_value = max(local_env.index_feature_dataframe['days_since_7'])"
   ]
  },
  {
   "cell_type": "code",
   "execution_count": 65,
   "id": "2bfe5f08",
   "metadata": {},
   "outputs": [
    {
     "data": {
      "image/png": "[encoded data removed]",
      "text/plain": [
       "<Figure size 432x288 with 1 Axes>"
      ]
     },
     "metadata": {
      "needs_background": "light"
     },
     "output_type": "display_data"
    }
   ],
   "source": [
    "\n",
    "\n",
    "parameter_value = 0.1\n",
    "\n",
    "x_plot = []\n",
    "y_plot = []\n",
    "\n",
    "for x_value in range(0,int(max_value)):\n",
    "    transformation = expon.cdf(x_value,scale = 1.0/parameter_value)\n",
    "    min_transformation = 0.1\n",
    "    transformation = min_transformation*np.exp(np.log(1.0/min_transformation)*transformation)\n",
    "    y_plot.append(transformation)\n",
    "    x_plot.append(x_value)\n",
    "\n",
    "plt.plot(x_plot,y_plot)\n",
    "\n",
    "plt.show()"
   ]
  },
  {
   "cell_type": "code",
   "execution_count": 66,
   "id": "3ab9cb62",
   "metadata": {},
   "outputs": [
    {
     "data": {
      "image/png": "[encoded data removed]",
      "text/plain": [
       "<Figure size 432x288 with 1 Axes>"
      ]
     },
     "metadata": {
      "needs_background": "light"
     },
     "output_type": "display_data"
    }
   ],
   "source": [
    "\n",
    "\n",
    "parameter_value = 0.01\n",
    "\n",
    "x_plot = []\n",
    "y_plot = []\n",
    "\n",
    "for x_value in range(0,int(max_value)):\n",
    "    transformation = expon.cdf(x_value,scale = 1.0/parameter_value)\n",
    "    min_transformation = 0.1\n",
    "    transformation = min_transformation*np.exp(np.log(1.0/min_transformation)*transformation)\n",
    "    y_plot.append(transformation)\n",
    "    x_plot.append(x_value)\n",
    "\n",
    "plt.plot(x_plot,y_plot)\n",
    "\n",
    "plt.show()"
   ]
  },
  {
   "cell_type": "code",
   "execution_count": null,
   "id": "50b5eea8",
   "metadata": {},
   "outputs": [],
   "source": []
  }
 ],
 "metadata": {
  "kernelspec": {
   "display_name": "Python 3.7.4 64-bit ('p37': conda)",
   "language": "python",
   "name": "python37464bitp37condace755f694755478c9bd95f16cbb10579"
  },
  "language_info": {
   "codemirror_mode": {
    "name": "ipython",
    "version": 3
   },
   "file_extension": ".py",
   "mimetype": "text/x-python",
   "name": "python",
   "nbconvert_exporter": "python",
   "pygments_lexer": "ipython3",
   "version": "3.7.4"
  }
 },
 "nbformat": 4,
 "nbformat_minor": 5
}
