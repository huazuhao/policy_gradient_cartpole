{
 "cells": [
  {
   "cell_type": "code",
   "execution_count": 1,
   "id": "31f0c494",
   "metadata": {},
   "outputs": [],
   "source": [
    "import pandas as pd\n",
    "import numpy as np\n",
    "from sklearn.linear_model import LinearRegression\n",
    "import trading_vix_and_spy_utils"
   ]
  },
  {
   "cell_type": "code",
   "execution_count": 2,
   "id": "c19d4541",
   "metadata": {},
   "outputs": [],
   "source": [
    "data_names = []\n",
    "data_names.append(\"./hourly_data/VIX_1050D_1hour_TRADES.csv\")\n",
    "data_names.append(\"./hourly_data/VIX_1050D_1hour_OPTION_IMPLIED_VOLATILITY.csv\")\n",
    "data_names.append(\"./hourly_data/VIXY_1050D_1hour_BID.csv\")\n",
    "data_names.append(\"./hourly_data/VIXY_1050D_1hour_ASK.csv\")\n",
    "data_names.append(\"./hourly_data/VIXY_1050D_1hour_OPTION_IMPLIED_VOLATILITY.csv\")\n",
    "data_names.append(\"./hourly_data/SPY_1050D_1hour_BID.csv\")\n",
    "data_names.append(\"./hourly_data/SPY_1050D_1hour_ASK.csv\")\n",
    "data_names.append(\"./hourly_data/SPY_1050D_1hour_OPTION_IMPLIED_VOLATILITY.csv\")\n",
    "new_column_names = []\n",
    "new_column_names.append('vix_index')\n",
    "new_column_names.append('vix_index_iv')\n",
    "new_column_names.append('vixy_bid')\n",
    "new_column_names.append('vixy_ask')\n",
    "new_column_names.append('vixy_iv')\n",
    "new_column_names.append('spy_bid')\n",
    "new_column_names.append('spy_ask')\n",
    "new_column_names.append('spy_iv')"
   ]
  },
  {
   "cell_type": "code",
   "execution_count": 3,
   "id": "562b0d5f",
   "metadata": {},
   "outputs": [],
   "source": [
    "for index in range(0,len(data_names)):\n",
    "    \n",
    "    data_name = data_names[index]\n",
    "    new_column_name = new_column_names[index]\n",
    "    \n",
    "    if index == 0:\n",
    "        \n",
    "        total_data = pd.read_csv(data_name)\n",
    "        total_data = total_data.rename(columns = {\"date\":\"date\",\\\n",
    "                                \"open\":new_column_name+\"_open\",\\\n",
    "                                \"high\":new_column_name+'_high',\\\n",
    "                                'low':new_column_name+'_low',\\\n",
    "                                'close':new_column_name+'_close',\\\n",
    "                                'volume':new_column_name+'_volume'})\n",
    "    \n",
    "    else:\n",
    "        \n",
    "        new_data = pd.read_csv(data_name)\n",
    "        new_data = new_data.rename(columns = {\"date\":\"date\",\\\n",
    "                                \"open\":new_column_name+\"_open\",\\\n",
    "                                \"high\":new_column_name+'_high',\\\n",
    "                                'low':new_column_name+'_low',\\\n",
    "                                'close':new_column_name+'_close',\\\n",
    "                                'volume':new_column_name+'_volume'})\n",
    "        \n",
    "        total_data = pd.merge(total_data,new_data,on = 'date',how = 'inner')"
   ]
  },
  {
   "cell_type": "code",
   "execution_count": 4,
   "id": "e864d532",
   "metadata": {},
   "outputs": [],
   "source": [
    "distiled_column_names = []\n",
    "for entry in total_data.columns:\n",
    "    if entry == \"date\":\n",
    "        distiled_column_names.append(entry)\n",
    "    elif 'close' in entry:\n",
    "        distiled_column_names.append(entry)\n",
    "        \n",
    "total_data_distiled = pd.DataFrame()\n",
    "for entry in distiled_column_names:\n",
    "    total_data_distiled[entry] = total_data[entry]"
   ]
  },
  {
   "cell_type": "code",
   "execution_count": 5,
   "id": "c77f9632",
   "metadata": {},
   "outputs": [
    {
     "data": {
      "text/html": [
       "<div>\n",
       "<style scoped>\n",
       "    .dataframe tbody tr th:only-of-type {\n",
       "        vertical-align: middle;\n",
       "    }\n",
       "\n",
       "    .dataframe tbody tr th {\n",
       "        vertical-align: top;\n",
       "    }\n",
       "\n",
       "    .dataframe thead th {\n",
       "        text-align: right;\n",
       "    }\n",
       "</style>\n",
       "<table border=\"1\" class=\"dataframe\">\n",
       "  <thead>\n",
       "    <tr style=\"text-align: right;\">\n",
       "      <th></th>\n",
       "      <th>date</th>\n",
       "      <th>vix_index_close</th>\n",
       "      <th>vix_index_iv_close</th>\n",
       "      <th>vixy_bid_close</th>\n",
       "      <th>vixy_ask_close</th>\n",
       "      <th>vixy_iv_close</th>\n",
       "      <th>spy_bid_close</th>\n",
       "      <th>spy_ask_close</th>\n",
       "      <th>spy_iv_close</th>\n",
       "    </tr>\n",
       "  </thead>\n",
       "  <tbody>\n",
       "    <tr>\n",
       "      <th>0</th>\n",
       "      <td>20180827  09:30:00</td>\n",
       "      <td>12.25</td>\n",
       "      <td>0.906911</td>\n",
       "      <td>93.88</td>\n",
       "      <td>93.92</td>\n",
       "      <td>0.647569</td>\n",
       "      <td>289.30</td>\n",
       "      <td>289.31</td>\n",
       "      <td>0.087707</td>\n",
       "    </tr>\n",
       "    <tr>\n",
       "      <th>1</th>\n",
       "      <td>20180827  10:00:00</td>\n",
       "      <td>12.21</td>\n",
       "      <td>0.940390</td>\n",
       "      <td>94.36</td>\n",
       "      <td>94.40</td>\n",
       "      <td>0.649553</td>\n",
       "      <td>289.47</td>\n",
       "      <td>289.48</td>\n",
       "      <td>0.087707</td>\n",
       "    </tr>\n",
       "    <tr>\n",
       "      <th>2</th>\n",
       "      <td>20180827  11:00:00</td>\n",
       "      <td>12.23</td>\n",
       "      <td>0.869637</td>\n",
       "      <td>94.40</td>\n",
       "      <td>94.44</td>\n",
       "      <td>0.643680</td>\n",
       "      <td>289.82</td>\n",
       "      <td>289.83</td>\n",
       "      <td>0.087262</td>\n",
       "    </tr>\n",
       "    <tr>\n",
       "      <th>3</th>\n",
       "      <td>20180827  12:00:00</td>\n",
       "      <td>12.15</td>\n",
       "      <td>0.868669</td>\n",
       "      <td>94.08</td>\n",
       "      <td>94.16</td>\n",
       "      <td>0.634504</td>\n",
       "      <td>289.83</td>\n",
       "      <td>289.84</td>\n",
       "      <td>0.087564</td>\n",
       "    </tr>\n",
       "    <tr>\n",
       "      <th>4</th>\n",
       "      <td>20180827  13:00:00</td>\n",
       "      <td>12.21</td>\n",
       "      <td>0.874654</td>\n",
       "      <td>94.24</td>\n",
       "      <td>94.28</td>\n",
       "      <td>0.637679</td>\n",
       "      <td>289.72</td>\n",
       "      <td>289.73</td>\n",
       "      <td>0.087707</td>\n",
       "    </tr>\n",
       "  </tbody>\n",
       "</table>\n",
       "</div>"
      ],
      "text/plain": [
       "                 date  vix_index_close  vix_index_iv_close  vixy_bid_close  \\\n",
       "0  20180827  09:30:00            12.25            0.906911           93.88   \n",
       "1  20180827  10:00:00            12.21            0.940390           94.36   \n",
       "2  20180827  11:00:00            12.23            0.869637           94.40   \n",
       "3  20180827  12:00:00            12.15            0.868669           94.08   \n",
       "4  20180827  13:00:00            12.21            0.874654           94.24   \n",
       "\n",
       "   vixy_ask_close  vixy_iv_close  spy_bid_close  spy_ask_close  spy_iv_close  \n",
       "0           93.92       0.647569         289.30         289.31      0.087707  \n",
       "1           94.40       0.649553         289.47         289.48      0.087707  \n",
       "2           94.44       0.643680         289.82         289.83      0.087262  \n",
       "3           94.16       0.634504         289.83         289.84      0.087564  \n",
       "4           94.28       0.637679         289.72         289.73      0.087707  "
      ]
     },
     "execution_count": 5,
     "metadata": {},
     "output_type": "execute_result"
    }
   ],
   "source": [
    "total_data_distiled.head()"
   ]
  },
  {
   "cell_type": "code",
   "execution_count": 6,
   "id": "0761bf6a",
   "metadata": {},
   "outputs": [
    {
     "data": {
      "text/html": [
       "<div>\n",
       "<style scoped>\n",
       "    .dataframe tbody tr th:only-of-type {\n",
       "        vertical-align: middle;\n",
       "    }\n",
       "\n",
       "    .dataframe tbody tr th {\n",
       "        vertical-align: top;\n",
       "    }\n",
       "\n",
       "    .dataframe thead th {\n",
       "        text-align: right;\n",
       "    }\n",
       "</style>\n",
       "<table border=\"1\" class=\"dataframe\">\n",
       "  <thead>\n",
       "    <tr style=\"text-align: right;\">\n",
       "      <th></th>\n",
       "      <th>date</th>\n",
       "      <th>vix_index_close</th>\n",
       "      <th>vix_index_iv_close</th>\n",
       "      <th>vixy_bid_close</th>\n",
       "      <th>vixy_ask_close</th>\n",
       "      <th>vixy_iv_close</th>\n",
       "      <th>spy_bid_close</th>\n",
       "      <th>spy_ask_close</th>\n",
       "      <th>spy_iv_close</th>\n",
       "    </tr>\n",
       "  </thead>\n",
       "  <tbody>\n",
       "    <tr>\n",
       "      <th>4954</th>\n",
       "      <td>20210702  11:00:00</td>\n",
       "      <td>14.55</td>\n",
       "      <td>0.999332</td>\n",
       "      <td>23.06</td>\n",
       "      <td>23.07</td>\n",
       "      <td>0.752674</td>\n",
       "      <td>432.44</td>\n",
       "      <td>432.45</td>\n",
       "      <td>0.102899</td>\n",
       "    </tr>\n",
       "    <tr>\n",
       "      <th>4955</th>\n",
       "      <td>20210702  12:00:00</td>\n",
       "      <td>14.65</td>\n",
       "      <td>0.990665</td>\n",
       "      <td>23.16</td>\n",
       "      <td>23.17</td>\n",
       "      <td>0.752404</td>\n",
       "      <td>433.26</td>\n",
       "      <td>433.27</td>\n",
       "      <td>0.103010</td>\n",
       "    </tr>\n",
       "    <tr>\n",
       "      <th>4956</th>\n",
       "      <td>20210702  13:00:00</td>\n",
       "      <td>14.82</td>\n",
       "      <td>0.996983</td>\n",
       "      <td>23.40</td>\n",
       "      <td>23.41</td>\n",
       "      <td>0.772517</td>\n",
       "      <td>433.31</td>\n",
       "      <td>433.32</td>\n",
       "      <td>0.103200</td>\n",
       "    </tr>\n",
       "    <tr>\n",
       "      <th>4957</th>\n",
       "      <td>20210702  14:00:00</td>\n",
       "      <td>14.92</td>\n",
       "      <td>1.001602</td>\n",
       "      <td>23.35</td>\n",
       "      <td>23.36</td>\n",
       "      <td>0.770279</td>\n",
       "      <td>433.26</td>\n",
       "      <td>433.27</td>\n",
       "      <td>0.104200</td>\n",
       "    </tr>\n",
       "    <tr>\n",
       "      <th>4958</th>\n",
       "      <td>20210702  15:00:00</td>\n",
       "      <td>14.98</td>\n",
       "      <td>1.000284</td>\n",
       "      <td>23.62</td>\n",
       "      <td>23.67</td>\n",
       "      <td>0.729735</td>\n",
       "      <td>433.75</td>\n",
       "      <td>433.76</td>\n",
       "      <td>0.104677</td>\n",
       "    </tr>\n",
       "  </tbody>\n",
       "</table>\n",
       "</div>"
      ],
      "text/plain": [
       "                    date  vix_index_close  vix_index_iv_close  vixy_bid_close  \\\n",
       "4954  20210702  11:00:00            14.55            0.999332           23.06   \n",
       "4955  20210702  12:00:00            14.65            0.990665           23.16   \n",
       "4956  20210702  13:00:00            14.82            0.996983           23.40   \n",
       "4957  20210702  14:00:00            14.92            1.001602           23.35   \n",
       "4958  20210702  15:00:00            14.98            1.000284           23.62   \n",
       "\n",
       "      vixy_ask_close  vixy_iv_close  spy_bid_close  spy_ask_close  \\\n",
       "4954           23.07       0.752674         432.44         432.45   \n",
       "4955           23.17       0.752404         433.26         433.27   \n",
       "4956           23.41       0.772517         433.31         433.32   \n",
       "4957           23.36       0.770279         433.26         433.27   \n",
       "4958           23.67       0.729735         433.75         433.76   \n",
       "\n",
       "      spy_iv_close  \n",
       "4954      0.102899  \n",
       "4955      0.103010  \n",
       "4956      0.103200  \n",
       "4957      0.104200  \n",
       "4958      0.104677  "
      ]
     },
     "execution_count": 6,
     "metadata": {},
     "output_type": "execute_result"
    }
   ],
   "source": [
    "total_data_distiled.tail()"
   ]
  },
  {
   "cell_type": "code",
   "execution_count": 7,
   "id": "5a3c75cc",
   "metadata": {},
   "outputs": [
    {
     "data": {
      "text/plain": [
       "(4959, 9)"
      ]
     },
     "execution_count": 7,
     "metadata": {},
     "output_type": "execute_result"
    }
   ],
   "source": [
    "total_data_distiled.shape"
   ]
  },
  {
   "cell_type": "code",
   "execution_count": 8,
   "id": "3b82b813",
   "metadata": {},
   "outputs": [],
   "source": [
    "def compute_slope_feature(input_column_name,data_window):\n",
    "    \n",
    "    linear_regression_length = data_window\n",
    "    linear_regressor = LinearRegression() \n",
    "    x = [i for i in range(0,linear_regression_length)]\n",
    "    x = np.asarray(x)\n",
    "    x = np.reshape(x,(-1,1))\n",
    "\n",
    "    slope_data = []\n",
    "\n",
    "    for end_index in range(total_data_distiled.shape[0],linear_regression_length-1,-1):\n",
    "        y = total_data_distiled[input_column_name].iloc[end_index-linear_regression_length:end_index].tolist()\n",
    "        y = np.asarray(y)\n",
    "        y = np.reshape(y,(-1,1))\n",
    "\n",
    "        linear_regressor.fit(x,y)\n",
    "\n",
    "        slope_data.append(linear_regressor.coef_[0][0])\n",
    "\n",
    "    #add some zeros before\n",
    "    for _ in range(0,linear_regression_length-1):\n",
    "        slope_data.append(0)\n",
    "        \n",
    "    return slope_data[::-1]"
   ]
  },
  {
   "cell_type": "code",
   "execution_count": 9,
   "id": "5a197335",
   "metadata": {},
   "outputs": [
    {
     "data": {
      "text/plain": [
       "['date',\n",
       " 'vix_index_close',\n",
       " 'vix_index_iv_close',\n",
       " 'vixy_bid_close',\n",
       " 'vixy_ask_close',\n",
       " 'vixy_iv_close',\n",
       " 'spy_bid_close',\n",
       " 'spy_ask_close',\n",
       " 'spy_iv_close']"
      ]
     },
     "execution_count": 9,
     "metadata": {},
     "output_type": "execute_result"
    }
   ],
   "source": [
    "total_data_distiled.columns.tolist()"
   ]
  },
  {
   "cell_type": "code",
   "execution_count": 10,
   "id": "aaf5a2b8",
   "metadata": {},
   "outputs": [],
   "source": [
    "index_begin_at = total_data_distiled.columns.tolist().index('vix_index_close')+1"
   ]
  },
  {
   "cell_type": "code",
   "execution_count": 11,
   "id": "b07b7a6f",
   "metadata": {},
   "outputs": [],
   "source": [
    "\n",
    "window_lengths = [10,30,50,100,200]\n",
    "\n",
    "for index in range(0,len(window_lengths)):\n",
    "    window_length = window_lengths[index]\n",
    "    new_col_index = index_begin_at+index #vix_index_close originally has column index 1\n",
    "    new_col_name = 'vix_index_'+str(window_length)+\"_slope\"\n",
    "    \n",
    "    new_data = compute_slope_feature('vix_index_close',window_length)\n",
    "    total_data_distiled.insert(loc = new_col_index,column = new_col_name,value = new_data)\n"
   ]
  },
  {
   "cell_type": "code",
   "execution_count": 12,
   "id": "e3ba65b0",
   "metadata": {},
   "outputs": [
    {
     "data": {
      "text/plain": [
       "['date',\n",
       " 'vix_index_close',\n",
       " 'vix_index_10_slope',\n",
       " 'vix_index_30_slope',\n",
       " 'vix_index_50_slope',\n",
       " 'vix_index_100_slope',\n",
       " 'vix_index_200_slope',\n",
       " 'vix_index_iv_close',\n",
       " 'vixy_bid_close',\n",
       " 'vixy_ask_close',\n",
       " 'vixy_iv_close',\n",
       " 'spy_bid_close',\n",
       " 'spy_ask_close',\n",
       " 'spy_iv_close']"
      ]
     },
     "execution_count": 12,
     "metadata": {},
     "output_type": "execute_result"
    }
   ],
   "source": [
    "total_data_distiled.columns.tolist()"
   ]
  },
  {
   "cell_type": "code",
   "execution_count": 13,
   "id": "69b6689b",
   "metadata": {},
   "outputs": [
    {
     "data": {
      "text/html": [
       "<div>\n",
       "<style scoped>\n",
       "    .dataframe tbody tr th:only-of-type {\n",
       "        vertical-align: middle;\n",
       "    }\n",
       "\n",
       "    .dataframe tbody tr th {\n",
       "        vertical-align: top;\n",
       "    }\n",
       "\n",
       "    .dataframe thead th {\n",
       "        text-align: right;\n",
       "    }\n",
       "</style>\n",
       "<table border=\"1\" class=\"dataframe\">\n",
       "  <thead>\n",
       "    <tr style=\"text-align: right;\">\n",
       "      <th></th>\n",
       "      <th>date</th>\n",
       "      <th>vix_index_close</th>\n",
       "      <th>vix_index_10_slope</th>\n",
       "      <th>vix_index_30_slope</th>\n",
       "      <th>vix_index_50_slope</th>\n",
       "      <th>vix_index_100_slope</th>\n",
       "      <th>vix_index_200_slope</th>\n",
       "      <th>vix_index_iv_close</th>\n",
       "      <th>vixy_bid_close</th>\n",
       "      <th>vixy_ask_close</th>\n",
       "      <th>vixy_iv_close</th>\n",
       "      <th>spy_bid_close</th>\n",
       "      <th>spy_ask_close</th>\n",
       "      <th>spy_iv_close</th>\n",
       "    </tr>\n",
       "  </thead>\n",
       "  <tbody>\n",
       "    <tr>\n",
       "      <th>0</th>\n",
       "      <td>20180827  09:30:00</td>\n",
       "      <td>12.25</td>\n",
       "      <td>0.0</td>\n",
       "      <td>0.0</td>\n",
       "      <td>0.0</td>\n",
       "      <td>0.0</td>\n",
       "      <td>0.0</td>\n",
       "      <td>0.906911</td>\n",
       "      <td>93.88</td>\n",
       "      <td>93.92</td>\n",
       "      <td>0.647569</td>\n",
       "      <td>289.30</td>\n",
       "      <td>289.31</td>\n",
       "      <td>0.087707</td>\n",
       "    </tr>\n",
       "    <tr>\n",
       "      <th>1</th>\n",
       "      <td>20180827  10:00:00</td>\n",
       "      <td>12.21</td>\n",
       "      <td>0.0</td>\n",
       "      <td>0.0</td>\n",
       "      <td>0.0</td>\n",
       "      <td>0.0</td>\n",
       "      <td>0.0</td>\n",
       "      <td>0.940390</td>\n",
       "      <td>94.36</td>\n",
       "      <td>94.40</td>\n",
       "      <td>0.649553</td>\n",
       "      <td>289.47</td>\n",
       "      <td>289.48</td>\n",
       "      <td>0.087707</td>\n",
       "    </tr>\n",
       "    <tr>\n",
       "      <th>2</th>\n",
       "      <td>20180827  11:00:00</td>\n",
       "      <td>12.23</td>\n",
       "      <td>0.0</td>\n",
       "      <td>0.0</td>\n",
       "      <td>0.0</td>\n",
       "      <td>0.0</td>\n",
       "      <td>0.0</td>\n",
       "      <td>0.869637</td>\n",
       "      <td>94.40</td>\n",
       "      <td>94.44</td>\n",
       "      <td>0.643680</td>\n",
       "      <td>289.82</td>\n",
       "      <td>289.83</td>\n",
       "      <td>0.087262</td>\n",
       "    </tr>\n",
       "    <tr>\n",
       "      <th>3</th>\n",
       "      <td>20180827  12:00:00</td>\n",
       "      <td>12.15</td>\n",
       "      <td>0.0</td>\n",
       "      <td>0.0</td>\n",
       "      <td>0.0</td>\n",
       "      <td>0.0</td>\n",
       "      <td>0.0</td>\n",
       "      <td>0.868669</td>\n",
       "      <td>94.08</td>\n",
       "      <td>94.16</td>\n",
       "      <td>0.634504</td>\n",
       "      <td>289.83</td>\n",
       "      <td>289.84</td>\n",
       "      <td>0.087564</td>\n",
       "    </tr>\n",
       "    <tr>\n",
       "      <th>4</th>\n",
       "      <td>20180827  13:00:00</td>\n",
       "      <td>12.21</td>\n",
       "      <td>0.0</td>\n",
       "      <td>0.0</td>\n",
       "      <td>0.0</td>\n",
       "      <td>0.0</td>\n",
       "      <td>0.0</td>\n",
       "      <td>0.874654</td>\n",
       "      <td>94.24</td>\n",
       "      <td>94.28</td>\n",
       "      <td>0.637679</td>\n",
       "      <td>289.72</td>\n",
       "      <td>289.73</td>\n",
       "      <td>0.087707</td>\n",
       "    </tr>\n",
       "  </tbody>\n",
       "</table>\n",
       "</div>"
      ],
      "text/plain": [
       "                 date  vix_index_close  vix_index_10_slope  \\\n",
       "0  20180827  09:30:00            12.25                 0.0   \n",
       "1  20180827  10:00:00            12.21                 0.0   \n",
       "2  20180827  11:00:00            12.23                 0.0   \n",
       "3  20180827  12:00:00            12.15                 0.0   \n",
       "4  20180827  13:00:00            12.21                 0.0   \n",
       "\n",
       "   vix_index_30_slope  vix_index_50_slope  vix_index_100_slope  \\\n",
       "0                 0.0                 0.0                  0.0   \n",
       "1                 0.0                 0.0                  0.0   \n",
       "2                 0.0                 0.0                  0.0   \n",
       "3                 0.0                 0.0                  0.0   \n",
       "4                 0.0                 0.0                  0.0   \n",
       "\n",
       "   vix_index_200_slope  vix_index_iv_close  vixy_bid_close  vixy_ask_close  \\\n",
       "0                  0.0            0.906911           93.88           93.92   \n",
       "1                  0.0            0.940390           94.36           94.40   \n",
       "2                  0.0            0.869637           94.40           94.44   \n",
       "3                  0.0            0.868669           94.08           94.16   \n",
       "4                  0.0            0.874654           94.24           94.28   \n",
       "\n",
       "   vixy_iv_close  spy_bid_close  spy_ask_close  spy_iv_close  \n",
       "0       0.647569         289.30         289.31      0.087707  \n",
       "1       0.649553         289.47         289.48      0.087707  \n",
       "2       0.643680         289.82         289.83      0.087262  \n",
       "3       0.634504         289.83         289.84      0.087564  \n",
       "4       0.637679         289.72         289.73      0.087707  "
      ]
     },
     "execution_count": 13,
     "metadata": {},
     "output_type": "execute_result"
    }
   ],
   "source": [
    "total_data_distiled.head()"
   ]
  },
  {
   "cell_type": "code",
   "execution_count": 14,
   "id": "5aec9be9",
   "metadata": {},
   "outputs": [
    {
     "data": {
      "text/html": [
       "<div>\n",
       "<style scoped>\n",
       "    .dataframe tbody tr th:only-of-type {\n",
       "        vertical-align: middle;\n",
       "    }\n",
       "\n",
       "    .dataframe tbody tr th {\n",
       "        vertical-align: top;\n",
       "    }\n",
       "\n",
       "    .dataframe thead th {\n",
       "        text-align: right;\n",
       "    }\n",
       "</style>\n",
       "<table border=\"1\" class=\"dataframe\">\n",
       "  <thead>\n",
       "    <tr style=\"text-align: right;\">\n",
       "      <th></th>\n",
       "      <th>date</th>\n",
       "      <th>vix_index_close</th>\n",
       "      <th>vix_index_10_slope</th>\n",
       "      <th>vix_index_30_slope</th>\n",
       "      <th>vix_index_50_slope</th>\n",
       "      <th>vix_index_100_slope</th>\n",
       "      <th>vix_index_200_slope</th>\n",
       "      <th>vix_index_iv_close</th>\n",
       "      <th>vixy_bid_close</th>\n",
       "      <th>vixy_ask_close</th>\n",
       "      <th>vixy_iv_close</th>\n",
       "      <th>spy_bid_close</th>\n",
       "      <th>spy_ask_close</th>\n",
       "      <th>spy_iv_close</th>\n",
       "    </tr>\n",
       "  </thead>\n",
       "  <tbody>\n",
       "    <tr>\n",
       "      <th>4954</th>\n",
       "      <td>20210702  11:00:00</td>\n",
       "      <td>14.55</td>\n",
       "      <td>-0.139636</td>\n",
       "      <td>-0.042031</td>\n",
       "      <td>-0.013891</td>\n",
       "      <td>-0.027053</td>\n",
       "      <td>-0.012845</td>\n",
       "      <td>0.999332</td>\n",
       "      <td>23.06</td>\n",
       "      <td>23.07</td>\n",
       "      <td>0.752674</td>\n",
       "      <td>432.44</td>\n",
       "      <td>432.45</td>\n",
       "      <td>0.102899</td>\n",
       "    </tr>\n",
       "    <tr>\n",
       "      <th>4955</th>\n",
       "      <td>20210702  12:00:00</td>\n",
       "      <td>14.65</td>\n",
       "      <td>-0.135576</td>\n",
       "      <td>-0.048211</td>\n",
       "      <td>-0.014809</td>\n",
       "      <td>-0.028419</td>\n",
       "      <td>-0.012657</td>\n",
       "      <td>0.990665</td>\n",
       "      <td>23.16</td>\n",
       "      <td>23.17</td>\n",
       "      <td>0.752404</td>\n",
       "      <td>433.26</td>\n",
       "      <td>433.27</td>\n",
       "      <td>0.103010</td>\n",
       "    </tr>\n",
       "    <tr>\n",
       "      <th>4956</th>\n",
       "      <td>20210702  13:00:00</td>\n",
       "      <td>14.82</td>\n",
       "      <td>-0.121030</td>\n",
       "      <td>-0.051657</td>\n",
       "      <td>-0.015032</td>\n",
       "      <td>-0.029504</td>\n",
       "      <td>-0.012550</td>\n",
       "      <td>0.996983</td>\n",
       "      <td>23.40</td>\n",
       "      <td>23.41</td>\n",
       "      <td>0.772517</td>\n",
       "      <td>433.31</td>\n",
       "      <td>433.32</td>\n",
       "      <td>0.103200</td>\n",
       "    </tr>\n",
       "    <tr>\n",
       "      <th>4957</th>\n",
       "      <td>20210702  14:00:00</td>\n",
       "      <td>14.92</td>\n",
       "      <td>-0.091394</td>\n",
       "      <td>-0.052618</td>\n",
       "      <td>-0.015521</td>\n",
       "      <td>-0.030314</td>\n",
       "      <td>-0.012372</td>\n",
       "      <td>1.001602</td>\n",
       "      <td>23.35</td>\n",
       "      <td>23.36</td>\n",
       "      <td>0.770279</td>\n",
       "      <td>433.26</td>\n",
       "      <td>433.27</td>\n",
       "      <td>0.104200</td>\n",
       "    </tr>\n",
       "    <tr>\n",
       "      <th>4958</th>\n",
       "      <td>20210702  15:00:00</td>\n",
       "      <td>14.98</td>\n",
       "      <td>-0.059939</td>\n",
       "      <td>-0.052968</td>\n",
       "      <td>-0.015964</td>\n",
       "      <td>-0.031087</td>\n",
       "      <td>-0.012169</td>\n",
       "      <td>1.000284</td>\n",
       "      <td>23.62</td>\n",
       "      <td>23.67</td>\n",
       "      <td>0.729735</td>\n",
       "      <td>433.75</td>\n",
       "      <td>433.76</td>\n",
       "      <td>0.104677</td>\n",
       "    </tr>\n",
       "  </tbody>\n",
       "</table>\n",
       "</div>"
      ],
      "text/plain": [
       "                    date  vix_index_close  vix_index_10_slope  \\\n",
       "4954  20210702  11:00:00            14.55           -0.139636   \n",
       "4955  20210702  12:00:00            14.65           -0.135576   \n",
       "4956  20210702  13:00:00            14.82           -0.121030   \n",
       "4957  20210702  14:00:00            14.92           -0.091394   \n",
       "4958  20210702  15:00:00            14.98           -0.059939   \n",
       "\n",
       "      vix_index_30_slope  vix_index_50_slope  vix_index_100_slope  \\\n",
       "4954           -0.042031           -0.013891            -0.027053   \n",
       "4955           -0.048211           -0.014809            -0.028419   \n",
       "4956           -0.051657           -0.015032            -0.029504   \n",
       "4957           -0.052618           -0.015521            -0.030314   \n",
       "4958           -0.052968           -0.015964            -0.031087   \n",
       "\n",
       "      vix_index_200_slope  vix_index_iv_close  vixy_bid_close  vixy_ask_close  \\\n",
       "4954            -0.012845            0.999332           23.06           23.07   \n",
       "4955            -0.012657            0.990665           23.16           23.17   \n",
       "4956            -0.012550            0.996983           23.40           23.41   \n",
       "4957            -0.012372            1.001602           23.35           23.36   \n",
       "4958            -0.012169            1.000284           23.62           23.67   \n",
       "\n",
       "      vixy_iv_close  spy_bid_close  spy_ask_close  spy_iv_close  \n",
       "4954       0.752674         432.44         432.45      0.102899  \n",
       "4955       0.752404         433.26         433.27      0.103010  \n",
       "4956       0.772517         433.31         433.32      0.103200  \n",
       "4957       0.770279         433.26         433.27      0.104200  \n",
       "4958       0.729735         433.75         433.76      0.104677  "
      ]
     },
     "execution_count": 14,
     "metadata": {},
     "output_type": "execute_result"
    }
   ],
   "source": [
    "total_data_distiled.tail()"
   ]
  },
  {
   "cell_type": "code",
   "execution_count": 15,
   "id": "5b2808ea",
   "metadata": {},
   "outputs": [],
   "source": [
    "#build features for vix based on vix6 trading environment\n",
    "#compute the exponential moving average\n",
    "mv_10 = total_data_distiled['vix_index_close'].ewm(span = 10).mean()\n",
    "mv_20 = total_data_distiled['vix_index_close'].ewm(span = 20).mean()\n",
    "mv_30 = total_data_distiled['vix_index_close'].ewm(span = 30).mean()\n",
    "mv_50 = total_data_distiled['vix_index_close'].ewm(span = 50).mean()\n",
    "mv_100 = total_data_distiled['vix_index_close'].ewm(span = 100).mean()\n",
    "\n",
    "spot_to_mv_10 = total_data_distiled['vix_index_close']/mv_10\n",
    "spot_to_mv_20 = total_data_distiled['vix_index_close']/mv_20\n",
    "spot_to_mv_30 = total_data_distiled['vix_index_close']/mv_30\n",
    "spot_to_mv_50 = total_data_distiled['vix_index_close']/mv_50\n",
    "spot_to_mv_100 = total_data_distiled['vix_index_close']/mv_100\n",
    "\n",
    "vix_measure = spot_to_mv_10+spot_to_mv_20+spot_to_mv_30+spot_to_mv_50+spot_to_mv_100\n",
    "vix_measure_list = vix_measure.tolist()\n",
    "\n",
    "index_begin_at = total_data_distiled.columns.tolist().index('vix_index_iv_close')+1\n",
    "total_data_distiled.insert(loc = index_begin_at,column = 'vix_index_mv_ratio',value = vix_measure_list)\n",
    "\n",
    "index_begin_at = total_data_distiled.columns.tolist().index('vix_index_mv_ratio')+1\n",
    "threshold_list = [5.5,6,6.5]\n",
    "col_index_adder = 0\n",
    "for threshold in threshold_list:\n",
    "    counting_days = trading_vix_and_spy_utils.day_counter_helper(vix_measure_list,threshold)\n",
    "    total_data_distiled.insert(loc = index_begin_at+col_index_adder,column = 'vix_index_intervals_since_'+str(threshold),value = counting_days)\n",
    "    col_index_adder += 1"
   ]
  },
  {
   "cell_type": "code",
   "execution_count": 16,
   "id": "1900aef5",
   "metadata": {},
   "outputs": [
    {
     "data": {
      "text/plain": [
       "['date',\n",
       " 'vix_index_close',\n",
       " 'vix_index_10_slope',\n",
       " 'vix_index_30_slope',\n",
       " 'vix_index_50_slope',\n",
       " 'vix_index_100_slope',\n",
       " 'vix_index_200_slope',\n",
       " 'vix_index_iv_close',\n",
       " 'vix_index_mv_ratio',\n",
       " 'vix_index_intervals_since_5.5',\n",
       " 'vix_index_intervals_since_6',\n",
       " 'vix_index_intervals_since_6.5',\n",
       " 'vixy_bid_close',\n",
       " 'vixy_ask_close',\n",
       " 'vixy_iv_close',\n",
       " 'spy_bid_close',\n",
       " 'spy_ask_close',\n",
       " 'spy_iv_close']"
      ]
     },
     "execution_count": 16,
     "metadata": {},
     "output_type": "execute_result"
    }
   ],
   "source": [
    "total_data_distiled.columns.tolist()"
   ]
  },
  {
   "cell_type": "code",
   "execution_count": null,
   "id": "619d34c9",
   "metadata": {},
   "outputs": [],
   "source": [
    "vixy_mid_close = (total_data_distiled['vixy_bid_close']+total_data_distiled['vixy_ask_close'])/2\n",
    "total_data_distiled.insert(loc = 14,column = 'vixy_mid_close',value = vixy_mid_close)"
   ]
  },
  {
   "cell_type": "code",
   "execution_count": null,
   "id": "bf0524a2",
   "metadata": {},
   "outputs": [],
   "source": [
    "total_data_distiled.columns"
   ]
  },
  {
   "cell_type": "code",
   "execution_count": null,
   "id": "552bf808",
   "metadata": {},
   "outputs": [],
   "source": [
    "total_data_distiled"
   ]
  },
  {
   "cell_type": "code",
   "execution_count": null,
   "id": "190f0789",
   "metadata": {},
   "outputs": [],
   "source": [
    "window_lengths = [10,30,50,100,200]\n",
    "\n",
    "for index in range(0,len(window_lengths)):\n",
    "    window_length = window_lengths[index]\n",
    "    new_col_index = 12+index #vix_index_close originally has column index 1\n",
    "    new_col_name = 'vixy_mid_close_'+str(window_length)+\"_slope\"\n",
    "    \n",
    "    new_data = compute_slope_feature('vixy_mid_close',window_length)\n",
    "    total_data_distiled.insert(loc = new_col_index,column = new_col_name,value = new_data)\n"
   ]
  },
  {
   "cell_type": "code",
   "execution_count": null,
   "id": "e493a755",
   "metadata": {},
   "outputs": [],
   "source": [
    "total_data_distiled.columns.tolist()"
   ]
  },
  {
   "cell_type": "code",
   "execution_count": null,
   "id": "ed47b47d",
   "metadata": {},
   "outputs": [],
   "source": [
    "total_data_distiled.columns.tolist().index('date')"
   ]
  },
  {
   "cell_type": "code",
   "execution_count": null,
   "id": "3f03a037",
   "metadata": {},
   "outputs": [],
   "source": [
    "total_data_distiled"
   ]
  },
  {
   "cell_type": "code",
   "execution_count": null,
   "id": "6ef1aa31",
   "metadata": {},
   "outputs": [],
   "source": []
  },
  {
   "cell_type": "code",
   "execution_count": null,
   "id": "b5c16773",
   "metadata": {},
   "outputs": [],
   "source": [
    "spy_mid_close = (total_data_distiled['spy_bid_close']+total_data_distiled['spy_ask_close'])/2\n",
    "total_data_distiled.insert(loc = 24,column = 'spy_mid_close',value = spy_mid_close)"
   ]
  },
  {
   "cell_type": "code",
   "execution_count": null,
   "id": "330befd9",
   "metadata": {},
   "outputs": [],
   "source": [
    "total_data_distiled"
   ]
  },
  {
   "cell_type": "code",
   "execution_count": null,
   "id": "d6842858",
   "metadata": {},
   "outputs": [],
   "source": [
    "import matplotlib.pyplot as plt"
   ]
  },
  {
   "cell_type": "code",
   "execution_count": null,
   "id": "b8903d4e",
   "metadata": {},
   "outputs": [],
   "source": [
    "plt.plot(total_data_distiled['vix_index_close'])\n",
    "plt.plot(total_data_distiled['vix_index_30_slope'])\n",
    "plt.show()"
   ]
  },
  {
   "cell_type": "code",
   "execution_count": null,
   "id": "8487ee2c",
   "metadata": {},
   "outputs": [],
   "source": [
    "plt.plot(total_data_distiled['vix_index_30_slope'])\n",
    "plt.show()"
   ]
  },
  {
   "cell_type": "code",
   "execution_count": null,
   "id": "60ef5b54",
   "metadata": {},
   "outputs": [],
   "source": [
    "from statsmodels.tsa.stattools import adfuller\n",
    "\n",
    "result = adfuller(total_data_distiled['vix_index_30_slope'])\n",
    "result"
   ]
  },
  {
   "cell_type": "code",
   "execution_count": null,
   "id": "b6cadc4a",
   "metadata": {},
   "outputs": [],
   "source": [
    "plt.plot(total_data_distiled['vix_index_30_slope'][-300:])\n",
    "plt.show()"
   ]
  },
  {
   "cell_type": "code",
   "execution_count": null,
   "id": "dec0aa09",
   "metadata": {},
   "outputs": [],
   "source": [
    "plt.plot(total_data_distiled['vix_index_iv_close'][-300:])\n",
    "plt.show()"
   ]
  },
  {
   "cell_type": "code",
   "execution_count": null,
   "id": "523a84e6",
   "metadata": {},
   "outputs": [],
   "source": [
    "result = adfuller(total_data_distiled['vix_index_iv_close'])\n",
    "result"
   ]
  },
  {
   "cell_type": "code",
   "execution_count": null,
   "id": "2c60f223",
   "metadata": {},
   "outputs": [],
   "source": [
    "result = adfuller(total_data_distiled['vix_index_close'])\n",
    "result"
   ]
  },
  {
   "cell_type": "code",
   "execution_count": null,
   "id": "71494e88",
   "metadata": {},
   "outputs": [],
   "source": [
    "plt.plot(total_data_distiled['vix_index_intervals_since_5.5'])\n",
    "plt.show()"
   ]
  },
  {
   "cell_type": "code",
   "execution_count": null,
   "id": "28fb9170",
   "metadata": {},
   "outputs": [],
   "source": [
    "plt.plot(total_data_distiled['vix_index_intervals_since_6'])\n",
    "plt.show()"
   ]
  },
  {
   "cell_type": "code",
   "execution_count": null,
   "id": "a3a9b142",
   "metadata": {},
   "outputs": [],
   "source": [
    "plt.plot(total_data_distiled['vix_index_intervals_since_6.5'])\n",
    "plt.show()"
   ]
  },
  {
   "cell_type": "code",
   "execution_count": null,
   "id": "df9ef965",
   "metadata": {},
   "outputs": [],
   "source": [
    "plt.plot(total_data_distiled['vix_index_mv_ratio'])\n",
    "plt.show()"
   ]
  },
  {
   "cell_type": "code",
   "execution_count": null,
   "id": "12279de9",
   "metadata": {},
   "outputs": [],
   "source": [
    "plt.plot(total_data_distiled['vixy_mid_close_50_slope'])\n",
    "plt.show()"
   ]
  },
  {
   "cell_type": "code",
   "execution_count": null,
   "id": "5b73dea9",
   "metadata": {},
   "outputs": [],
   "source": [
    "plt.plot(total_data_distiled['vix_index_50_slope'])\n",
    "plt.show()"
   ]
  },
  {
   "cell_type": "code",
   "execution_count": null,
   "id": "498009c6",
   "metadata": {},
   "outputs": [],
   "source": []
  }
 ],
 "metadata": {
  "kernelspec": {
   "display_name": "Python 3.7.4 64-bit ('p37': conda)",
   "language": "python",
   "name": "python37464bitp37condace755f694755478c9bd95f16cbb10579"
  },
  "language_info": {
   "codemirror_mode": {
    "name": "ipython",
    "version": 3
   },
   "file_extension": ".py",
   "mimetype": "text/x-python",
   "name": "python",
   "nbconvert_exporter": "python",
   "pygments_lexer": "ipython3",
   "version": "3.7.4"
  }
 },
 "nbformat": 4,
 "nbformat_minor": 5
}
