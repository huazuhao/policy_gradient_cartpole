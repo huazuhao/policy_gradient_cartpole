{
 "cells": [
  {
   "cell_type": "code",
   "execution_count": 9,
   "id": "d88c859a",
   "metadata": {},
   "outputs": [],
   "source": [
    "import pandas as pd"
   ]
  },
  {
   "cell_type": "code",
   "execution_count": 10,
   "id": "8cdfcd63",
   "metadata": {},
   "outputs": [],
   "source": [
    "vix_index_trade = pd.read_csv(\"./hourly_data/VIX_1050D_1hour_TRADES.csv\")\n",
    "vix_index_trade = vix_index_trade.rename(columns = {\"date\":\"date\",\\\n",
    "                                \"open\":\"vix_index_open\",\\\n",
    "                                \"high\":'vix_index_high',\\\n",
    "                                'low':'vix_index_low',\\\n",
    "                                'close':'vix_index_close',\\\n",
    "                                'lolume':'vix_index_volume'})"
   ]
  },
  {
   "cell_type": "code",
   "execution_count": 11,
   "id": "af1f9523",
   "metadata": {},
   "outputs": [
    {
     "data": {
      "text/plain": [
       "(10757, 6)"
      ]
     },
     "execution_count": 11,
     "metadata": {},
     "output_type": "execute_result"
    }
   ],
   "source": [
    "vix_index_trade.shape"
   ]
  },
  {
   "cell_type": "code",
   "execution_count": 12,
   "id": "b2a98d1d",
   "metadata": {},
   "outputs": [
    {
     "data": {
      "text/html": [
       "<div>\n",
       "<style scoped>\n",
       "    .dataframe tbody tr th:only-of-type {\n",
       "        vertical-align: middle;\n",
       "    }\n",
       "\n",
       "    .dataframe tbody tr th {\n",
       "        vertical-align: top;\n",
       "    }\n",
       "\n",
       "    .dataframe thead th {\n",
       "        text-align: right;\n",
       "    }\n",
       "</style>\n",
       "<table border=\"1\" class=\"dataframe\">\n",
       "  <thead>\n",
       "    <tr style=\"text-align: right;\">\n",
       "      <th></th>\n",
       "      <th>date</th>\n",
       "      <th>vix_index_open</th>\n",
       "      <th>vix_index_high</th>\n",
       "      <th>vix_index_low</th>\n",
       "      <th>vix_index_close</th>\n",
       "      <th>volume</th>\n",
       "    </tr>\n",
       "  </thead>\n",
       "  <tbody>\n",
       "    <tr>\n",
       "      <th>0</th>\n",
       "      <td>20180823  03:00:00</td>\n",
       "      <td>12.03</td>\n",
       "      <td>12.09</td>\n",
       "      <td>11.99</td>\n",
       "      <td>12.03</td>\n",
       "      <td>0</td>\n",
       "    </tr>\n",
       "    <tr>\n",
       "      <th>1</th>\n",
       "      <td>20180823  04:00:00</td>\n",
       "      <td>12.02</td>\n",
       "      <td>12.16</td>\n",
       "      <td>11.91</td>\n",
       "      <td>11.98</td>\n",
       "      <td>0</td>\n",
       "    </tr>\n",
       "    <tr>\n",
       "      <th>2</th>\n",
       "      <td>20180823  05:00:00</td>\n",
       "      <td>11.97</td>\n",
       "      <td>12.08</td>\n",
       "      <td>11.91</td>\n",
       "      <td>12.05</td>\n",
       "      <td>0</td>\n",
       "    </tr>\n",
       "    <tr>\n",
       "      <th>3</th>\n",
       "      <td>20180823  06:00:00</td>\n",
       "      <td>12.06</td>\n",
       "      <td>12.13</td>\n",
       "      <td>12.03</td>\n",
       "      <td>12.03</td>\n",
       "      <td>0</td>\n",
       "    </tr>\n",
       "    <tr>\n",
       "      <th>4</th>\n",
       "      <td>20180823  07:00:00</td>\n",
       "      <td>12.04</td>\n",
       "      <td>12.20</td>\n",
       "      <td>12.04</td>\n",
       "      <td>12.12</td>\n",
       "      <td>0</td>\n",
       "    </tr>\n",
       "  </tbody>\n",
       "</table>\n",
       "</div>"
      ],
      "text/plain": [
       "                 date  vix_index_open  vix_index_high  vix_index_low  \\\n",
       "0  20180823  03:00:00           12.03           12.09          11.99   \n",
       "1  20180823  04:00:00           12.02           12.16          11.91   \n",
       "2  20180823  05:00:00           11.97           12.08          11.91   \n",
       "3  20180823  06:00:00           12.06           12.13          12.03   \n",
       "4  20180823  07:00:00           12.04           12.20          12.04   \n",
       "\n",
       "   vix_index_close  volume  \n",
       "0            12.03       0  \n",
       "1            11.98       0  \n",
       "2            12.05       0  \n",
       "3            12.03       0  \n",
       "4            12.12       0  "
      ]
     },
     "execution_count": 12,
     "metadata": {},
     "output_type": "execute_result"
    }
   ],
   "source": [
    "vix_index_trade.head()"
   ]
  },
  {
   "cell_type": "code",
   "execution_count": 13,
   "id": "674a7924",
   "metadata": {},
   "outputs": [],
   "source": [
    "vix_index_io = pd.read_csv(\"./hourly_data/VIX_1050D_1hour_OPTION_IMPLIED_VOLATILITY.csv\")\n",
    "vix_index_io = vix_index_io.rename(columns = {\"date\":\"date\",\\\n",
    "                                \"open\":\"vix_index_io_open\",\\\n",
    "                                \"high\":'vix_index_io_high',\\\n",
    "                                'low':'vix_index_io_low',\\\n",
    "                                'close':'vix_index_io_close',\\\n",
    "                                'volume':'vix_index_io_volume'})"
   ]
  },
  {
   "cell_type": "code",
   "execution_count": 14,
   "id": "baf5fe66",
   "metadata": {},
   "outputs": [
    {
     "data": {
      "text/plain": [
       "(10618, 6)"
      ]
     },
     "execution_count": 14,
     "metadata": {},
     "output_type": "execute_result"
    }
   ],
   "source": [
    "vix_index_io.shape"
   ]
  },
  {
   "cell_type": "code",
   "execution_count": 15,
   "id": "4c6fd0d1",
   "metadata": {},
   "outputs": [
    {
     "data": {
      "text/html": [
       "<div>\n",
       "<style scoped>\n",
       "    .dataframe tbody tr th:only-of-type {\n",
       "        vertical-align: middle;\n",
       "    }\n",
       "\n",
       "    .dataframe tbody tr th {\n",
       "        vertical-align: top;\n",
       "    }\n",
       "\n",
       "    .dataframe thead th {\n",
       "        text-align: right;\n",
       "    }\n",
       "</style>\n",
       "<table border=\"1\" class=\"dataframe\">\n",
       "  <thead>\n",
       "    <tr style=\"text-align: right;\">\n",
       "      <th></th>\n",
       "      <th>date</th>\n",
       "      <th>vix_index_io_open</th>\n",
       "      <th>vix_index_io_high</th>\n",
       "      <th>vix_index_io_low</th>\n",
       "      <th>vix_index_io_close</th>\n",
       "      <th>vix_index_io_volume</th>\n",
       "    </tr>\n",
       "  </thead>\n",
       "  <tbody>\n",
       "    <tr>\n",
       "      <th>0</th>\n",
       "      <td>20180824  03:00:00</td>\n",
       "      <td>0.806266</td>\n",
       "      <td>0.946295</td>\n",
       "      <td>0.806266</td>\n",
       "      <td>0.943739</td>\n",
       "      <td>1</td>\n",
       "    </tr>\n",
       "    <tr>\n",
       "      <th>1</th>\n",
       "      <td>20180824  04:00:00</td>\n",
       "      <td>0.943739</td>\n",
       "      <td>0.987315</td>\n",
       "      <td>0.943739</td>\n",
       "      <td>0.987315</td>\n",
       "      <td>1</td>\n",
       "    </tr>\n",
       "    <tr>\n",
       "      <th>2</th>\n",
       "      <td>20180824  05:00:00</td>\n",
       "      <td>0.987315</td>\n",
       "      <td>0.987315</td>\n",
       "      <td>0.965726</td>\n",
       "      <td>0.975108</td>\n",
       "      <td>1</td>\n",
       "    </tr>\n",
       "    <tr>\n",
       "      <th>3</th>\n",
       "      <td>20180824  06:00:00</td>\n",
       "      <td>0.975108</td>\n",
       "      <td>0.992300</td>\n",
       "      <td>0.869733</td>\n",
       "      <td>0.874511</td>\n",
       "      <td>1</td>\n",
       "    </tr>\n",
       "    <tr>\n",
       "      <th>4</th>\n",
       "      <td>20180824  07:00:00</td>\n",
       "      <td>0.874511</td>\n",
       "      <td>0.874924</td>\n",
       "      <td>0.871447</td>\n",
       "      <td>0.874860</td>\n",
       "      <td>1</td>\n",
       "    </tr>\n",
       "  </tbody>\n",
       "</table>\n",
       "</div>"
      ],
      "text/plain": [
       "                 date  vix_index_io_open  vix_index_io_high  vix_index_io_low  \\\n",
       "0  20180824  03:00:00           0.806266           0.946295          0.806266   \n",
       "1  20180824  04:00:00           0.943739           0.987315          0.943739   \n",
       "2  20180824  05:00:00           0.987315           0.987315          0.965726   \n",
       "3  20180824  06:00:00           0.975108           0.992300          0.869733   \n",
       "4  20180824  07:00:00           0.874511           0.874924          0.871447   \n",
       "\n",
       "   vix_index_io_close  vix_index_io_volume  \n",
       "0            0.943739                    1  \n",
       "1            0.987315                    1  \n",
       "2            0.975108                    1  \n",
       "3            0.874511                    1  \n",
       "4            0.874860                    1  "
      ]
     },
     "execution_count": 15,
     "metadata": {},
     "output_type": "execute_result"
    }
   ],
   "source": [
    "vix_index_io.head()"
   ]
  },
  {
   "cell_type": "code",
   "execution_count": 16,
   "id": "39cab11d",
   "metadata": {},
   "outputs": [],
   "source": [
    "vixy_bid = pd.read_csv(\"./hourly_data/VIXY_1050D_1hour_BID.csv\")\n",
    "vixy_bid = vixy_bid.rename(columns = {\"date\":\"date\",\\\n",
    "                                \"open\":\"vixy_bid_open\",\\\n",
    "                                \"high\":'vixy_bid_high',\\\n",
    "                                'low':'vixy_bid_low',\\\n",
    "                                'close':'vixy_bid_close',\\\n",
    "                                'volume':'vixy_bid_volume'})"
   ]
  },
  {
   "cell_type": "code",
   "execution_count": 17,
   "id": "66f4859c",
   "metadata": {},
   "outputs": [
    {
     "data": {
      "text/plain": [
       "(5005, 6)"
      ]
     },
     "execution_count": 17,
     "metadata": {},
     "output_type": "execute_result"
    }
   ],
   "source": [
    "vixy_bid.shape"
   ]
  },
  {
   "cell_type": "code",
   "execution_count": 18,
   "id": "a96f4b76",
   "metadata": {},
   "outputs": [
    {
     "data": {
      "text/html": [
       "<div>\n",
       "<style scoped>\n",
       "    .dataframe tbody tr th:only-of-type {\n",
       "        vertical-align: middle;\n",
       "    }\n",
       "\n",
       "    .dataframe tbody tr th {\n",
       "        vertical-align: top;\n",
       "    }\n",
       "\n",
       "    .dataframe thead th {\n",
       "        text-align: right;\n",
       "    }\n",
       "</style>\n",
       "<table border=\"1\" class=\"dataframe\">\n",
       "  <thead>\n",
       "    <tr style=\"text-align: right;\">\n",
       "      <th></th>\n",
       "      <th>date</th>\n",
       "      <th>vixy_bid_open</th>\n",
       "      <th>vixy_bid_high</th>\n",
       "      <th>vixy_bid_low</th>\n",
       "      <th>vixy_bid_close</th>\n",
       "      <th>vixy_bid_volume</th>\n",
       "    </tr>\n",
       "  </thead>\n",
       "  <tbody>\n",
       "    <tr>\n",
       "      <th>0</th>\n",
       "      <td>20180827  09:30:00</td>\n",
       "      <td>93.48</td>\n",
       "      <td>94.44</td>\n",
       "      <td>93.40</td>\n",
       "      <td>93.88</td>\n",
       "      <td>-1</td>\n",
       "    </tr>\n",
       "    <tr>\n",
       "      <th>1</th>\n",
       "      <td>20180827  10:00:00</td>\n",
       "      <td>93.88</td>\n",
       "      <td>94.60</td>\n",
       "      <td>93.72</td>\n",
       "      <td>94.36</td>\n",
       "      <td>-1</td>\n",
       "    </tr>\n",
       "    <tr>\n",
       "      <th>2</th>\n",
       "      <td>20180827  11:00:00</td>\n",
       "      <td>94.36</td>\n",
       "      <td>94.76</td>\n",
       "      <td>94.16</td>\n",
       "      <td>94.40</td>\n",
       "      <td>-1</td>\n",
       "    </tr>\n",
       "    <tr>\n",
       "      <th>3</th>\n",
       "      <td>20180827  12:00:00</td>\n",
       "      <td>94.40</td>\n",
       "      <td>94.60</td>\n",
       "      <td>94.04</td>\n",
       "      <td>94.08</td>\n",
       "      <td>-1</td>\n",
       "    </tr>\n",
       "    <tr>\n",
       "      <th>4</th>\n",
       "      <td>20180827  13:00:00</td>\n",
       "      <td>94.08</td>\n",
       "      <td>94.36</td>\n",
       "      <td>94.04</td>\n",
       "      <td>94.24</td>\n",
       "      <td>-1</td>\n",
       "    </tr>\n",
       "  </tbody>\n",
       "</table>\n",
       "</div>"
      ],
      "text/plain": [
       "                 date  vixy_bid_open  vixy_bid_high  vixy_bid_low  \\\n",
       "0  20180827  09:30:00          93.48          94.44         93.40   \n",
       "1  20180827  10:00:00          93.88          94.60         93.72   \n",
       "2  20180827  11:00:00          94.36          94.76         94.16   \n",
       "3  20180827  12:00:00          94.40          94.60         94.04   \n",
       "4  20180827  13:00:00          94.08          94.36         94.04   \n",
       "\n",
       "   vixy_bid_close  vixy_bid_volume  \n",
       "0           93.88               -1  \n",
       "1           94.36               -1  \n",
       "2           94.40               -1  \n",
       "3           94.08               -1  \n",
       "4           94.24               -1  "
      ]
     },
     "execution_count": 18,
     "metadata": {},
     "output_type": "execute_result"
    }
   ],
   "source": [
    "vixy_bid.head()"
   ]
  },
  {
   "cell_type": "code",
   "execution_count": 21,
   "id": "4901ed05",
   "metadata": {},
   "outputs": [],
   "source": [
    "vixy_ask = pd.read_csv(\"./hourly_data/VIXY_1050D_1hour_ASK.csv\")\n",
    "vixy_ask = vixy_ask.rename(columns = {\"date\":\"date\",\\\n",
    "                                \"open\":\"vixy_ask_open\",\\\n",
    "                                \"high\":'vixy_ask_high',\\\n",
    "                                'low':'vixy_ask_low',\\\n",
    "                                'close':'vixy_ask_close',\\\n",
    "                                'volume':'vixy_ask_volume'})"
   ]
  },
  {
   "cell_type": "code",
   "execution_count": 22,
   "id": "17412b11",
   "metadata": {},
   "outputs": [
    {
     "data": {
      "text/plain": [
       "(5005, 6)"
      ]
     },
     "execution_count": 22,
     "metadata": {},
     "output_type": "execute_result"
    }
   ],
   "source": [
    "vixy_ask.shape"
   ]
  },
  {
   "cell_type": "code",
   "execution_count": 23,
   "id": "b508e5eb",
   "metadata": {},
   "outputs": [
    {
     "data": {
      "text/html": [
       "<div>\n",
       "<style scoped>\n",
       "    .dataframe tbody tr th:only-of-type {\n",
       "        vertical-align: middle;\n",
       "    }\n",
       "\n",
       "    .dataframe tbody tr th {\n",
       "        vertical-align: top;\n",
       "    }\n",
       "\n",
       "    .dataframe thead th {\n",
       "        text-align: right;\n",
       "    }\n",
       "</style>\n",
       "<table border=\"1\" class=\"dataframe\">\n",
       "  <thead>\n",
       "    <tr style=\"text-align: right;\">\n",
       "      <th></th>\n",
       "      <th>date</th>\n",
       "      <th>vixy_ask_open</th>\n",
       "      <th>vixy_ask_high</th>\n",
       "      <th>vixy_ask_low</th>\n",
       "      <th>vixy_ask_close</th>\n",
       "      <th>vixy_ask_volume</th>\n",
       "    </tr>\n",
       "  </thead>\n",
       "  <tbody>\n",
       "    <tr>\n",
       "      <th>0</th>\n",
       "      <td>20180827  09:30:00</td>\n",
       "      <td>93.64</td>\n",
       "      <td>94.48</td>\n",
       "      <td>93.44</td>\n",
       "      <td>93.92</td>\n",
       "      <td>-1</td>\n",
       "    </tr>\n",
       "    <tr>\n",
       "      <th>1</th>\n",
       "      <td>20180827  10:00:00</td>\n",
       "      <td>93.92</td>\n",
       "      <td>94.64</td>\n",
       "      <td>93.76</td>\n",
       "      <td>94.40</td>\n",
       "      <td>-1</td>\n",
       "    </tr>\n",
       "    <tr>\n",
       "      <th>2</th>\n",
       "      <td>20180827  11:00:00</td>\n",
       "      <td>94.40</td>\n",
       "      <td>94.80</td>\n",
       "      <td>94.20</td>\n",
       "      <td>94.44</td>\n",
       "      <td>-1</td>\n",
       "    </tr>\n",
       "    <tr>\n",
       "      <th>3</th>\n",
       "      <td>20180827  12:00:00</td>\n",
       "      <td>94.44</td>\n",
       "      <td>94.68</td>\n",
       "      <td>94.08</td>\n",
       "      <td>94.16</td>\n",
       "      <td>-1</td>\n",
       "    </tr>\n",
       "    <tr>\n",
       "      <th>4</th>\n",
       "      <td>20180827  13:00:00</td>\n",
       "      <td>94.16</td>\n",
       "      <td>94.40</td>\n",
       "      <td>94.08</td>\n",
       "      <td>94.28</td>\n",
       "      <td>-1</td>\n",
       "    </tr>\n",
       "  </tbody>\n",
       "</table>\n",
       "</div>"
      ],
      "text/plain": [
       "                 date  vixy_ask_open  vixy_ask_high  vixy_ask_low  \\\n",
       "0  20180827  09:30:00          93.64          94.48         93.44   \n",
       "1  20180827  10:00:00          93.92          94.64         93.76   \n",
       "2  20180827  11:00:00          94.40          94.80         94.20   \n",
       "3  20180827  12:00:00          94.44          94.68         94.08   \n",
       "4  20180827  13:00:00          94.16          94.40         94.08   \n",
       "\n",
       "   vixy_ask_close  vixy_ask_volume  \n",
       "0           93.92               -1  \n",
       "1           94.40               -1  \n",
       "2           94.44               -1  \n",
       "3           94.16               -1  \n",
       "4           94.28               -1  "
      ]
     },
     "execution_count": 23,
     "metadata": {},
     "output_type": "execute_result"
    }
   ],
   "source": [
    "vixy_ask.head()"
   ]
  },
  {
   "cell_type": "code",
   "execution_count": null,
   "id": "d78f65a4",
   "metadata": {},
   "outputs": [],
   "source": [
    "vixy_io = pd.read_csv(\"./hourly_data/VIXY_1050D_1hour_OPTION_IMPLIED_VOLATILITY.csv\")\n",
    "vixy_ask = vixy_ask.rename(columns = {\"date\":\"date\",\\\n",
    "                                \"open\":\"vixy_ask_open\",\\\n",
    "                                \"high\":'vixy_ask_high',\\\n",
    "                                'low':'vixy_ask_low',\\\n",
    "                                'close':'vixy_ask_close',\\\n",
    "                                'volume':'vixy_ask_volume'})"
   ]
  },
  {
   "cell_type": "code",
   "execution_count": null,
   "id": "d2788c2f",
   "metadata": {},
   "outputs": [],
   "source": [
    "vixy_io.shape"
   ]
  },
  {
   "cell_type": "code",
   "execution_count": null,
   "id": "7affa202",
   "metadata": {},
   "outputs": [],
   "source": [
    "spy_bid = pd.read_csv(\"./hourly_data/SPY_1050D_1hour_BID.csv\")\n",
    "spy_bid.shape"
   ]
  },
  {
   "cell_type": "code",
   "execution_count": null,
   "id": "d57b60fa",
   "metadata": {},
   "outputs": [],
   "source": [
    "spy_ask = pd.read_csv(\"./hourly_data/SPY_1050D_1hour_ASK.csv\")\n",
    "spy_ask.shape"
   ]
  },
  {
   "cell_type": "code",
   "execution_count": null,
   "id": "16c7e57c",
   "metadata": {},
   "outputs": [],
   "source": [
    "spy_io = pd.read_csv(\"./hourly_data/SPY_1050D_1hour_OPTION_IMPLIED_VOLATILITY.csv\")\n",
    "spy_io.shape"
   ]
  },
  {
   "cell_type": "code",
   "execution_count": null,
   "id": "f00547a7",
   "metadata": {},
   "outputs": [],
   "source": [
    "total_data = pd.merge(vix_index_trade,vix_index_io,on = 'date',how = 'inner')\n",
    "total_data = pd.merge(total_data,vixy_bid,on = 'date',how = 'inner')\n",
    "total_data = pd.merge(total_data,vixy_ask,on = 'date',how = 'inner')\n",
    "total_data = pd.merge(total_data,vixy_io,on = 'date',how = 'inner')\n",
    "total_data = pd.merge(total_data,spy_bid,on = 'date',how = 'inner')\n",
    "total_data = pd.merge(total_data,spy_ask,on = 'date',how = 'inner')\n",
    "total_data = pd.merge(total_data,spy_io,on = 'date',how = 'inner')"
   ]
  },
  {
   "cell_type": "code",
   "execution_count": null,
   "id": "7c69a479",
   "metadata": {},
   "outputs": [],
   "source": [
    "total_data.shape"
   ]
  },
  {
   "cell_type": "code",
   "execution_count": null,
   "id": "e27c3220",
   "metadata": {},
   "outputs": [],
   "source": [
    "total_data.head()"
   ]
  },
  {
   "cell_type": "code",
   "execution_count": 26,
   "id": "c7587fac",
   "metadata": {},
   "outputs": [],
   "source": [
    "data_names = []\n",
    "data_names.append(\"./hourly_data/VIX_1050D_1hour_TRADES.csv\")\n",
    "data_names.append(\"./hourly_data/VIX_1050D_1hour_OPTION_IMPLIED_VOLATILITY.csv\")\n",
    "data_names.append(\"./hourly_data/VIXY_1050D_1hour_BID.csv\")\n",
    "data_names.append(\"./hourly_data/VIXY_1050D_1hour_ASK.csv\")\n",
    "data_names.append(\"./hourly_data/VIXY_1050D_1hour_OPTION_IMPLIED_VOLATILITY.csv\")\n",
    "data_names.append(\"./hourly_data/SPY_1050D_1hour_BID.csv\")\n",
    "data_names.append(\"./hourly_data/SPY_1050D_1hour_ASK.csv\")\n",
    "data_names.append(\"./hourly_data/SPY_1050D_1hour_OPTION_IMPLIED_VOLATILITY.csv\")\n",
    "new_column_names = []\n",
    "new_column_names.append('vix_index')\n",
    "new_column_names.append('vix_index_iv')\n",
    "new_column_names.append('vixy_bid')\n",
    "new_column_names.append('vixy_ask')\n",
    "new_column_names.append('vixy_iv')\n",
    "new_column_names.append('spy_bid')\n",
    "new_column_names.append('spy_ask')\n",
    "new_column_names.append('spy_iv')"
   ]
  },
  {
   "cell_type": "code",
   "execution_count": 27,
   "id": "0d274d1f",
   "metadata": {},
   "outputs": [],
   "source": [
    "for index in range(0,len(data_names)):\n",
    "    \n",
    "    data_name = data_names[index]\n",
    "    new_column_name = new_column_names[index]\n",
    "    \n",
    "    if index == 0:\n",
    "        \n",
    "        total_data = pd.read_csv(data_name)\n",
    "        total_data = total_data.rename(columns = {\"date\":\"date\",\\\n",
    "                                \"open\":new_column_name+\"_open\",\\\n",
    "                                \"high\":new_column_name+'_high',\\\n",
    "                                'low':new_column_name+'_low',\\\n",
    "                                'close':new_column_name+'_close',\\\n",
    "                                'volume':new_column_name+'_volume'})\n",
    "    \n",
    "    else:\n",
    "        \n",
    "        new_data = pd.read_csv(data_name)\n",
    "        new_data = new_data.rename(columns = {\"date\":\"date\",\\\n",
    "                                \"open\":new_column_name+\"_open\",\\\n",
    "                                \"high\":new_column_name+'_high',\\\n",
    "                                'low':new_column_name+'_low',\\\n",
    "                                'close':new_column_name+'_close',\\\n",
    "                                'volume':new_column_name+'_volume'})\n",
    "        \n",
    "        total_data = pd.merge(total_data,new_data,on = 'date',how = 'inner')"
   ]
  },
  {
   "cell_type": "code",
   "execution_count": 28,
   "id": "8c16e8ad",
   "metadata": {},
   "outputs": [
    {
     "data": {
      "text/html": [
       "<div>\n",
       "<style scoped>\n",
       "    .dataframe tbody tr th:only-of-type {\n",
       "        vertical-align: middle;\n",
       "    }\n",
       "\n",
       "    .dataframe tbody tr th {\n",
       "        vertical-align: top;\n",
       "    }\n",
       "\n",
       "    .dataframe thead th {\n",
       "        text-align: right;\n",
       "    }\n",
       "</style>\n",
       "<table border=\"1\" class=\"dataframe\">\n",
       "  <thead>\n",
       "    <tr style=\"text-align: right;\">\n",
       "      <th></th>\n",
       "      <th>date</th>\n",
       "      <th>vix_index_open</th>\n",
       "      <th>vix_index_high</th>\n",
       "      <th>vix_index_low</th>\n",
       "      <th>vix_index_close</th>\n",
       "      <th>vix_index_volume</th>\n",
       "      <th>vix_index_iv_open</th>\n",
       "      <th>vix_index_iv_high</th>\n",
       "      <th>vix_index_iv_low</th>\n",
       "      <th>vix_index_iv_close</th>\n",
       "      <th>...</th>\n",
       "      <th>spy_ask_open</th>\n",
       "      <th>spy_ask_high</th>\n",
       "      <th>spy_ask_low</th>\n",
       "      <th>spy_ask_close</th>\n",
       "      <th>spy_ask_volume</th>\n",
       "      <th>spy_iv_open</th>\n",
       "      <th>spy_iv_high</th>\n",
       "      <th>spy_iv_low</th>\n",
       "      <th>spy_iv_close</th>\n",
       "      <th>spy_iv_volume</th>\n",
       "    </tr>\n",
       "  </thead>\n",
       "  <tbody>\n",
       "    <tr>\n",
       "      <th>0</th>\n",
       "      <td>20180827  09:30:00</td>\n",
       "      <td>12.43</td>\n",
       "      <td>12.48</td>\n",
       "      <td>12.24</td>\n",
       "      <td>12.25</td>\n",
       "      <td>0</td>\n",
       "      <td>0.867923</td>\n",
       "      <td>0.921595</td>\n",
       "      <td>0.816664</td>\n",
       "      <td>0.906911</td>\n",
       "      <td>...</td>\n",
       "      <td>288.86</td>\n",
       "      <td>289.34</td>\n",
       "      <td>288.69</td>\n",
       "      <td>289.31</td>\n",
       "      <td>-1</td>\n",
       "      <td>0.087199</td>\n",
       "      <td>0.090040</td>\n",
       "      <td>0.087199</td>\n",
       "      <td>0.087707</td>\n",
       "      <td>0</td>\n",
       "    </tr>\n",
       "    <tr>\n",
       "      <th>1</th>\n",
       "      <td>20180827  10:00:00</td>\n",
       "      <td>12.24</td>\n",
       "      <td>12.31</td>\n",
       "      <td>12.16</td>\n",
       "      <td>12.21</td>\n",
       "      <td>0</td>\n",
       "      <td>0.906911</td>\n",
       "      <td>0.993458</td>\n",
       "      <td>0.894703</td>\n",
       "      <td>0.940390</td>\n",
       "      <td>...</td>\n",
       "      <td>289.31</td>\n",
       "      <td>289.68</td>\n",
       "      <td>289.18</td>\n",
       "      <td>289.48</td>\n",
       "      <td>-1</td>\n",
       "      <td>0.087707</td>\n",
       "      <td>0.088262</td>\n",
       "      <td>0.087532</td>\n",
       "      <td>0.087707</td>\n",
       "      <td>0</td>\n",
       "    </tr>\n",
       "    <tr>\n",
       "      <th>2</th>\n",
       "      <td>20180827  11:00:00</td>\n",
       "      <td>12.22</td>\n",
       "      <td>12.29</td>\n",
       "      <td>12.16</td>\n",
       "      <td>12.23</td>\n",
       "      <td>0</td>\n",
       "      <td>0.940390</td>\n",
       "      <td>0.946327</td>\n",
       "      <td>0.868209</td>\n",
       "      <td>0.869637</td>\n",
       "      <td>...</td>\n",
       "      <td>289.48</td>\n",
       "      <td>289.86</td>\n",
       "      <td>289.24</td>\n",
       "      <td>289.83</td>\n",
       "      <td>-1</td>\n",
       "      <td>0.087707</td>\n",
       "      <td>0.088405</td>\n",
       "      <td>0.087262</td>\n",
       "      <td>0.087262</td>\n",
       "      <td>0</td>\n",
       "    </tr>\n",
       "    <tr>\n",
       "      <th>3</th>\n",
       "      <td>20180827  12:00:00</td>\n",
       "      <td>12.22</td>\n",
       "      <td>12.28</td>\n",
       "      <td>12.15</td>\n",
       "      <td>12.15</td>\n",
       "      <td>0</td>\n",
       "      <td>0.869637</td>\n",
       "      <td>0.877400</td>\n",
       "      <td>0.868669</td>\n",
       "      <td>0.868669</td>\n",
       "      <td>...</td>\n",
       "      <td>289.83</td>\n",
       "      <td>289.90</td>\n",
       "      <td>289.66</td>\n",
       "      <td>289.84</td>\n",
       "      <td>-1</td>\n",
       "      <td>0.087262</td>\n",
       "      <td>0.088072</td>\n",
       "      <td>0.087262</td>\n",
       "      <td>0.087564</td>\n",
       "      <td>0</td>\n",
       "    </tr>\n",
       "    <tr>\n",
       "      <th>4</th>\n",
       "      <td>20180827  13:00:00</td>\n",
       "      <td>12.16</td>\n",
       "      <td>12.24</td>\n",
       "      <td>12.15</td>\n",
       "      <td>12.21</td>\n",
       "      <td>0</td>\n",
       "      <td>0.868669</td>\n",
       "      <td>0.887274</td>\n",
       "      <td>0.867351</td>\n",
       "      <td>0.874654</td>\n",
       "      <td>...</td>\n",
       "      <td>289.84</td>\n",
       "      <td>289.85</td>\n",
       "      <td>289.59</td>\n",
       "      <td>289.73</td>\n",
       "      <td>-1</td>\n",
       "      <td>0.087564</td>\n",
       "      <td>0.088024</td>\n",
       "      <td>0.087119</td>\n",
       "      <td>0.087707</td>\n",
       "      <td>0</td>\n",
       "    </tr>\n",
       "  </tbody>\n",
       "</table>\n",
       "<p>5 rows × 41 columns</p>\n",
       "</div>"
      ],
      "text/plain": [
       "                 date  vix_index_open  vix_index_high  vix_index_low  \\\n",
       "0  20180827  09:30:00           12.43           12.48          12.24   \n",
       "1  20180827  10:00:00           12.24           12.31          12.16   \n",
       "2  20180827  11:00:00           12.22           12.29          12.16   \n",
       "3  20180827  12:00:00           12.22           12.28          12.15   \n",
       "4  20180827  13:00:00           12.16           12.24          12.15   \n",
       "\n",
       "   vix_index_close  vix_index_volume  vix_index_iv_open  vix_index_iv_high  \\\n",
       "0            12.25                 0           0.867923           0.921595   \n",
       "1            12.21                 0           0.906911           0.993458   \n",
       "2            12.23                 0           0.940390           0.946327   \n",
       "3            12.15                 0           0.869637           0.877400   \n",
       "4            12.21                 0           0.868669           0.887274   \n",
       "\n",
       "   vix_index_iv_low  vix_index_iv_close  ...  spy_ask_open  spy_ask_high  \\\n",
       "0          0.816664            0.906911  ...        288.86        289.34   \n",
       "1          0.894703            0.940390  ...        289.31        289.68   \n",
       "2          0.868209            0.869637  ...        289.48        289.86   \n",
       "3          0.868669            0.868669  ...        289.83        289.90   \n",
       "4          0.867351            0.874654  ...        289.84        289.85   \n",
       "\n",
       "   spy_ask_low  spy_ask_close  spy_ask_volume  spy_iv_open  spy_iv_high  \\\n",
       "0       288.69         289.31              -1     0.087199     0.090040   \n",
       "1       289.18         289.48              -1     0.087707     0.088262   \n",
       "2       289.24         289.83              -1     0.087707     0.088405   \n",
       "3       289.66         289.84              -1     0.087262     0.088072   \n",
       "4       289.59         289.73              -1     0.087564     0.088024   \n",
       "\n",
       "   spy_iv_low  spy_iv_close  spy_iv_volume  \n",
       "0    0.087199      0.087707              0  \n",
       "1    0.087532      0.087707              0  \n",
       "2    0.087262      0.087262              0  \n",
       "3    0.087262      0.087564              0  \n",
       "4    0.087119      0.087707              0  \n",
       "\n",
       "[5 rows x 41 columns]"
      ]
     },
     "execution_count": 28,
     "metadata": {},
     "output_type": "execute_result"
    }
   ],
   "source": [
    "total_data.head()"
   ]
  },
  {
   "cell_type": "code",
   "execution_count": 29,
   "id": "eccdfc21",
   "metadata": {},
   "outputs": [
    {
     "data": {
      "text/plain": [
       "(4959, 41)"
      ]
     },
     "execution_count": 29,
     "metadata": {},
     "output_type": "execute_result"
    }
   ],
   "source": [
    "total_data.shape"
   ]
  },
  {
   "cell_type": "code",
   "execution_count": 42,
   "id": "e9b644f3",
   "metadata": {},
   "outputs": [],
   "source": [
    "distiled_column_names = []\n",
    "for entry in total_data.columns:\n",
    "    if entry == \"date\":\n",
    "        distiled_column_names.append(entry)\n",
    "    elif 'close' in entry:\n",
    "        distiled_column_names.append(entry)\n",
    "        \n",
    "total_data_distiled = pd.DataFrame()\n",
    "for entry in distiled_column_names:\n",
    "    total_data_distiled[entry] = total_data[entry]"
   ]
  },
  {
   "cell_type": "code",
   "execution_count": 43,
   "id": "0ab33259",
   "metadata": {},
   "outputs": [
    {
     "data": {
      "text/html": [
       "<div>\n",
       "<style scoped>\n",
       "    .dataframe tbody tr th:only-of-type {\n",
       "        vertical-align: middle;\n",
       "    }\n",
       "\n",
       "    .dataframe tbody tr th {\n",
       "        vertical-align: top;\n",
       "    }\n",
       "\n",
       "    .dataframe thead th {\n",
       "        text-align: right;\n",
       "    }\n",
       "</style>\n",
       "<table border=\"1\" class=\"dataframe\">\n",
       "  <thead>\n",
       "    <tr style=\"text-align: right;\">\n",
       "      <th></th>\n",
       "      <th>date</th>\n",
       "      <th>vix_index_close</th>\n",
       "      <th>vix_index_iv_close</th>\n",
       "      <th>vixy_bid_close</th>\n",
       "      <th>vixy_ask_close</th>\n",
       "      <th>vixy_iv_close</th>\n",
       "      <th>spy_bid_close</th>\n",
       "      <th>spy_ask_close</th>\n",
       "      <th>spy_iv_close</th>\n",
       "    </tr>\n",
       "  </thead>\n",
       "  <tbody>\n",
       "    <tr>\n",
       "      <th>0</th>\n",
       "      <td>20180827  09:30:00</td>\n",
       "      <td>12.25</td>\n",
       "      <td>0.906911</td>\n",
       "      <td>93.88</td>\n",
       "      <td>93.92</td>\n",
       "      <td>0.647569</td>\n",
       "      <td>289.30</td>\n",
       "      <td>289.31</td>\n",
       "      <td>0.087707</td>\n",
       "    </tr>\n",
       "    <tr>\n",
       "      <th>1</th>\n",
       "      <td>20180827  10:00:00</td>\n",
       "      <td>12.21</td>\n",
       "      <td>0.940390</td>\n",
       "      <td>94.36</td>\n",
       "      <td>94.40</td>\n",
       "      <td>0.649553</td>\n",
       "      <td>289.47</td>\n",
       "      <td>289.48</td>\n",
       "      <td>0.087707</td>\n",
       "    </tr>\n",
       "    <tr>\n",
       "      <th>2</th>\n",
       "      <td>20180827  11:00:00</td>\n",
       "      <td>12.23</td>\n",
       "      <td>0.869637</td>\n",
       "      <td>94.40</td>\n",
       "      <td>94.44</td>\n",
       "      <td>0.643680</td>\n",
       "      <td>289.82</td>\n",
       "      <td>289.83</td>\n",
       "      <td>0.087262</td>\n",
       "    </tr>\n",
       "    <tr>\n",
       "      <th>3</th>\n",
       "      <td>20180827  12:00:00</td>\n",
       "      <td>12.15</td>\n",
       "      <td>0.868669</td>\n",
       "      <td>94.08</td>\n",
       "      <td>94.16</td>\n",
       "      <td>0.634504</td>\n",
       "      <td>289.83</td>\n",
       "      <td>289.84</td>\n",
       "      <td>0.087564</td>\n",
       "    </tr>\n",
       "    <tr>\n",
       "      <th>4</th>\n",
       "      <td>20180827  13:00:00</td>\n",
       "      <td>12.21</td>\n",
       "      <td>0.874654</td>\n",
       "      <td>94.24</td>\n",
       "      <td>94.28</td>\n",
       "      <td>0.637679</td>\n",
       "      <td>289.72</td>\n",
       "      <td>289.73</td>\n",
       "      <td>0.087707</td>\n",
       "    </tr>\n",
       "  </tbody>\n",
       "</table>\n",
       "</div>"
      ],
      "text/plain": [
       "                 date  vix_index_close  vix_index_iv_close  vixy_bid_close  \\\n",
       "0  20180827  09:30:00            12.25            0.906911           93.88   \n",
       "1  20180827  10:00:00            12.21            0.940390           94.36   \n",
       "2  20180827  11:00:00            12.23            0.869637           94.40   \n",
       "3  20180827  12:00:00            12.15            0.868669           94.08   \n",
       "4  20180827  13:00:00            12.21            0.874654           94.24   \n",
       "\n",
       "   vixy_ask_close  vixy_iv_close  spy_bid_close  spy_ask_close  spy_iv_close  \n",
       "0           93.92       0.647569         289.30         289.31      0.087707  \n",
       "1           94.40       0.649553         289.47         289.48      0.087707  \n",
       "2           94.44       0.643680         289.82         289.83      0.087262  \n",
       "3           94.16       0.634504         289.83         289.84      0.087564  \n",
       "4           94.28       0.637679         289.72         289.73      0.087707  "
      ]
     },
     "execution_count": 43,
     "metadata": {},
     "output_type": "execute_result"
    }
   ],
   "source": [
    "total_data_distiled.head()"
   ]
  },
  {
   "cell_type": "code",
   "execution_count": null,
   "id": "8f7bebbf",
   "metadata": {},
   "outputs": [],
   "source": [
    "#new features based on vix index close\n",
    "#1. moving average ratio\n",
    "#2. days since peak\n",
    "#3. rate of change for past 10 30 50 100 200"
   ]
  },
  {
   "cell_type": "code",
   "execution_count": 52,
   "id": "18dd7a2f",
   "metadata": {},
   "outputs": [],
   "source": [
    "from sklearn.linear_model import LinearRegression\n",
    "linear_regressor = LinearRegression() "
   ]
  },
  {
   "cell_type": "code",
   "execution_count": 56,
   "id": "e5d1a6c8",
   "metadata": {},
   "outputs": [],
   "source": [
    "import numpy as np"
   ]
  },
  {
   "cell_type": "code",
   "execution_count": 57,
   "id": "aed4a6f0",
   "metadata": {},
   "outputs": [],
   "source": [
    "linear_regression_length = 30\n",
    "x = [i for i in range(0,linear_regression_length)]\n",
    "x = np.asarray(x)\n",
    "x = np.reshape(x,(-1,1))\n",
    "y = total_data_distiled['vix_index_close'][-30:].tolist()\n",
    "y = np.asarray(y)\n",
    "y = np.reshape(y,(-1,1))"
   ]
  },
  {
   "cell_type": "code",
   "execution_count": 58,
   "id": "e67877ca",
   "metadata": {},
   "outputs": [
    {
     "data": {
      "text/plain": [
       "LinearRegression()"
      ]
     },
     "execution_count": 58,
     "metadata": {},
     "output_type": "execute_result"
    }
   ],
   "source": [
    "linear_regressor.fit(x,y)"
   ]
  },
  {
   "cell_type": "code",
   "execution_count": 59,
   "id": "f8800c6f",
   "metadata": {},
   "outputs": [
    {
     "data": {
      "text/plain": [
       "array([[-0.05296774]])"
      ]
     },
     "execution_count": 59,
     "metadata": {},
     "output_type": "execute_result"
    }
   ],
   "source": [
    "linear_regressor.coef_"
   ]
  },
  {
   "cell_type": "code",
   "execution_count": 61,
   "id": "b460b67f",
   "metadata": {},
   "outputs": [
    {
     "data": {
      "text/plain": [
       "-0.05296774193548385"
      ]
     },
     "execution_count": 61,
     "metadata": {},
     "output_type": "execute_result"
    }
   ],
   "source": [
    "linear_regressor.coef_[0][0]"
   ]
  },
  {
   "cell_type": "code",
   "execution_count": 60,
   "id": "3c86c2f4",
   "metadata": {},
   "outputs": [
    {
     "data": {
      "image/png": "[encoded data removed]",
      "text/plain": [
       "<Figure size 432x288 with 1 Axes>"
      ]
     },
     "metadata": {
      "needs_background": "light"
     },
     "output_type": "display_data"
    }
   ],
   "source": [
    "plt.plot(x,y)\n",
    "plt.show()"
   ]
  },
  {
   "cell_type": "code",
   "execution_count": 51,
   "id": "54879ec6",
   "metadata": {},
   "outputs": [
    {
     "data": {
      "text/plain": [
       "30"
      ]
     },
     "execution_count": 51,
     "metadata": {},
     "output_type": "execute_result"
    }
   ],
   "source": [
    "len(x)"
   ]
  },
  {
   "cell_type": "code",
   "execution_count": 50,
   "id": "a4055b11",
   "metadata": {},
   "outputs": [
    {
     "data": {
      "text/plain": [
       "30"
      ]
     },
     "execution_count": 50,
     "metadata": {},
     "output_type": "execute_result"
    }
   ],
   "source": [
    "len(y)"
   ]
  },
  {
   "cell_type": "code",
   "execution_count": 30,
   "id": "e1a45435",
   "metadata": {},
   "outputs": [],
   "source": [
    "import matplotlib.pyplot as plt"
   ]
  },
  {
   "cell_type": "code",
   "execution_count": 38,
   "id": "5ae85ef9",
   "metadata": {},
   "outputs": [
    {
     "data": {
      "image/png": "[encoded data removed]",
      "text/plain": [
       "<Figure size 432x288 with 1 Axes>"
      ]
     },
     "metadata": {
      "needs_background": "light"
     },
     "output_type": "display_data"
    }
   ],
   "source": [
    "plt.plot(total_data['vixy_ask_close'][-1000:])\n",
    "plt.show()"
   ]
  },
  {
   "cell_type": "code",
   "execution_count": 39,
   "id": "90976062",
   "metadata": {},
   "outputs": [
    {
     "data": {
      "image/png": "[encoded data removed]",
      "text/plain": [
       "<Figure size 432x288 with 1 Axes>"
      ]
     },
     "metadata": {
      "needs_background": "light"
     },
     "output_type": "display_data"
    }
   ],
   "source": [
    "plt.plot(total_data['vixy_ask_close'])\n",
    "plt.show()"
   ]
  },
  {
   "cell_type": "code",
   "execution_count": 34,
   "id": "4692179d",
   "metadata": {},
   "outputs": [
    {
     "data": {
      "text/plain": [
       "4859    25.81\n",
       "4860    25.44\n",
       "4861    25.72\n",
       "4862    26.03\n",
       "4863    25.96\n",
       "        ...  \n",
       "4954    23.07\n",
       "4955    23.17\n",
       "4956    23.41\n",
       "4957    23.36\n",
       "4958    23.67\n",
       "Name: vixy_ask_close, Length: 100, dtype: float64"
      ]
     },
     "execution_count": 34,
     "metadata": {},
     "output_type": "execute_result"
    }
   ],
   "source": [
    "total_data['vixy_ask_close'][-100:]"
   ]
  },
  {
   "cell_type": "code",
   "execution_count": null,
   "id": "da534a84",
   "metadata": {},
   "outputs": [],
   "source": []
  }
 ],
 "metadata": {
  "kernelspec": {
   "display_name": "Python 3.7.4 64-bit ('p37': conda)",
   "language": "python",
   "name": "python37464bitp37condace755f694755478c9bd95f16cbb10579"
  },
  "language_info": {
   "codemirror_mode": {
    "name": "ipython",
    "version": 3
   },
   "file_extension": ".py",
   "mimetype": "text/x-python",
   "name": "python",
   "nbconvert_exporter": "python",
   "pygments_lexer": "ipython3",
   "version": "3.7.4"
  }
 },
 "nbformat": 4,
 "nbformat_minor": 5
}
