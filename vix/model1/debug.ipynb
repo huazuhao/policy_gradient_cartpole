{
 "cells": [
  {
   "cell_type": "code",
   "execution_count": null,
   "id": "a596fc3c",
   "metadata": {},
   "outputs": [],
   "source": [
    "import random\n",
    "import numpy as np\n",
    "from copulas.multivariate import Multivariate\n",
    "import pandas as pd"
   ]
  },
  {
   "cell_type": "code",
   "execution_count": null,
   "id": "2bd142ba",
   "metadata": {},
   "outputs": [],
   "source": [
    "import trading_vix_objective_2\n",
    "env = trading_vix_objective_2.trading_vix()"
   ]
  },
  {
   "cell_type": "code",
   "execution_count": null,
   "id": "818d39e6",
   "metadata": {},
   "outputs": [],
   "source": [
    "env.reset()"
   ]
  },
  {
   "cell_type": "code",
   "execution_count": null,
   "id": "341e03a9",
   "metadata": {},
   "outputs": [],
   "source": [
    "for time_step in range(0,10):\n",
    "    action = random.uniform(0, 1)\n",
    "    obs,reward = env.step(action)\n",
    "    #print(obs)\n",
    "    print(reward)\n",
    "    print(' ')"
   ]
  },
  {
   "cell_type": "code",
   "execution_count": null,
   "id": "f5959615",
   "metadata": {},
   "outputs": [],
   "source": [
    "free_parameters = \\\n",
    "{'cov_para_1': -0.8419647954404355, 'cov_para_2': -0.785625296831131, 'cov_para_3': 0.28262189626693723, 'cov_para_4': -0.14224736094474788, 'cov_para_5': -0.3787086009979248, 'cov_para_6': -0.7235054165124893, 'beta_1a': 11.93993330001831, 'beta_1b': 13.292677402496338, 'beta_2a': 1.1339520663022995, 'beta_2b': 11.920332908630371, 'beta_3a': 17.002562284469604, 'beta_3b': 1.0662934929132462, 'beta_4a': 7.662838101387024, 'beta_4b': 6.5861910581588745, 'lambda_expon_1': 0.09136121791601182, 'lambda_expon_2': 0.0949619756937027, 'lambda_expon_3': 0.04050088679790497}"
   ]
  },
  {
   "cell_type": "code",
   "execution_count": null,
   "id": "09ca354f",
   "metadata": {},
   "outputs": [],
   "source": [
    "free_para1 = free_parameters['cov_para_1']\n",
    "free_para2 = free_parameters['cov_para_2']\n",
    "free_para3 = free_parameters['cov_para_3']\n",
    "free_para4 = free_parameters['cov_para_4']\n",
    "free_para5 = free_parameters['cov_para_5']\n",
    "free_para6 = free_parameters['cov_para_6']\n",
    "\n",
    "diag_1 = 1\n",
    "diag_2 = np.sqrt(1-free_para1**2)\n",
    "if (1-free_para2**2-free_para3**2)<0:\n",
    "    diag_3 = np.sqrt(np.abs(1-free_para2**2-free_para3**2))\n",
    "else:\n",
    "    diag_3 = np.sqrt(1-free_para2**2-free_para3**2)\n",
    "if (1-free_para4**2-free_para5**2-free_para6**2)<0:\n",
    "    diag_4 = np.sqrt(np.abs(1-free_para4**2-free_para5**2-free_para6**2))\n",
    "else:\n",
    "    diag_4 = np.sqrt(1-free_para4**2-free_para5**2-free_para6**2)\n",
    "\n",
    "\n",
    "lower_triangular_matrix = np.asarray([[diag_1,0,0,0],\n",
    "                        [free_para1,diag_2,0,0],\n",
    "                        [free_para2,free_para3,diag_3,0],\n",
    "                        [free_para4,free_para5,free_para6,diag_4]])\n",
    "\n",
    "\n",
    "cov_matrix = lower_triangular_matrix@lower_triangular_matrix.transpose()\n",
    "\n",
    "\n",
    "#now, define the marginal distribution of the gaussian copula\n",
    "univerates = [{'loc': 0,\n",
    "'scale': 1,\n",
    "'a': free_parameters['beta_1a'],\n",
    "'b': free_parameters['beta_1b'],\n",
    "'type': 'copulas.univariate.beta.BetaUnivariate'},\n",
    "{'loc': 0,\n",
    "'scale': 1,\n",
    "'a': free_parameters['beta_2a'],\n",
    "'b': free_parameters['beta_2b'],\n",
    "'type': 'copulas.univariate.beta.BetaUnivariate'},\n",
    "{'loc': 0,\n",
    "'scale': 1,\n",
    "'a': free_parameters['beta_3a'],\n",
    "'b': free_parameters['beta_3b'],\n",
    "'type': 'copulas.univariate.beta.BetaUnivariate'},\n",
    "{'loc': 0,\n",
    "'scale': 1,\n",
    "'a': free_parameters['beta_4a'],\n",
    "'b': free_parameters['beta_4b'],\n",
    "'type': 'copulas.univariate.beta.BetaUnivariate'}]\n",
    "\n",
    "\n",
    "#now, we construct the gaussian copula\n",
    "copula_parameters = {}\n",
    "copula_parameters['covariance'] = cov_matrix\n",
    "copula_parameters['univariates'] = univerates\n",
    "copula_parameters['type'] = 'copulas.multivariate.gaussian.GaussianMultivariate'\n",
    "copula_parameters['columns'] = [0,1,2,3]\n",
    "\n",
    "\n",
    "new_dist = Multivariate.from_dict(copula_parameters)"
   ]
  },
  {
   "cell_type": "code",
   "execution_count": null,
   "id": "a9802506",
   "metadata": {},
   "outputs": [],
   "source": [
    "cov_matrix"
   ]
  },
  {
   "cell_type": "code",
   "execution_count": null,
   "id": "c8558654",
   "metadata": {},
   "outputs": [],
   "source": [
    "from numpy import linalg as LA\n",
    "eig_value, eig_vectors = LA.eig(cov_matrix)\n",
    "eig_value"
   ]
  },
  {
   "cell_type": "code",
   "execution_count": null,
   "id": "7a9157fe",
   "metadata": {},
   "outputs": [],
   "source": [
    "from scipy.stats import expon"
   ]
  },
  {
   "cell_type": "code",
   "execution_count": null,
   "id": "4072505a",
   "metadata": {},
   "outputs": [],
   "source": [
    "env = trading_vix_objective_2.trading_vix()\n",
    "current_feature = env.reset()"
   ]
  },
  {
   "cell_type": "code",
   "execution_count": null,
   "id": "e8e033c1",
   "metadata": {},
   "outputs": [],
   "source": [
    "lambda_expon_1 = free_parameters['lambda_expon_1']\n",
    "lambda_expon_2 = free_parameters['lambda_expon_2']\n",
    "lambda_expon_3 = free_parameters['lambda_expon_3']\n",
    "lambda_expons = [lambda_expon_1,lambda_expon_2,lambda_expon_3]\n",
    "\n",
    "\n",
    "transformed_features = []\n",
    "for feature_index in range(len(lambda_expons)):\n",
    "    transformation = expon.cdf(current_feature[feature_index,0],scale = 1.0/lambda_expons[feature_index])\n",
    "    transformed_features.append(transformation)\n",
    "transformed_features = np.asarray(transformed_features)\n",
    "transformed_features = np.reshape(transformed_features,(1,-1))\n",
    "holding_position = np.reshape(current_feature[-1,:],(1,1))\n",
    "holding_position = np.asarray([[0.10]])\n",
    "data_point_for_df = np.concatenate((transformed_features,holding_position),axis = 1)\n",
    "\n",
    "print(data_point_for_df)\n",
    "\n",
    "data_point_for_copula = pd.DataFrame(data_point_for_df)\n",
    "\n",
    "\n",
    "assert data_point_for_df.shape[1] == 4\n",
    "action = new_dist.cdf(data_point_for_copula)\n",
    "print(action)"
   ]
  },
  {
   "cell_type": "code",
   "execution_count": null,
   "id": "00ace74f",
   "metadata": {},
   "outputs": [],
   "source": [
    "current_feature"
   ]
  },
  {
   "cell_type": "code",
   "execution_count": null,
   "id": "1fca834c",
   "metadata": {},
   "outputs": [],
   "source": [
    "current_feature[-1,:]"
   ]
  },
  {
   "cell_type": "code",
   "execution_count": null,
   "id": "20381a7c",
   "metadata": {},
   "outputs": [],
   "source": [
    "from scipy.special import expit\n",
    "\n",
    "expit(current_feature[-1,:])\n"
   ]
  },
  {
   "cell_type": "code",
   "execution_count": null,
   "id": "37dc02e3",
   "metadata": {},
   "outputs": [],
   "source": [
    "free_parameters = \\\n",
    "{'cov_para_1': -0.8419647954404355, 'cov_para_2': -0.785625296831131, 'cov_para_3': 0.28262189626693723, 'cov_para_4': -0.14224736094474788, 'cov_para_5': -0.3787086009979248, 'cov_para_6': -0.7235054165124893, 'beta_1a': 11.93993330001831, 'beta_1b': 13.292677402496338, 'beta_2a': 1.1339520663022995, 'beta_2b': 11.920332908630371, 'beta_3a': 17.002562284469604, 'beta_3b': 1.0662934929132462, 'beta_4a': 7.662838101387024, 'beta_4b': 6.5861910581588745, 'lambda_expon_1': 0.09136121791601182, 'lambda_expon_2': 0.0949619756937027, 'lambda_expon_3': 0.04050088679790497}"
   ]
  },
  {
   "cell_type": "code",
   "execution_count": null,
   "id": "3cae5ae4",
   "metadata": {},
   "outputs": [],
   "source": [
    "free_para1 = free_parameters['cov_para_1']\n",
    "free_para2 = free_parameters['cov_para_2']\n",
    "free_para3 = free_parameters['cov_para_3']\n",
    "free_para4 = free_parameters['cov_para_4']\n",
    "free_para5 = free_parameters['cov_para_5']\n",
    "free_para6 = free_parameters['cov_para_6']\n",
    "\n",
    "diag_1 = 1\n",
    "diag_2 = np.sqrt(1-free_para1**2)\n",
    "if (1-free_para2**2-free_para3**2)<0:\n",
    "    diag_3 = np.sqrt(np.abs(1-free_para2**2-free_para3**2))\n",
    "else:\n",
    "    diag_3 = np.sqrt(1-free_para2**2-free_para3**2)\n",
    "if (1-free_para4**2-free_para5**2-free_para6**2)<0:\n",
    "    diag_4 = np.sqrt(np.abs(1-free_para4**2-free_para5**2-free_para6**2))\n",
    "else:\n",
    "    diag_4 = np.sqrt(1-free_para4**2-free_para5**2-free_para6**2)\n",
    "\n",
    "\n",
    "lower_triangular_matrix = np.asarray([[diag_1,0,0,0],\n",
    "                        [free_para1,diag_2,0,0],\n",
    "                        [free_para2,free_para3,diag_3,0],\n",
    "                        [free_para4,free_para5,free_para6,diag_4]])\n",
    "\n",
    "lower_triangular_matrix = np.asarray([[diag_1,0,0],\n",
    "                        [free_para1,diag_2,0],\n",
    "                        [free_para2,free_para3,diag_3]])\n",
    "\n",
    "\n",
    "cov_matrix = lower_triangular_matrix@lower_triangular_matrix.transpose()\n",
    "\n",
    "\n",
    "#now, define the marginal distribution of the gaussian copula\n",
    "univerates = [{'loc': 0,\n",
    "'scale': 1,\n",
    "'a': free_parameters['beta_1a'],\n",
    "'b': free_parameters['beta_1b'],\n",
    "'type': 'copulas.univariate.beta.BetaUnivariate'},\n",
    "{'loc': 0,\n",
    "'scale': 1,\n",
    "'a': free_parameters['beta_2a'],\n",
    "'b': free_parameters['beta_2b'],\n",
    "'type': 'copulas.univariate.beta.BetaUnivariate'},\n",
    "{'loc': 0,\n",
    "'scale': 1,\n",
    "'a': free_parameters['beta_3a'],\n",
    "'b': free_parameters['beta_3b'],\n",
    "'type': 'copulas.univariate.beta.BetaUnivariate'},\n",
    "# {'loc': 0,\n",
    "# 'scale': 1,\n",
    "# 'a': free_parameters['beta_4a'],\n",
    "# 'b': free_parameters['beta_4b'],\n",
    "# 'type': 'copulas.univariate.beta.BetaUnivariate'}\n",
    "]\n",
    "\n",
    "\n",
    "#now, we construct the gaussian copula\n",
    "copula_parameters = {}\n",
    "copula_parameters['covariance'] = cov_matrix\n",
    "copula_parameters['univariates'] = univerates\n",
    "copula_parameters['type'] = 'copulas.multivariate.gaussian.GaussianMultivariate'\n",
    "copula_parameters['columns'] = [0,1,2]\n",
    "\n",
    "\n",
    "new_dist = Multivariate.from_dict(copula_parameters)"
   ]
  },
  {
   "cell_type": "code",
   "execution_count": null,
   "id": "d5b8ced2",
   "metadata": {},
   "outputs": [],
   "source": [
    "lower_triangular_matrix"
   ]
  },
  {
   "cell_type": "code",
   "execution_count": null,
   "id": "08366e30",
   "metadata": {},
   "outputs": [],
   "source": [
    "from numpy import linalg as LA\n",
    "eig_value, eig_vectors = LA.eig(cov_matrix)\n",
    "eig_value"
   ]
  },
  {
   "cell_type": "code",
   "execution_count": null,
   "id": "5612f9ea",
   "metadata": {},
   "outputs": [],
   "source": [
    "data_points = pd.DataFrame()\n",
    "data_points[0] = [0.9]\n",
    "data_points[1] = [0.8]\n",
    "data_points[2] = [0.9]\n",
    "#data_points[3] = [0.0]\n",
    "print(data_points)"
   ]
  },
  {
   "cell_type": "code",
   "execution_count": null,
   "id": "ecd50875",
   "metadata": {},
   "outputs": [],
   "source": [
    "new_dist.cdf(data_points)"
   ]
  },
  {
   "cell_type": "code",
   "execution_count": null,
   "id": "e40524ef",
   "metadata": {},
   "outputs": [],
   "source": [
    "def construct_a_copula(cov_input,marginal_input):\n",
    "    \n",
    "    assert len(cov_input)<4\n",
    "        \n",
    "    if len(cov_input)==3:\n",
    "        diag_1 = 1\n",
    "        diag_2 = np.sqrt(1-cov_input[0]**2)\n",
    "        if (1-cov_input[1]**2-cov_input[2]**2)<0:\n",
    "            diag_3 = np.sqrt(np.abs(1-cov_input[1]**2-cov_input[2]**2))\n",
    "        else:\n",
    "            diag_3 = np.sqrt(1-cov_input[1]**2-cov_input[2]**2)\n",
    "\n",
    "        lower_triangular_matrix = np.asarray([[diag_1,0,0],\n",
    "                                [cov_input[0],diag_2,0],\n",
    "                                [cov_input[1],cov_input[2],diag_3]])\n",
    "\n",
    "        cov_matrix = lower_triangular_matrix@lower_triangular_matrix.transpose()\n",
    "\n",
    "    \n",
    "    if len(cov_input)==1:\n",
    "        diag_2 = np.sqrt(1-cov_input[0]**2)\n",
    "        \n",
    "        lower_triangular_matrix = np.asarray([[diag_1,0],\n",
    "                                [cov_input[0],diag_2]])\n",
    "        \n",
    "        cov_matrix = lower_triangular_matrix@lower_triangular_matrix.transpose()\n",
    "    \n",
    "    \n",
    "    if len(marginal_input)== 6:\n",
    "        univerates = [{'loc': 0,\n",
    "        'scale': 1,\n",
    "        'a': marginal_input[0],\n",
    "        'b': marginal_input[1],\n",
    "        'type': 'copulas.univariate.beta.BetaUnivariate'},\n",
    "        {'loc': 0,\n",
    "        'scale': 1,\n",
    "        'a': marginal_input[2],\n",
    "        'b': marginal_input[3],\n",
    "        'type': 'copulas.univariate.beta.BetaUnivariate'},\n",
    "        {'loc': 0,\n",
    "        'scale': 1,\n",
    "        'a': marginal_input[4],\n",
    "        'b': marginal_input[5],\n",
    "        'type': 'copulas.univariate.beta.BetaUnivariate'}]\n",
    "        \n",
    "    if len(marginal_input)==4:\n",
    "        univerates = [{'loc': 0,\n",
    "        'scale': 1,\n",
    "        'a': marginal_input[0],\n",
    "        'b': marginal_input[1],\n",
    "        'type': 'copulas.univariate.beta.BetaUnivariate'},\n",
    "        {'loc': 0,\n",
    "        'scale': 1,\n",
    "        'a': marginal_input[2],\n",
    "        'b': marginal_input[3],\n",
    "        'type': 'copulas.univariate.beta.BetaUnivariate'}]\n",
    "    \n",
    "    copula_parameters = {}\n",
    "    copula_parameters['covariance'] = cov_matrix\n",
    "    copula_parameters['univariates'] = univerates\n",
    "    copula_parameters['type'] = 'copulas.multivariate.gaussian.GaussianMultivariate'\n",
    "    if len(marginal_input)== 6:\n",
    "        copula_parameters['columns'] = [0,1,2]\n",
    "    if len(marginal_input)==4:\n",
    "        copula_parameters['columns'] = [0,1]\n",
    "        \n",
    "    new_dist = Multivariate.from_dict(copula_parameters)\n",
    "    \n",
    "    return new_dist"
   ]
  },
  {
   "cell_type": "code",
   "execution_count": null,
   "id": "63836084",
   "metadata": {},
   "outputs": [],
   "source": [
    "free_para1 = free_parameters['cov_para_1']\n",
    "free_para2 = free_parameters['cov_para_2']\n",
    "free_para3 = free_parameters['cov_para_3']"
   ]
  },
  {
   "cell_type": "code",
   "execution_count": null,
   "id": "41feb9db",
   "metadata": {},
   "outputs": [],
   "source": [
    "cov_input = [free_para1,free_para2,free_para3]\n",
    "marginal_input = [free_parameters['beta_1a'],free_parameters['beta_1b'],\n",
    "                 free_parameters['beta_2a'],free_parameters['beta_2b'],\n",
    "                 free_parameters['beta_3a'],free_parameters['beta_3b']]"
   ]
  },
  {
   "cell_type": "code",
   "execution_count": null,
   "id": "7bade206",
   "metadata": {},
   "outputs": [],
   "source": [
    "dist = construct_a_copula(cov_input,marginal_input)"
   ]
  },
  {
   "cell_type": "code",
   "execution_count": null,
   "id": "98749613",
   "metadata": {},
   "outputs": [],
   "source": [
    "data_point_for_copula"
   ]
  },
  {
   "cell_type": "code",
   "execution_count": null,
   "id": "05eb1f4c",
   "metadata": {},
   "outputs": [],
   "source": [
    "new_dist.cdf(data_points)"
   ]
  },
  {
   "cell_type": "code",
   "execution_count": null,
   "id": "f99090f2",
   "metadata": {},
   "outputs": [],
   "source": [
    "import trading_vix_objective_2\n",
    "env = trading_vix_objective_2.trading_vix()"
   ]
  },
  {
   "cell_type": "code",
   "execution_count": null,
   "id": "698f4058",
   "metadata": {},
   "outputs": [],
   "source": [
    "env.reset()"
   ]
  },
  {
   "cell_type": "code",
   "execution_count": null,
   "id": "de791ef1",
   "metadata": {},
   "outputs": [],
   "source": [
    "current_feature = env.reset()"
   ]
  },
  {
   "cell_type": "code",
   "execution_count": null,
   "id": "96239073",
   "metadata": {},
   "outputs": [],
   "source": [
    "transformed_features = []\n",
    "for feature_index in range(len(lambda_expons)):\n",
    "    transformation = expon.cdf(current_feature[feature_index,0],scale = 1.0/lambda_expons[feature_index])\n",
    "    transformed_features.append(transformation)\n",
    "transformed_features = np.asarray(transformed_features)"
   ]
  },
  {
   "cell_type": "code",
   "execution_count": null,
   "id": "eb7e6066",
   "metadata": {},
   "outputs": [],
   "source": [
    "transformed_features"
   ]
  },
  {
   "cell_type": "code",
   "execution_count": null,
   "id": "79f56143",
   "metadata": {},
   "outputs": [],
   "source": [
    "transformed_features"
   ]
  },
  {
   "cell_type": "code",
   "execution_count": null,
   "id": "20a3a0ff",
   "metadata": {},
   "outputs": [],
   "source": [
    "transformed_features = np.reshape(transformed_features,(1,-1))"
   ]
  },
  {
   "cell_type": "code",
   "execution_count": null,
   "id": "eea8d9ee",
   "metadata": {},
   "outputs": [],
   "source": [
    "transformed_features.shape"
   ]
  },
  {
   "cell_type": "code",
   "execution_count": null,
   "id": "7bd6d174",
   "metadata": {},
   "outputs": [],
   "source": [
    "data_point_for_copula = pd.DataFrame(transformed_features)\n",
    "data_point_for_copula"
   ]
  },
  {
   "cell_type": "code",
   "execution_count": null,
   "id": "d69701d7",
   "metadata": {},
   "outputs": [],
   "source": [
    "current_feature[-1,:][0]"
   ]
  },
  {
   "cell_type": "code",
   "execution_count": null,
   "id": "7fa8ee27",
   "metadata": {},
   "outputs": [],
   "source": [
    "transformed_features = []\n",
    "for feature_index in range(len(lambda_expons)):\n",
    "    transformation = expon.cdf(current_feature[feature_index,0],scale = 1.0/lambda_expons[feature_index])\n",
    "    transformed_features.append(transformation)\n",
    "transformed_features = np.asarray(transformed_features)\n",
    "transformed_features = np.reshape(transformed_features,(1,-1))\n",
    "data_point_for_copula_1 = pd.DataFrame(transformed_features)\n",
    "copula_1_output = dist_1.cdf(data_point_for_copula_1)\n",
    "\n",
    "data_point_for_copula_2 = np.asarray([copula_1_output,current_feature[-1,:][0]])\n",
    "data_point_for_copula_2 = np.resahpe(data_point_for_copula_2,(1,1))\n",
    "data_point_for_copula_2 = pd.DataFrame(data_point_for_copula_2)\n",
    "copula_2_output = dist_1.cdf(data_point_for_copula_2)"
   ]
  },
  {
   "cell_type": "code",
   "execution_count": null,
   "id": "6c83f41f",
   "metadata": {},
   "outputs": [],
   "source": [
    "free_parameters = \\\n",
    "{'cov_para_1': 0.03486785888671873, 'cov_para_2': 0.11317462921142585, 'cov_para_3': 0.1690827012062074, 'cov_para_4': 0.3950744748115539, 'beta_1a': 9.527766108512878, 'beta_1b': 8.363484144210815, 'beta_2a': 17.49446749687195, 'beta_2b': 14.08113718032837, 'beta_3a': 0.5255872756242752, 'beta_3b': 18.776148557662964, 'beta_4a': 16.938138008117676, 'beta_4b': 10.301854610443115, 'beta_5a': 12.012619972229004, 'beta_5b': 9.151394367218018, 'lambda_expon_1': 0.08449697780609132, 'lambda_expon_2': 0.07192293000221253, 'lambda_expon_3': 0.09399740934371949}\n"
   ]
  },
  {
   "cell_type": "code",
   "execution_count": null,
   "id": "c2dc8f4c",
   "metadata": {},
   "outputs": [],
   "source": [
    "lambda_expon_1 = free_parameters['lambda_expon_1']\n",
    "lambda_expon_2 = free_parameters['lambda_expon_2']\n",
    "lambda_expon_3 = free_parameters['lambda_expon_3']\n",
    "lambda_expons = [lambda_expon_1,lambda_expon_2,lambda_expon_3]"
   ]
  },
  {
   "cell_type": "code",
   "execution_count": null,
   "id": "0378c455",
   "metadata": {},
   "outputs": [],
   "source": [
    "import utils\n",
    "from scipy.stats import expon\n",
    "import numpy as np\n",
    "import pandas as pd"
   ]
  },
  {
   "cell_type": "code",
   "execution_count": null,
   "id": "9eeb2b94",
   "metadata": {},
   "outputs": [],
   "source": [
    "import trading_vix_objective_2\n",
    "locol_env = trading_vix_objective_2.trading_vix()"
   ]
  },
  {
   "cell_type": "code",
   "execution_count": null,
   "id": "55cabd75",
   "metadata": {},
   "outputs": [],
   "source": [
    "current_feature = locol_env.reset()"
   ]
  },
  {
   "cell_type": "code",
   "execution_count": null,
   "id": "9c06340d",
   "metadata": {},
   "outputs": [],
   "source": [
    "cov_input = [free_parameters['cov_para_1'],free_parameters['cov_para_2'],free_parameters['cov_para_3']]\n",
    "marginal_input = [free_parameters['beta_1a'],free_parameters['beta_1b'],\n",
    "         free_parameters['beta_2a'],free_parameters['beta_2b'],\n",
    "         free_parameters['beta_3a'],free_parameters['beta_3b']]\n",
    "dist_1 = utils.construct_a_copula(cov_input,marginal_input)\n",
    "\n",
    "cov_input = [free_parameters['cov_para_4']]\n",
    "marginal_input = [free_parameters['beta_4a'],free_parameters['beta_4b'],\n",
    "         free_parameters['beta_5a'],free_parameters['beta_5b']]\n",
    "dist_2 = utils.construct_a_copula(cov_input,marginal_input)"
   ]
  },
  {
   "cell_type": "code",
   "execution_count": null,
   "id": "62f9e288",
   "metadata": {},
   "outputs": [],
   "source": [
    "transformed_features = []\n",
    "for feature_index in range(len(lambda_expons)):\n",
    "    transformation = expon.cdf(current_feature[feature_index,0],scale = 1.0/lambda_expons[feature_index])\n",
    "    transformed_features.append(transformation)\n",
    "transformed_features = np.asarray(transformed_features)\n",
    "transformed_features = np.reshape(transformed_features,(1,-1))\n",
    "data_point_for_copula_1 = pd.DataFrame(transformed_features)\n",
    "copula_1_output = dist_1.cdf(data_point_for_copula_1)"
   ]
  },
  {
   "cell_type": "code",
   "execution_count": null,
   "id": "61d39c98",
   "metadata": {},
   "outputs": [],
   "source": [
    "data_point_for_copula_1"
   ]
  },
  {
   "cell_type": "code",
   "execution_count": null,
   "id": "050db38f",
   "metadata": {},
   "outputs": [],
   "source": [
    "copula_1_output"
   ]
  },
  {
   "cell_type": "code",
   "execution_count": null,
   "id": "8ba3c4fc",
   "metadata": {},
   "outputs": [],
   "source": []
  },
  {
   "cell_type": "code",
   "execution_count": null,
   "id": "4c059e98",
   "metadata": {},
   "outputs": [],
   "source": [
    "data_point_for_copula_2 = np.asarray([copula_1_output,current_feature[-1,:][0]])\n",
    "data_point_for_copula_2 = np.asarray([0.5,0.3])\n",
    "data_point_for_copula_2 = np.reshape(data_point_for_copula_2,(1,-1))\n",
    "data_point_for_copula_2 = pd.DataFrame(data_point_for_copula_2)\n",
    "copula_2_output = dist_2.cdf(data_point_for_copula_2)"
   ]
  },
  {
   "cell_type": "code",
   "execution_count": null,
   "id": "a858e12a",
   "metadata": {},
   "outputs": [],
   "source": [
    "data_point_for_copula_2"
   ]
  },
  {
   "cell_type": "code",
   "execution_count": null,
   "id": "4c4e1742",
   "metadata": {},
   "outputs": [],
   "source": [
    "copula_2_output"
   ]
  },
  {
   "cell_type": "code",
   "execution_count": null,
   "id": "61b58a51",
   "metadata": {},
   "outputs": [],
   "source": [
    "from sympy.solvers import solve\n",
    "from sympy import Symbol\n",
    "\n",
    "value_in_stock = 9000\n",
    "cash = 0.01\n",
    "action = 0.95\n",
    "x = Symbol('x')\n",
    "r = solve((value_in_stock-x)/(value_in_stock-x+cash) - action,x)"
   ]
  },
  {
   "cell_type": "code",
   "execution_count": null,
   "id": "32b16816",
   "metadata": {},
   "outputs": [],
   "source": [
    "r"
   ]
  },
  {
   "cell_type": "code",
   "execution_count": 1,
   "id": "dde9f916",
   "metadata": {},
   "outputs": [],
   "source": [
    "free_parameters = \\\n",
    "{'cov_para_1': 0.7077383995056153, 'cov_para_2': 0.04921081066131594, 'cov_para_3': -0.6062130600214004, 'cov_para_4': -0.31497657895088194, 'cov_para_5': 0.3259180068969726, 'cov_para_6': -0.11180943846702573, 'beta_1a': 19.896345138549805, 'beta_1b': 1.0905852913856506, 'beta_2a': 3.6441731452941895, 'beta_2b': 11.095696687698364, 'beta_3a': 9.475186467170715, 'beta_3b': 12.109053134918213, 'beta_4a': 5.415239930152893, 'beta_4b': 1.1566774547100067, 'lambda_expon_1': 0.029026871383190156, 'lambda_expon_2': 0.022337756991386414, 'lambda_expon_3': 0.04982164895534516}"
   ]
  },
  {
   "cell_type": "code",
   "execution_count": 2,
   "id": "7bf966a1",
   "metadata": {},
   "outputs": [],
   "source": [
    "from copulas.multivariate import Multivariate\n",
    "import numpy as np\n",
    "import pandas as pd"
   ]
  },
  {
   "cell_type": "code",
   "execution_count": 3,
   "id": "65a077e6",
   "metadata": {},
   "outputs": [],
   "source": [
    "free_para1 = free_parameters['cov_para_1']\n",
    "free_para2 = free_parameters['cov_para_2']\n",
    "free_para3 = free_parameters['cov_para_3']\n",
    "free_para4 = free_parameters['cov_para_4']\n",
    "free_para5 = free_parameters['cov_para_5']\n",
    "free_para6 = free_parameters['cov_para_6']\n",
    "\n",
    "diag_1 = 1\n",
    "diag_2 = np.sqrt(1-free_para1**2)\n",
    "if (1-free_para2**2-free_para3**2)<0:\n",
    "    diag_3 = np.sqrt(np.abs(1-free_para2**2-free_para3**2))\n",
    "else:\n",
    "    diag_3 = np.sqrt(1-free_para2**2-free_para3**2)\n",
    "if (1-free_para4**2-free_para5**2-free_para6**2)<0:\n",
    "    diag_4 = np.sqrt(np.abs(1-free_para4**2-free_para5**2-free_para6**2))\n",
    "else:\n",
    "    diag_4 = np.sqrt(1-free_para4**2-free_para5**2-free_para6**2)\n",
    "\n",
    "\n",
    "lower_triangular_matrix = np.asarray([[diag_1,0,0,0],\n",
    "                        [free_para1,diag_2,0,0],\n",
    "                        [free_para2,free_para3,diag_3,0],\n",
    "                        [free_para4,free_para5,free_para6,diag_4]])\n",
    "\n",
    "\n",
    "cov_matrix = lower_triangular_matrix@lower_triangular_matrix.transpose()\n",
    "\n",
    "\n",
    "#now, define the marginal distribution of the gaussian copula\n",
    "univerates = [{'loc': 0,\n",
    "'scale': 1,\n",
    "'a': free_parameters['beta_1a'],\n",
    "'b': free_parameters['beta_1b'],\n",
    "'type': 'copulas.univariate.beta.BetaUnivariate'},\n",
    "{'loc': 0,\n",
    "'scale': 1,\n",
    "'a': free_parameters['beta_2a'],\n",
    "'b': free_parameters['beta_2b'],\n",
    "'type': 'copulas.univariate.beta.BetaUnivariate'},\n",
    "{'loc': 0,\n",
    "'scale': 1,\n",
    "'a': free_parameters['beta_3a'],\n",
    "'b': free_parameters['beta_3b'],\n",
    "'type': 'copulas.univariate.beta.BetaUnivariate'},\n",
    "{'loc': 0,\n",
    "'scale': 1,\n",
    "'a': free_parameters['beta_4a'],\n",
    "'b': free_parameters['beta_4b'],\n",
    "'type': 'copulas.univariate.beta.BetaUnivariate'}]\n",
    "\n",
    "\n",
    "#now, we construct the gaussian copula\n",
    "copula_parameters = {}\n",
    "copula_parameters['covariance'] = cov_matrix\n",
    "copula_parameters['univariates'] = univerates\n",
    "copula_parameters['type'] = 'copulas.multivariate.gaussian.GaussianMultivariate'\n",
    "copula_parameters['columns'] = [0,1,2,3]\n",
    "\n",
    "\n",
    "new_dist = Multivariate.from_dict(copula_parameters)"
   ]
  },
  {
   "cell_type": "code",
   "execution_count": 4,
   "id": "cefee662",
   "metadata": {},
   "outputs": [],
   "source": [
    "import trading_vix\n",
    "locol_env = trading_vix.trading_vix()\n",
    "current_feature = locol_env.reset()"
   ]
  },
  {
   "cell_type": "code",
   "execution_count": 5,
   "id": "384ff4e8",
   "metadata": {},
   "outputs": [
    {
     "data": {
      "text/plain": [
       "array([[ 9.],\n",
       "       [25.],\n",
       "       [64.],\n",
       "       [ 0.]])"
      ]
     },
     "execution_count": 5,
     "metadata": {},
     "output_type": "execute_result"
    }
   ],
   "source": [
    "current_feature"
   ]
  },
  {
   "cell_type": "code",
   "execution_count": 6,
   "id": "4f7e038b",
   "metadata": {},
   "outputs": [
    {
     "data": {
      "text/plain": [
       "numpy.ndarray"
      ]
     },
     "execution_count": 6,
     "metadata": {},
     "output_type": "execute_result"
    }
   ],
   "source": [
    "type(current_feature)"
   ]
  },
  {
   "cell_type": "code",
   "execution_count": 7,
   "id": "9e5955b8",
   "metadata": {},
   "outputs": [
    {
     "data": {
      "text/plain": [
       "dtype('float64')"
      ]
     },
     "execution_count": 7,
     "metadata": {},
     "output_type": "execute_result"
    }
   ],
   "source": [
    "current_feature.dtype"
   ]
  },
  {
   "cell_type": "code",
   "execution_count": 8,
   "id": "ec71250a",
   "metadata": {},
   "outputs": [
    {
     "name": "stdout",
     "output_type": "stream",
     "text": [
      "<class 'sympy.core.numbers.Float'>\n"
     ]
    }
   ],
   "source": [
    "current_feature,reward = locol_env.step(0.4)"
   ]
  },
  {
   "cell_type": "code",
   "execution_count": null,
   "id": "117cee37",
   "metadata": {},
   "outputs": [],
   "source": []
  },
  {
   "cell_type": "code",
   "execution_count": 9,
   "id": "eae158ef",
   "metadata": {},
   "outputs": [
    {
     "data": {
      "text/plain": [
       "array([[10.0],\n",
       "       [26.0],\n",
       "       [65.0],\n",
       "       [0.398478084374039]], dtype=object)"
      ]
     },
     "execution_count": 9,
     "metadata": {},
     "output_type": "execute_result"
    }
   ],
   "source": [
    "current_feature"
   ]
  },
  {
   "cell_type": "code",
   "execution_count": null,
   "id": "26f1281e",
   "metadata": {},
   "outputs": [],
   "source": [
    "current_feature.dtype"
   ]
  },
  {
   "cell_type": "code",
   "execution_count": null,
   "id": "8893946e",
   "metadata": {},
   "outputs": [],
   "source": [
    "locol_env.index_feature_dataframe.iloc[locol_env.current_time_index][0]"
   ]
  },
  {
   "cell_type": "code",
   "execution_count": null,
   "id": "00553f53",
   "metadata": {},
   "outputs": [],
   "source": [
    "current_feature[-1,:]"
   ]
  },
  {
   "cell_type": "code",
   "execution_count": null,
   "id": "36949a58",
   "metadata": {},
   "outputs": [],
   "source": [
    "transformed_features = []\n",
    "for feature_index in range(len(lambda_expons)):\n",
    "    transformation = expon.cdf(current_feature[feature_index,0],scale = 1.0/lambda_expons[feature_index])\n",
    "    transformed_features.append(transformation)\n",
    "transformed_features = np.asarray(transformed_features)\n",
    "transformed_features = np.reshape(transformed_features,(1,-1))\n",
    "holding_position = expit(current_feature[-1,:][0])\n",
    "holding_position = np.reshape(holding_position,(1,1))\n",
    "data_point_for_df = np.concatenate((transformed_features,holding_position),axis = 1)"
   ]
  },
  {
   "cell_type": "code",
   "execution_count": null,
   "id": "0cc0dc64",
   "metadata": {},
   "outputs": [],
   "source": [
    "type(current_feature[-1,:][0])"
   ]
  },
  {
   "cell_type": "code",
   "execution_count": null,
   "id": "93a162c7",
   "metadata": {},
   "outputs": [],
   "source": [
    "current_feature[-1,:][0]"
   ]
  },
  {
   "cell_type": "code",
   "execution_count": null,
   "id": "b3565958",
   "metadata": {},
   "outputs": [],
   "source": [
    "current_feature[-1,:]"
   ]
  },
  {
   "cell_type": "code",
   "execution_count": null,
   "id": "db0343bf",
   "metadata": {},
   "outputs": [],
   "source": [
    "type(expit(3))"
   ]
  },
  {
   "cell_type": "code",
   "execution_count": null,
   "id": "4d6398f6",
   "metadata": {},
   "outputs": [],
   "source": [
    "current_feature[-1,:]"
   ]
  },
  {
   "cell_type": "code",
   "execution_count": null,
   "id": "b360c0fa",
   "metadata": {},
   "outputs": [],
   "source": [
    "holding_position"
   ]
  },
  {
   "cell_type": "code",
   "execution_count": null,
   "id": "2b7f2c68",
   "metadata": {},
   "outputs": [],
   "source": []
  }
 ],
 "metadata": {
  "kernelspec": {
   "display_name": "Python 3.7.4 64-bit ('p37': conda)",
   "language": "python",
   "name": "python37464bitp37condace755f694755478c9bd95f16cbb10579"
  },
  "language_info": {
   "codemirror_mode": {
    "name": "ipython",
    "version": 3
   },
   "file_extension": ".py",
   "mimetype": "text/x-python",
   "name": "python",
   "nbconvert_exporter": "python",
   "pygments_lexer": "ipython3",
   "version": "3.7.4"
  }
 },
 "nbformat": 4,
 "nbformat_minor": 5
}
