{
 "cells": [
  {
   "cell_type": "code",
   "execution_count": 13,
   "id": "7ed9919f",
   "metadata": {},
   "outputs": [],
   "source": [
    "import random\n",
    "import numpy as np\n",
    "from copulas.multivariate import Multivariate\n",
    "import pandas as pd\n",
    "import matplotlib.pyplot as plt\n",
    "import trading_vix\n",
    "from scipy.stats import expon"
   ]
  },
  {
   "cell_type": "code",
   "execution_count": 14,
   "id": "4961aacc",
   "metadata": {},
   "outputs": [],
   "source": [
    "free_parameters = \\\n",
    "{'cov_para_1': -0.06949259947307429, 'cov_para_2': 0.23929418034836003, 'cov_para_3': 0.39441937092703283, 'cov_para_4': 0.5122625089816987, 'cov_para_5': 0.04957641118779821, 'cov_para_6': -0.17890348702479064, 'beta_1a': 7.779402292936231, 'beta_1b': 15.99508024054407, 'beta_2a': 10.415067866085819, 'beta_2b': 12.093051778272159, 'beta_3a': 7.509928267075036, 'beta_3b': 14.275439706895245, 'beta_4a': 1.3921558019510774, 'beta_4b': 7.916125737682833, 'lambda_expon_1': 0.059660893731805935, 'lambda_expon_2': 0.04483797185269005, 'lambda_expon_3': 0.052272870139135216}"
   ]
  },
  {
   "cell_type": "code",
   "execution_count": 15,
   "id": "8e5df206",
   "metadata": {},
   "outputs": [],
   "source": [
    "free_para1 = free_parameters['cov_para_1']\n",
    "free_para2 = free_parameters['cov_para_2']\n",
    "free_para3 = free_parameters['cov_para_3']\n",
    "free_para4 = free_parameters['cov_para_4']\n",
    "free_para5 = free_parameters['cov_para_5']\n",
    "free_para6 = free_parameters['cov_para_6']\n",
    "\n",
    "diag_1 = 1\n",
    "diag_2 = np.sqrt(1-free_para1**2)\n",
    "if (1-free_para2**2-free_para3**2)<0:\n",
    "    diag_3 = np.sqrt(np.abs(1-free_para2**2-free_para3**2))\n",
    "else:\n",
    "    diag_3 = np.sqrt(1-free_para2**2-free_para3**2)\n",
    "\n",
    "if (1-free_para4**2-free_para5**2-free_para6**2)<0:\n",
    "    diag_4 = np.sqrt(np.abs(1-free_para4**2-free_para5**2-free_para6**2))\n",
    "else:\n",
    "    diag_4 = np.sqrt(1-free_para4**2-free_para5**2-free_para6**2)\n",
    "\n",
    "lower_triangular_matrix = np.asarray([[diag_1,0,0,0],\n",
    "                        [free_para1,diag_2,0,0],\n",
    "                        [free_para2,free_para3,diag_3,0],\n",
    "                        [free_para4,free_para5,free_para6,diag_4]])\n",
    "\n",
    "\n",
    "cov_matrix = lower_triangular_matrix@lower_triangular_matrix.transpose()\n",
    "\n",
    "\n",
    "#now, define the marginal distribution of the gaussian copula\n",
    "univerates = [{'loc': 0,\n",
    "'scale': 1,\n",
    "'a': free_parameters['beta_1a'],\n",
    "'b': free_parameters['beta_1b'],\n",
    "'type': 'copulas.univariate.beta.BetaUnivariate'},\n",
    "{'loc': 0,\n",
    "'scale': 1,\n",
    "'a': free_parameters['beta_2a'],\n",
    "'b': free_parameters['beta_2b'],\n",
    "'type': 'copulas.univariate.beta.BetaUnivariate'},\n",
    "{'loc': 0,\n",
    "'scale': 1,\n",
    "'a': free_parameters['beta_3a'],\n",
    "'b': free_parameters['beta_3b'],\n",
    "'type': 'copulas.univariate.beta.BetaUnivariate'},\n",
    "{'loc': 0,\n",
    "'scale': 1,\n",
    "'a': free_parameters['beta_4a'],\n",
    "'b': free_parameters['beta_4b'],\n",
    "'type': 'copulas.univariate.beta.BetaUnivariate'}]\n",
    "\n",
    "\n",
    "#now, we construct the gaussian copula\n",
    "copula_parameters = {}\n",
    "copula_parameters['covariance'] = cov_matrix\n",
    "copula_parameters['univariates'] = univerates\n",
    "copula_parameters['type'] = 'copulas.multivariate.gaussian.GaussianMultivariate'\n",
    "copula_parameters['columns'] = [0,1,2,3]\n",
    "\n",
    "new_dist = Multivariate.from_dict(copula_parameters)"
   ]
  },
  {
   "cell_type": "code",
   "execution_count": 16,
   "id": "52bd87d7",
   "metadata": {},
   "outputs": [],
   "source": [
    "#other parameters needed for transforming the features\n",
    "lambda_expon_1 = free_parameters['lambda_expon_1']\n",
    "lambda_expon_2 = free_parameters['lambda_expon_2']\n",
    "lambda_expon_3 = free_parameters['lambda_expon_3']\n",
    "lambda_expons = [lambda_expon_1,lambda_expon_2,lambda_expon_3]"
   ]
  },
  {
   "cell_type": "code",
   "execution_count": 17,
   "id": "d15e5c4d",
   "metadata": {},
   "outputs": [],
   "source": [
    "locol_env = trading_vix.trading_vix()\n",
    "this_trajectory_reward = []\n",
    "has_at_least_sell = False\n",
    "null_objective = True\n",
    "current_feature = locol_env.reset()"
   ]
  },
  {
   "cell_type": "code",
   "execution_count": 18,
   "id": "7e9e2f9b",
   "metadata": {},
   "outputs": [],
   "source": [
    "transformed_features = []\n",
    "for feature_index in range(len(lambda_expons)):\n",
    "    transformation = expon.cdf(current_feature[feature_index,0],scale = 1.0/lambda_expons[feature_index])\n",
    "    min_transformation = 0.1\n",
    "    transformation = min_transformation*np.exp(np.log(1.0/min_transformation)*transformation)\n",
    "    transformed_features.append(transformation)\n",
    "transformed_features = np.asarray(transformed_features)\n",
    "transformed_features = np.reshape(transformed_features,(1,-1))\n",
    "#holding_position = expit(current_feature[-1,:][0])\n",
    "holding_position = current_feature[-1,:][0]\n",
    "if holding_position<0:\n",
    "    print('holding is less than 0, there is some problem and the holding position is',holding_position)\n",
    "if holding_position>1:\n",
    "    print('holding is greater than 1, there is some problem and the holding position is',holding_position)\n",
    "min_transformed_holding = 0.1\n",
    "transformed_holding = min_transformed_holding*np.exp(np.log(1.0/min_transformed_holding)*holding_position)\n",
    "transformed_holding = np.reshape(transformed_holding,(1,1))\n",
    "data_point_for_df = np.concatenate((transformed_features,transformed_holding),axis = 1)\n",
    "\n",
    "assert data_point_for_df.shape[1] == 4\n",
    "data_point_for_copula = pd.DataFrame(data_point_for_df)\n",
    "action = new_dist.cdf(data_point_for_copula)"
   ]
  },
  {
   "cell_type": "code",
   "execution_count": null,
   "id": "74e21c2d",
   "metadata": {},
   "outputs": [],
   "source": []
  }
 ],
 "metadata": {
  "kernelspec": {
   "display_name": "Python 3.7.4 64-bit ('p37': conda)",
   "language": "python",
   "name": "python37464bitp37condace755f694755478c9bd95f16cbb10579"
  },
  "language_info": {
   "codemirror_mode": {
    "name": "ipython",
    "version": 3
   },
   "file_extension": ".py",
   "mimetype": "text/x-python",
   "name": "python",
   "nbconvert_exporter": "python",
   "pygments_lexer": "ipython3",
   "version": "3.7.4"
  }
 },
 "nbformat": 4,
 "nbformat_minor": 5
}
