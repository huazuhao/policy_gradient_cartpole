{
 "cells": [
  {
   "cell_type": "code",
   "execution_count": 1,
   "id": "74ecdfed",
   "metadata": {},
   "outputs": [],
   "source": [
    "init_search_space_dict = {\n",
    "            'cov_para_1':[-0.9,0.9],\n",
    "            'cov_para_2':[-0.9,0.9],\n",
    "            'cov_para_3':[-0.9,0.9],\n",
    "            'cov_para_4':[-0.9,0.9],\n",
    "            'cov_para_5':[-0.9,0.9],\n",
    "            'cov_para_6':[-0.9,0.9],\n",
    "            'cov_para_7':[-0.9,0.9],\n",
    "            'cov_para_8':[-0.9,0.9],\n",
    "            'cov_para_9':[-0.9,0.9],\n",
    "            'cov_para_10':[-0.9,0.9],\n",
    "\n",
    "            'beta_1a':[0,20],\n",
    "            'beta_1b':[0,20],\n",
    "            'beta_2a':[0,20],\n",
    "            'beta_2b':[0,20],\n",
    "            'beta_3a':[0,20],\n",
    "            'beta_3b':[0,20],\n",
    "            'beta_4a':[0,20],\n",
    "            'beta_4b':[0,20],\n",
    "            'beta_5a':[0,20],\n",
    "            'beta_5b':[0,20],\n",
    "\n",
    "            'lambda_expon_1':[0.001,10],\n",
    "            'lambda_expon_2':[0.001,0.1],\n",
    "            'lambda_expon_3':[0.001,0.1],\n",
    "            'lambda_expon_4':[0.001,0.1],\n",
    "        }"
   ]
  },
  {
   "cell_type": "code",
   "execution_count": 2,
   "id": "1f770ca0",
   "metadata": {},
   "outputs": [
    {
     "data": {
      "text/plain": [
       "24"
      ]
     },
     "execution_count": 2,
     "metadata": {},
     "output_type": "execute_result"
    }
   ],
   "source": [
    "len(init_search_space_dict)"
   ]
  },
  {
   "cell_type": "code",
   "execution_count": 4,
   "id": "b82ca41d",
   "metadata": {},
   "outputs": [
    {
     "name": "stdout",
     "output_type": "stream",
     "text": [
      "cov_para_1\n",
      "-0.9\n",
      "cov_para_2\n",
      "-0.9\n",
      "cov_para_3\n",
      "-0.9\n",
      "cov_para_4\n",
      "-0.9\n",
      "cov_para_5\n",
      "-0.9\n",
      "cov_para_6\n",
      "-0.9\n",
      "cov_para_7\n",
      "-0.9\n",
      "cov_para_8\n",
      "-0.9\n",
      "cov_para_9\n",
      "-0.9\n",
      "cov_para_10\n",
      "-0.9\n",
      "beta_1a\n",
      "0\n",
      "beta_1b\n",
      "0\n",
      "beta_2a\n",
      "0\n",
      "beta_2b\n",
      "0\n",
      "beta_3a\n",
      "0\n",
      "beta_3b\n",
      "0\n",
      "beta_4a\n",
      "0\n",
      "beta_4b\n",
      "0\n",
      "beta_5a\n",
      "0\n",
      "beta_5b\n",
      "0\n",
      "lambda_expon_1\n",
      "0.001\n",
      "lambda_expon_2\n",
      "0.001\n",
      "lambda_expon_3\n",
      "0.001\n",
      "lambda_expon_4\n",
      "0.001\n"
     ]
    }
   ],
   "source": [
    "for var_name in init_search_space_dict.keys():\n",
    "    [lower_bound,upper_bound] = init_search_space_dict[var_name]\n",
    "    print(var_name)\n",
    "    print(lower_bound)"
   ]
  },
  {
   "cell_type": "code",
   "execution_count": 6,
   "id": "da6a775a",
   "metadata": {},
   "outputs": [],
   "source": [
    "import numpy as np"
   ]
  },
  {
   "cell_type": "code",
   "execution_count": 7,
   "id": "fb390d24",
   "metadata": {},
   "outputs": [
    {
     "data": {
      "text/plain": [
       "2.2"
      ]
     },
     "execution_count": 7,
     "metadata": {},
     "output_type": "execute_result"
    }
   ],
   "source": [
    "a = [1,2,3,4,5]\n",
    "np.quantile(a,0.3)"
   ]
  },
  {
   "cell_type": "code",
   "execution_count": null,
   "id": "525e3418",
   "metadata": {},
   "outputs": [],
   "source": []
  }
 ],
 "metadata": {
  "kernelspec": {
   "display_name": "Python 3.7.4 64-bit ('p37': conda)",
   "language": "python",
   "name": "python37464bitp37condace755f694755478c9bd95f16cbb10579"
  },
  "language_info": {
   "codemirror_mode": {
    "name": "ipython",
    "version": 3
   },
   "file_extension": ".py",
   "mimetype": "text/x-python",
   "name": "python",
   "nbconvert_exporter": "python",
   "pygments_lexer": "ipython3",
   "version": "3.7.4"
  }
 },
 "nbformat": 4,
 "nbformat_minor": 5
}
