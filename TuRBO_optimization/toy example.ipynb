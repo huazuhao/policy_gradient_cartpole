{
 "cells": [
  {
   "cell_type": "code",
   "execution_count": 1,
   "id": "77b8758d",
   "metadata": {},
   "outputs": [],
   "source": [
    "from turbo import TurboM\n",
    "import numpy as np\n",
    "import torch\n",
    "import math\n",
    "import matplotlib\n",
    "import matplotlib.pyplot as plt"
   ]
  },
  {
   "cell_type": "code",
   "execution_count": 4,
   "id": "b52ef384",
   "metadata": {},
   "outputs": [
    {
     "data": {
      "text/plain": [
       "(3,)"
      ]
     },
     "execution_count": 4,
     "metadata": {},
     "output_type": "execute_result"
    }
   ],
   "source": [
    "a = -5 * np.ones(3)\n",
    "a.shape"
   ]
  },
  {
   "cell_type": "code",
   "execution_count": 5,
   "id": "40cd1e32",
   "metadata": {},
   "outputs": [
    {
     "data": {
      "text/plain": [
       "array([-5., -5., -5.])"
      ]
     },
     "execution_count": 5,
     "metadata": {},
     "output_type": "execute_result"
    }
   ],
   "source": [
    "a"
   ]
  },
  {
   "cell_type": "code",
   "execution_count": 7,
   "id": "fe89a64d",
   "metadata": {},
   "outputs": [
    {
     "data": {
      "text/plain": [
       "array([-5, -5])"
      ]
     },
     "execution_count": 7,
     "metadata": {},
     "output_type": "execute_result"
    }
   ],
   "source": [
    "np.asarray([-5,-5])"
   ]
  },
  {
   "cell_type": "code",
   "execution_count": 8,
   "id": "b6483b8b",
   "metadata": {},
   "outputs": [
    {
     "data": {
      "text/plain": [
       "-5.0"
      ]
     },
     "execution_count": 8,
     "metadata": {},
     "output_type": "execute_result"
    }
   ],
   "source": [
    "a[0]"
   ]
  },
  {
   "cell_type": "code",
   "execution_count": 9,
   "id": "276d8ecd",
   "metadata": {},
   "outputs": [],
   "source": [
    "class toy_objective_function:\n",
    "    def __init__(self):\n",
    "        self.dim = 2\n",
    "        self.lb = np.asarray([-10,-10])\n",
    "        self.ub = np.asarray([10,10])\n",
    "        \n",
    "    def __call__(self, x):\n",
    "        assert len(x) == self.dim\n",
    "        assert x.ndim == 1\n",
    "        assert np.all(x <= self.ub) and np.all(x >= self.lb)\n",
    "        \n",
    "        #the turbom assumes a minimization problem\n",
    "        val = (x[0]-5)**2+(x[1]-6)**2\n",
    "\n",
    "        return val"
   ]
  },
  {
   "cell_type": "code",
   "execution_count": 10,
   "id": "b2ba5482",
   "metadata": {},
   "outputs": [],
   "source": [
    "f = toy_objective_function()"
   ]
  },
  {
   "cell_type": "code",
   "execution_count": 11,
   "id": "7e86122d",
   "metadata": {},
   "outputs": [
    {
     "name": "stdout",
     "output_type": "stream",
     "text": [
      "Using dtype = torch.float64 \n",
      "Using device = cuda\n"
     ]
    }
   ],
   "source": [
    "\n",
    "\n",
    "turbo_m = TurboM(\n",
    "    f=f,  # Handle to objective function\n",
    "    lb=f.lb,  # Numpy array specifying lower bounds\n",
    "    ub=f.ub,  # Numpy array specifying upper bounds\n",
    "    n_init=10,  # Number of initial bounds from an Symmetric Latin hypercube design\n",
    "    max_evals=1000,  # Maximum number of evaluations\n",
    "    n_trust_regions=5,  # Number of trust regions\n",
    "    batch_size=10,  # How large batch size TuRBO uses\n",
    "    verbose=True,  # Print information from each batch\n",
    "    use_ard=True,  # Set to true if you want to use ARD for the GP kernel\n",
    "    max_cholesky_size=2000,  # When we switch from Cholesky to Lanczos\n",
    "    n_training_steps=100,  # Number of steps of ADAM to learn the hypers\n",
    "    min_cuda=32,  # Run on the CPU for small datasets\n",
    "    #device=\"cpu\",  # \"cpu\" or \"cuda\"\n",
    "    device = \"cuda\",\n",
    "    dtype=\"float64\",  # float64 or float32\n",
    ")"
   ]
  },
  {
   "cell_type": "code",
   "execution_count": 12,
   "id": "93fd59a5",
   "metadata": {},
   "outputs": [
    {
     "name": "stdout",
     "output_type": "stream",
     "text": [
      "TR-0 starting from: 27.23\n",
      "TR-1 starting from: 24.13\n",
      "TR-2 starting from: 6.39\n",
      "TR-3 starting from: 8.754\n",
      "TR-4 starting from: 0.1447\n",
      "60) New best @ TR-4: 0.05136\n",
      "70) New best @ TR-3: 0.01498\n",
      "90) New best @ TR-3: 0.002453\n",
      "200) New best @ TR-3: 0.001587\n",
      "210) New best @ TR-3: 0.0001616\n",
      "240) TR-3 converged to: : 0.0001616\n",
      "240) TR-3 is restarting from: : 5.467\n",
      "270) TR-4 converged to: : 0.001528\n",
      "270) TR-4 is restarting from: : 2.509\n",
      "490) TR-1 converged to: : 0.006221\n",
      "490) TR-1 is restarting from: : 3.134\n",
      "500) TR-3 converged to: : 0.001463\n",
      "500) TR-3 is restarting from: : 0.6122\n",
      "550) TR-4 converged to: : 0.004631\n",
      "550) TR-4 is restarting from: : 12.17\n",
      "670) TR-0 converged to: : 0.0007278\n",
      "670) TR-0 is restarting from: : 11.52\n",
      "720) TR-3 converged to: : 0.000228\n",
      "720) TR-3 is restarting from: : 20.51\n",
      "770) TR-1 converged to: : 0.003422\n",
      "770) TR-1 is restarting from: : 15.78\n",
      "880) TR-2 converged to: : 0.0005119\n",
      "880) TR-2 is restarting from: : 2.814\n",
      "900) New best @ TR-0: 9.518e-05\n",
      "930) TR-0 converged to: : 9.518e-05\n",
      "930) TR-0 is restarting from: : 1.581\n"
     ]
    }
   ],
   "source": [
    "turbo_m.optimize()"
   ]
  },
  {
   "cell_type": "code",
   "execution_count": 13,
   "id": "3d114d47",
   "metadata": {},
   "outputs": [
    {
     "name": "stdout",
     "output_type": "stream",
     "text": [
      "Best value found:\n",
      "\tf(x) = 0.000\n",
      "Observed at:\n",
      "\tx = [5.009 6.003]\n"
     ]
    }
   ],
   "source": [
    "X = turbo_m.X  # Evaluated points\n",
    "fX = turbo_m.fX  # Observed values\n",
    "ind_best = np.argmin(fX)\n",
    "f_best, x_best = fX[ind_best], X[ind_best, :]\n",
    "\n",
    "print(\"Best value found:\\n\\tf(x) = %.3f\\nObserved at:\\n\\tx = %s\" % (f_best, np.around(x_best, 3)))\n",
    "\n"
   ]
  },
  {
   "cell_type": "code",
   "execution_count": 14,
   "id": "05beed46",
   "metadata": {},
   "outputs": [
    {
     "data": {
      "image/png": "[encoded data removed]",
      "text/plain": [
       "<Figure size 504x360 with 1 Axes>"
      ]
     },
     "metadata": {
      "needs_background": "light"
     },
     "output_type": "display_data"
    }
   ],
   "source": [
    "fig = plt.figure(figsize=(7, 5))\n",
    "matplotlib.rcParams.update({'font.size': 16})\n",
    "plt.plot(fX, 'b.', ms=10)  # Plot all evaluated points as blue dots\n",
    "plt.plot(np.minimum.accumulate(fX), 'r', lw=3)  # Plot cumulative minimum as a red line\n",
    "plt.xlim([0, len(fX)])\n",
    "plt.ylim([0, 30])\n",
    "plt.title(\"10D Levy function\")\n",
    "\n",
    "plt.tight_layout()\n",
    "plt.show()\n"
   ]
  },
  {
   "cell_type": "code",
   "execution_count": 15,
   "id": "5afef2cf",
   "metadata": {},
   "outputs": [],
   "source": [
    "init_search_space_dict = {\n",
    "            'cov_para_1':[-0.9,0.9]\n",
    "        }"
   ]
  },
  {
   "cell_type": "code",
   "execution_count": 16,
   "id": "5d443b1a",
   "metadata": {},
   "outputs": [
    {
     "data": {
      "text/plain": [
       "{'cov_para_1': [-0.9, 0.9]}"
      ]
     },
     "execution_count": 16,
     "metadata": {},
     "output_type": "execute_result"
    }
   ],
   "source": [
    "init_search_space_dict"
   ]
  },
  {
   "cell_type": "code",
   "execution_count": 17,
   "id": "58e37d30",
   "metadata": {},
   "outputs": [
    {
     "name": "stdout",
     "output_type": "stream",
     "text": [
      "Best value found:\n",
      "\tf(x) = 0.000\n",
      "Observed at:\n",
      "\tx = [5.009 6.003]\n"
     ]
    }
   ],
   "source": [
    "X = turbo_m.X  # Evaluated points\n",
    "fX = turbo_m.fX  # Observed values\n",
    "ind_best = np.argmin(fX)\n",
    "f_best, x_best = fX[ind_best], X[ind_best, :]\n",
    "\n",
    "print(\"Best value found:\\n\\tf(x) = %.3f\\nObserved at:\\n\\tx = %s\" % (f_best, np.around(x_best, 3)))\n",
    "\n"
   ]
  },
  {
   "cell_type": "code",
   "execution_count": 18,
   "id": "67335b6a",
   "metadata": {},
   "outputs": [
    {
     "data": {
      "text/plain": [
       "array([5.0091623 , 6.00335181])"
      ]
     },
     "execution_count": 18,
     "metadata": {},
     "output_type": "execute_result"
    }
   ],
   "source": [
    "x_best"
   ]
  },
  {
   "cell_type": "code",
   "execution_count": 19,
   "id": "29c82e40",
   "metadata": {},
   "outputs": [
    {
     "data": {
      "text/plain": [
       "(2,)"
      ]
     },
     "execution_count": 19,
     "metadata": {},
     "output_type": "execute_result"
    }
   ],
   "source": [
    "x_best.shape"
   ]
  },
  {
   "cell_type": "code",
   "execution_count": null,
   "id": "c3f22fee",
   "metadata": {},
   "outputs": [],
   "source": []
  }
 ],
 "metadata": {
  "kernelspec": {
   "display_name": "Python 3.7.4 64-bit ('p37': conda)",
   "language": "python",
   "name": "python37464bitp37condace755f694755478c9bd95f16cbb10579"
  },
  "language_info": {
   "codemirror_mode": {
    "name": "ipython",
    "version": 3
   },
   "file_extension": ".py",
   "mimetype": "text/x-python",
   "name": "python",
   "nbconvert_exporter": "python",
   "pygments_lexer": "ipython3",
   "version": "3.7.4"
  }
 },
 "nbformat": 4,
 "nbformat_minor": 5
}
