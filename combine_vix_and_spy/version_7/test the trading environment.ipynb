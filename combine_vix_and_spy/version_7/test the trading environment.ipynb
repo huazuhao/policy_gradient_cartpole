{
 "cells": [
  {
   "cell_type": "code",
   "execution_count": 1,
   "id": "1ebcff88",
   "metadata": {},
   "outputs": [],
   "source": [
    "import trading_vix_and_spy"
   ]
  },
  {
   "cell_type": "code",
   "execution_count": 2,
   "id": "4b15e358",
   "metadata": {},
   "outputs": [],
   "source": [
    "local_env = trading_vix_and_spy.trading_vix_and_spy()"
   ]
  },
  {
   "cell_type": "code",
   "execution_count": 3,
   "id": "3d44058b",
   "metadata": {},
   "outputs": [
    {
     "data": {
      "text/plain": [
       "array([0.1385490996398558, 0.1290820882088209, 0.1095566639165979,\n",
       "       0.1385490996398558, 0.1385490996398558, 0.1385490996398558,\n",
       "       0.0602439960444004, 0.0910825891099319, 0.092747308269233,\n",
       "       0.21101983, -0.2915927971188475, -0.1376122412241224,\n",
       "       -0.1501286282157054, -0.2915927971188475, -0.2915927971188475,\n",
       "       -0.2915927971188475, -0.0283591328792542, -0.0431152157200982,\n",
       "       -0.063465268261073, 0.96337626, 0.1064252100840338,\n",
       "       0.0515103810381037, 0.1459730405760143, 0.1064252100840338,\n",
       "       0.1064252100840338, 0.1064252100840338, 0.1238114445716063,\n",
       "       0.1203029686123038, 0.1168444428977716, 0.28675711,\n",
       "       0.0351536614645857, 0.1204903690369037, 0.0633702130053251,\n",
       "       0.0351536614645857, 0.0351536614645857, 0.0351536614645857,\n",
       "       0.0291373726374737, 0.0721682429265182, 0.0710380708722835,\n",
       "       0.23556182, 26.02, -0.0959875150060024, -0.0457041104110411,\n",
       "       -0.0553239555988899, -0.0959875150060024, -0.0959875150060024,\n",
       "       -0.0959875150060024, -0.0059685974288603, -0.0085332842705266,\n",
       "       -0.0215963855855423, 1.1425677, 5.043805159364978, 0, 98.68, 98.64,\n",
       "       322.94, 322.93,\n",
       "       '[304.15, 305.09000000000003, 305.555, 306.255, 306.46500000000003, 305.97, 302.95, 302.235, 301.025, 301.69, 301.64, 301.15, 303.57, 304.115, 304.21000000000004, 305.06, 304.99, 305.495, 305.905, 305.985, 305.59000000000003, 306.275, 306.38, 305.845, 306.40999999999997, 307.055, 306.78499999999997, 308.12, 310.57, 311.005, 311.71500000000003, 311.22, 311.355, 312.125, 312.21500000000003, 312.08, 312.775, 311.53499999999997, 310.49, 311.505, 310.14, 311.3, 317.645, 319.15999999999997, 320.315, 320.13, 320.075, 319.695, 319.28499999999997, 320.8, 320.74, 320.855, 320.835, 321.765, 322.065, 323.245, 319.77, 321.365, 320.62, 321.415, 321.96500000000003, 321.705, 320.82, 320.295, 318.695, 319.75, 320.235, 319.94500000000005, 319.95, 319.015, 311.65999999999997, 309.09000000000003, 308.01, 304.225, 304.72, 301.77, 300.505, 307.62, 302.68, 305.23, 303.795, 298.87, 302.095, 304.245, 297.31, 298.28999999999996, 299.25, 301.69, 301.395, 304.055, 304.335, 311.775, 306.72, 309.52, 310.74, 309.955, 310.335, 310.24, 309.915, 310.08, 310.36, 310.78999999999996, 310.925, 310.315, 308.835, 308.03, 309.47, 308.175, 308.655, 309.12, 307.805, 309.015, 312.96000000000004, 312.275, 311.685, 310.42, 307.895, 309.43, 308.62, 308.515, 308.165, 309.105, 310.5, 310.45, 310.955, 310.685, 312.975, 312.78, 313.815, 313.665, 314.195, 313.355, 312.025, 307.74, 306.47, 303.45, 305.235, 303.865, 303.705, 304.115, 302.99, 303.96500000000003, 303.85, 304.665, 304.56, 304.27, 307.26, 305.235, 301.53499999999997, 302.605, 301.81, 301.78, 300.47, 300.25, 300.575, 302.595, 302.68, 303.355, 303.635, 302.93, 304.43, 304.78499999999997, 306.56, 306.795, 306.305, 306.515, 307.415, 308.615, 309.815, 310.595, 310.255, 310.78499999999997, 310.745, 310.905, 310.575, 315.38, 312.9, 313.605, 313.71000000000004, 313.76, 314.085, 312.19, 316.74, 316.90999999999997, 316.445, 316.485, 316.62, 315.985, 316.995, 315.985, 316.835, 316.735, 316.375, 316.205, 315.525, 313.75, 316.095, 315.39, 314.14, 314.915, 313.86, 314.575, 316.115, 316.1, 311.945, 312.24, 313.495, 313.39, 314.875, 314.425, 313.99, 315.075, 315.84000000000003, 315.84000000000003, 316.515, 316.915, 317.685, 319.595, 321.655, 321.72, 321.655, 321.925, 320.405, 314.705, 313.85, 314.81, 316.0, 315.31, 316.325, 317.415, 318.885, 321.87, 322.24, 319.75, 321.075, 321.095, 320.92, 321.885, 319.735, 319.905, 319.795, 319.7, 319.925, 319.38, 320.815, 321.315, 321.005, 321.385, 321.2, 321.24, 322.005, 321.675, 321.145, 322.485, 322.855, 323.025, 323.705, 323.78, 324.355, 326.71000000000004, 326.39, 326.025, 326.275, 326.52, 326.425, 324.96000000000004, 325.71500000000003, 325.205, 325.62, 325.865, 324.765, 325.765, 326.815, 326.985, 326.265, 326.65999999999997, 325.26, 323.565, 322.95, 322.935]',\n",
       "       0], dtype=object)"
      ]
     },
     "execution_count": 3,
     "metadata": {},
     "output_type": "execute_result"
    }
   ],
   "source": [
    "local_env.reset()"
   ]
  },
  {
   "cell_type": "code",
   "execution_count": 4,
   "id": "5a54c8b3",
   "metadata": {},
   "outputs": [],
   "source": [
    "#parameters for spy\n",
    "spy_parameters = {}\n",
    "spy_parameters['inner_denoise_std'] = 2\n",
    "spy_parameters['outer_denoise_std'] = 2\n",
    "spy_parameters['buy_1_threshold'] = 1\n",
    "spy_parameters['buy_2_threshold'] = 2\n",
    "spy_parameters['sell_1_threshold'] = 1\n",
    "spy_parameters['sell_2_threshold'] = 2\n",
    "spy_parameters['inner_window_length_interval'] = 10 #in unit of days\n",
    "spy_parameters['outer_window_length_interval'] = 25\n",
    "spy_parameters['buy_1_wait'] = 6 #in unit of days\n",
    "spy_parameters['buy_2_wait'] = 6\n",
    "spy_parameters['sell_1_wait'] = 1\n",
    "spy_parameters['sell_2_wait'] = 1\n",
    "spy_parameters['min_profit'] = 0.5 #in unit of percentage\n",
    "spy_parameters['pct_portfolio_in_vix_model'] = 0.2 #in unit of percentage\n",
    "spy_parameters['max_spy_positions'] = 8\n",
    "\n",
    "#convert the window length from unit of days into interval count\n",
    "days_into_interval = 7"
   ]
  },
  {
   "cell_type": "code",
   "execution_count": 5,
   "id": "d4faff04",
   "metadata": {},
   "outputs": [],
   "source": [
    "import numpy as np\n",
    "import pandas as pd\n",
    "import trading_vix_and_spy_utils\n",
    "import ast"
   ]
  },
  {
   "cell_type": "code",
   "execution_count": 9,
   "id": "c9ef6256",
   "metadata": {},
   "outputs": [],
   "source": [
    "#load the vix model\n",
    "import pickle\n",
    "with open('lifeline_model.pickle', 'rb') as f:\n",
    "    vix_model = pickle.load(f)\n",
    "last_valid_data_for_vix = 52"
   ]
  },
  {
   "cell_type": "code",
   "execution_count": 10,
   "id": "57d3affa",
   "metadata": {},
   "outputs": [
    {
     "data": {
      "text/plain": [
       "0.34118974143724723"
      ]
     },
     "execution_count": 10,
     "metadata": {},
     "output_type": "execute_result"
    }
   ],
   "source": [
    "local_env.seed(2)\n",
    "full_observation = local_env.reset()\n",
    "\n",
    "prediction = vix_model.predict_survival_function(full_observation[0:last_valid_data_for_vix].reshape((1,-1)))\n",
    "np.mean(prediction[0].tolist()[-10:])"
   ]
  },
  {
   "cell_type": "code",
   "execution_count": null,
   "id": "ea1d84e5",
   "metadata": {},
   "outputs": [],
   "source": [
    "current_spy_stock_value = 0\n",
    "current_spy_cash_value = local_env.spy_cash\n",
    "inner_lower_bound_history = []\n",
    "inner_upper_bound_history = []\n",
    "outer_lower_bound_history = []\n",
    "outer_upper_bound_history = []\n",
    "spy_buy_sell = []\n",
    "spy_price_history = None\n",
    "total_portfolio_value_history = None\n",
    "cash_history = []\n",
    "ratio_in_stock_form = []\n",
    "\n",
    "\n",
    "\n",
    "#other things related to spy trading\n",
    "last_buy_1_time = -99999\n",
    "last_buy_2_time = -99999\n",
    "last_sell_1_time = -99999\n",
    "last_sell_2_time = -99999\n",
    "min_spy_purchase_price = float('inf')\n",
    "time_index = 0"
   ]
  },
  {
   "cell_type": "code",
   "execution_count": null,
   "id": "7360a9de",
   "metadata": {},
   "outputs": [],
   "source": [
    "local_env.seed(2)\n",
    "full_observation = local_env.reset()\n",
    "spy_observation = ast.literal_eval(full_observation[-2])\n",
    "ratio_in_stock_form.append(full_observation[-1])\n",
    "\n",
    "while True:\n",
    "\n",
    "    inner_lower_bound, inner_upper_bound = trading_vix_and_spy_utils.generate_spy_bounds(\n",
    "        spy_observation,\n",
    "        int(spy_parameters['inner_window_length_interval']*days_into_interval),\n",
    "        spy_parameters['inner_denoise_std'],\n",
    "        spy_parameters['buy_1_threshold'],\n",
    "        spy_parameters['sell_1_threshold']\n",
    "    )\n",
    "\n",
    "    outer_lower_bound, outer_upper_bound = trading_vix_and_spy_utils.generate_spy_bounds(\n",
    "        spy_observation,\n",
    "        int(spy_parameters['outer_window_length_interval']*days_into_interval),\n",
    "        spy_parameters['outer_denoise_std'],\n",
    "        spy_parameters['buy_2_threshold'],\n",
    "        spy_parameters['sell_2_threshold']\n",
    "    )\n",
    "    \n",
    "    current_spy_price = spy_observation[-1]\n",
    "    \n",
    "    spy_action = 0.0 #do nothing spy action is 0.0\n",
    "    spy_action_type = None\n",
    "    #see if we can buy\n",
    "    if current_spy_price < inner_lower_bound and current_spy_price > outer_lower_bound:\n",
    "        time_since_last_buy = (time_index-last_buy_1_time) #time_since_last_buy is in unit of interval\n",
    "        if time_since_last_buy > spy_parameters['buy_1_wait']*days_into_interval:\n",
    "            spy_action = 1\n",
    "            spy_action_type = 'buy_1'\n",
    "    if current_spy_price < inner_lower_bound and current_spy_price < outer_lower_bound:\n",
    "        time_since_last_buy = (time_index-last_buy_2_time)\n",
    "        if time_since_last_buy > spy_parameters['buy_2_wait']*days_into_interval:\n",
    "            spy_action = 1\n",
    "            spy_action_type = 'buy_2'\n",
    "    \n",
    "    #see if we can sell\n",
    "    if current_spy_price > inner_upper_bound and current_spy_price < outer_upper_bound:\n",
    "        time_since_last_sell = (time_index-last_sell_1_time)\n",
    "        if time_since_last_sell > spy_parameters['sell_1_wait']*days_into_interval:\n",
    "            if current_spy_price > min_spy_purchase_price*(1+spy_parameters['min_profit']/100):\n",
    "                spy_action = -1\n",
    "                spy_action_type = 'sell_1'\n",
    "            \n",
    "    if current_spy_price > inner_upper_bound and current_spy_price > outer_upper_bound:\n",
    "        time_since_last_sell = (time_index-last_sell_2_time)\n",
    "        if time_since_last_sell > spy_parameters['sell_2_wait']*days_into_interval:\n",
    "            if current_spy_price > min_spy_purchase_price*(1+spy_parameters['min_profit']/100):\n",
    "                spy_action = -1\n",
    "                spy_action_type = 'sell_2'\n",
    "            \n",
    "    #compute the max allowed buy dollar value\n",
    "    prediction = vix_model.predict_survival_function(full_observation[0:last_valid_data_for_vix].reshape((1,-1)))\n",
    "    vix_model_prediction = np.mean(prediction[0].tolist()[-10:])\n",
    "    spy_buy_cap = (current_spy_stock_value+current_spy_cash_value)*(1-spy_parameters['pct_portfolio_in_vix_model']) + \\\n",
    "                  (current_spy_stock_value+current_spy_cash_value)*spy_parameters['pct_portfolio_in_vix_model']*vix_model_prediction\n",
    "                \n",
    "    #form the joint action\n",
    "    action_df = pd.DataFrame()\n",
    "    action_df['0'] = [spy_action]\n",
    "    action_df['1'] = [spy_parameters['max_spy_positions']] \n",
    "    action_df['2'] = [spy_buy_cap]\n",
    "    \n",
    "    action_array = action_df.iloc[0].tolist()\n",
    "    action_array = np.reshape(action_array,(-1,))\n",
    "    \n",
    "    #apply action\n",
    "    full_observation, reward, done, info = local_env.step(action_array)\n",
    "    if done != True:\n",
    "        spy_observation = ast.literal_eval(full_observation[-2])\n",
    "        ratio_in_stock_form.append(full_observation[-1])\n",
    "        \n",
    "    cash_history.append(info['spy_cash'])\n",
    "\n",
    "    \n",
    "    #prepare for the next round of action\n",
    "    if info['bought_spy']:\n",
    "        if spy_action_type == 'buy_1':\n",
    "            last_buy_1_time = time_index\n",
    "        if spy_action_type == 'buy_2':\n",
    "            last_buy_2_time = time_index\n",
    "    if info['sold_spy']:\n",
    "        if spy_action_type == 'sell_1':\n",
    "            last_sell_1_time = time_index\n",
    "        if spy_action_type == 'sell_2':\n",
    "            last_sell_2_time = time_index\n",
    "            \n",
    "    min_spy_purchase_price = info['min_spy_purchase_price']\n",
    "    time_index += 1\n",
    "    \n",
    "    #record information for plotting\n",
    "    inner_lower_bound_history.append(inner_lower_bound)\n",
    "    inner_upper_bound_history.append(inner_upper_bound)\n",
    "    outer_lower_bound_history.append(outer_lower_bound)\n",
    "    outer_upper_bound_history.append(outer_upper_bound)\n",
    "    \n",
    "    if info['bought_spy']:\n",
    "        spy_buy_sell.append(1)\n",
    "    elif info['sold_spy']:\n",
    "        spy_buy_sell.append(-1)\n",
    "    else:\n",
    "        spy_buy_sell.append(0)\n",
    "\n",
    "    current_spy_cash_value = local_env.spy_cash\n",
    "    current_spy_stock_value = trading_vix_and_spy_utils.total_value_in_spy_stock(current_spy_cash_value,info['current_spy_positions'],current_spy_price)\n",
    "    \n",
    "    if done:\n",
    "        total_portfolio_value_history = info['total_portfolio_value']\n",
    "        spy_price_history = info['spy_price_trajectory']\n",
    "        break\n",
    "    "
   ]
  },
  {
   "cell_type": "code",
   "execution_count": null,
   "id": "163b93c5",
   "metadata": {},
   "outputs": [],
   "source": [
    "print(len(inner_lower_bound_history))\n",
    "print(len(spy_price_history))\n",
    "print(len(spy_buy_sell))\n",
    "print(len(ratio_in_stock_form))"
   ]
  },
  {
   "cell_type": "code",
   "execution_count": null,
   "id": "e897275c",
   "metadata": {},
   "outputs": [],
   "source": [
    "import matplotlib.pyplot as plt"
   ]
  },
  {
   "cell_type": "code",
   "execution_count": null,
   "id": "8d28caff",
   "metadata": {},
   "outputs": [],
   "source": [
    "plt.rcParams[\"figure.figsize\"] = (15,8)\n",
    "\n",
    "already_plotted_sell_legend = False\n",
    "already_plotted_buy_legend = False\n",
    "\n",
    "plt.plot(spy_price_history,label = 'stock price')\n",
    "plt.plot(inner_lower_bound_history,label = 'inner lower bound')\n",
    "plt.plot(outer_lower_bound_history,label = 'outer lower bound')\n",
    "plt.plot(inner_upper_bound_history,label = 'inner upper bound')\n",
    "plt.plot(outer_upper_bound_history,label = 'outer upper bound')\n",
    "\n",
    "for time_index in range(0,len(spy_price_history)):\n",
    "\n",
    "    if spy_buy_sell[time_index]==1:\n",
    "        #print('the buy price is',price_history[time_index])\n",
    "        if already_plotted_sell_legend == False:\n",
    "            plt.scatter(time_index,spy_price_history[time_index],color = 'b',label = 'buy')\n",
    "            already_plotted_sell_legend = True\n",
    "        else:\n",
    "            plt.scatter(time_index,spy_price_history[time_index],color = 'b')\n",
    "\n",
    "    elif spy_buy_sell[time_index]==-1:\n",
    "        #print('the sell price is',price_history[time_index])\n",
    "        #print(' ')\n",
    "        if already_plotted_buy_legend == False:\n",
    "            plt.scatter(time_index,spy_price_history[time_index],color = 'r',label = 'sell')\n",
    "            already_plotted_buy_legend = True\n",
    "        else:\n",
    "            plt.scatter(time_index,spy_price_history[time_index],color = 'r')\n",
    "            \n",
    "plt.legend()\n",
    "plt.show()\n",
    "\n"
   ]
  },
  {
   "cell_type": "code",
   "execution_count": null,
   "id": "357948fb",
   "metadata": {},
   "outputs": [],
   "source": [
    "plt.rcParams[\"figure.figsize\"] = (15,8)\n",
    "\n",
    "fig, ax1 = plt.subplots()\n",
    "color = 'tab:red'\n",
    "ax1.set_xlabel('Hour')\n",
    "ax1.set_ylabel('remaining cash', color=color)\n",
    "ax1.plot(cash_history, color=color)\n",
    "ax1.tick_params(axis='y', labelcolor=color)\n",
    "#ax1.hlines(6,0,len(plot_prediction),colors = 'black')\n",
    "\n",
    "\n",
    "ax2 = ax1.twinx()  # instantiate a second axes that shares the same x-axis\n",
    "color = 'tab:blue'\n",
    "ax2.set_ylabel('spy price', color=color)  # we already handled the x-label with ax1\n",
    "ax2.plot(spy_price_history, color=color)\n",
    "ax2.tick_params(axis='y', labelcolor=color)\n",
    "fig.tight_layout()  # otherwise the right y-label is slightly clipped\n",
    "\n",
    "#ax2.hlines(0.5,0,len(plot_prediction),colors = 'black')\n",
    "\n",
    "\n",
    "plt.show()   "
   ]
  },
  {
   "cell_type": "code",
   "execution_count": null,
   "id": "d6c547da",
   "metadata": {},
   "outputs": [],
   "source": [
    "plt.plot(total_portfolio_value_history)\n",
    "plt.show()"
   ]
  },
  {
   "cell_type": "code",
   "execution_count": null,
   "id": "e44da33e",
   "metadata": {},
   "outputs": [],
   "source": [
    "local_env.total_realized_gain"
   ]
  },
  {
   "cell_type": "code",
   "execution_count": null,
   "id": "688c5548",
   "metadata": {},
   "outputs": [],
   "source": [
    "plt.rcParams[\"figure.figsize\"] = (15,8)\n",
    "\n",
    "fig, ax1 = plt.subplots()\n",
    "color = 'tab:red'\n",
    "ax1.set_xlabel('Hour')\n",
    "ax1.set_ylabel('ratio_in_stock_form', color=color)\n",
    "ax1.plot(ratio_in_stock_form, color=color)\n",
    "ax1.tick_params(axis='y', labelcolor=color)\n",
    "#ax1.hlines(6,0,len(plot_prediction),colors = 'black')\n",
    "\n",
    "\n",
    "ax2 = ax1.twinx()  # instantiate a second axes that shares the same x-axis\n",
    "color = 'tab:blue'\n",
    "ax2.set_ylabel('spy price', color=color)  # we already handled the x-label with ax1\n",
    "ax2.plot(spy_price_history, color=color)\n",
    "ax2.tick_params(axis='y', labelcolor=color)\n",
    "fig.tight_layout()  # otherwise the right y-label is slightly clipped\n",
    "\n",
    "#ax2.hlines(0.5,0,len(plot_prediction),colors = 'black')\n",
    "\n",
    "\n",
    "plt.show()   "
   ]
  },
  {
   "cell_type": "code",
   "execution_count": null,
   "id": "031bccae",
   "metadata": {},
   "outputs": [],
   "source": [
    "total_portfolio_return_history = np.asarray(total_portfolio_value_history)/total_portfolio_value_history[0]\n",
    "sharp_ratio = total_portfolio_return_history[-1] - total_portfolio_return_history[0]\n",
    "sharp_ratio = sharp_ratio / np.std(total_portfolio_return_history) \n",
    "sharp_ratio"
   ]
  },
  {
   "cell_type": "code",
   "execution_count": null,
   "id": "a0df71d7",
   "metadata": {},
   "outputs": [],
   "source": [
    "sharp_ratio = total_portfolio_value_history[-1]/total_portfolio_value_history[0]-1\n",
    "sharp_ratio = sharp_ratio / np.std(total_portfolio_value_history) \n",
    "sharp_ratio"
   ]
  },
  {
   "cell_type": "code",
   "execution_count": null,
   "id": "09b9b8b6",
   "metadata": {},
   "outputs": [],
   "source": [
    "np.std(total_portfolio_value_history) "
   ]
  },
  {
   "cell_type": "code",
   "execution_count": null,
   "id": "b58468d4",
   "metadata": {},
   "outputs": [],
   "source": []
  }
 ],
 "metadata": {
  "kernelspec": {
   "display_name": "Python 3.7.4 64-bit ('p37': conda)",
   "language": "python",
   "name": "python37464bitp37condace755f694755478c9bd95f16cbb10579"
  },
  "language_info": {
   "codemirror_mode": {
    "name": "ipython",
    "version": 3
   },
   "file_extension": ".py",
   "mimetype": "text/x-python",
   "name": "python",
   "nbconvert_exporter": "python",
   "pygments_lexer": "ipython3",
   "version": "3.7.4"
  }
 },
 "nbformat": 4,
 "nbformat_minor": 5
}
