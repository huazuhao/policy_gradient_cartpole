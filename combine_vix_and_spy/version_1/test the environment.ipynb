{
 "cells": [
  {
   "cell_type": "code",
   "execution_count": 1,
   "id": "9f7f2b05",
   "metadata": {},
   "outputs": [],
   "source": [
    "import trading_vix_and_spy"
   ]
  },
  {
   "cell_type": "code",
   "execution_count": 2,
   "id": "c8a057f3",
   "metadata": {},
   "outputs": [],
   "source": [
    "local_env = trading_vix_and_spy.trading_vix_and_spy()"
   ]
  },
  {
   "cell_type": "code",
   "execution_count": 3,
   "id": "c6188aec",
   "metadata": {},
   "outputs": [
    {
     "data": {
      "text/plain": [
       "array([12.41, 4.745560200310884, 10, 41, 141,\n",
       "       list([265.722809, 265.485229, 266.559143, 267.119965, 266.112488, 265.808319, 266.302521, 267.64267, 269.923615, 269.286865, 267.462036, 266.064972, 267.376465, 266.92981000000003, 268.383972, 269.533936, 270.522339, 271.415771, 271.301666, 270.931061, 269.115723, 268.10836800000004, 269.819061, 267.80423, 269.971069, 270.921539, 271.501343, 272.138062, 271.976501, 271.615356]),\n",
       "       0, 0], dtype=object)"
      ]
     },
     "execution_count": 3,
     "metadata": {},
     "output_type": "execute_result"
    }
   ],
   "source": [
    "local_env.reset()"
   ]
  },
  {
   "cell_type": "code",
   "execution_count": 4,
   "id": "a4d09d22",
   "metadata": {},
   "outputs": [],
   "source": [
    "#now, suppose all the money goes into vix"
   ]
  },
  {
   "cell_type": "code",
   "execution_count": 5,
   "id": "233c9253",
   "metadata": {},
   "outputs": [],
   "source": [
    "import pandas as pd\n",
    "import numpy as np"
   ]
  },
  {
   "cell_type": "code",
   "execution_count": 6,
   "id": "79315cf1",
   "metadata": {},
   "outputs": [],
   "source": [
    "action_df = pd.DataFrame()\n",
    "action_df['0'] = [0]*3\n",
    "action_df['1'] = np.random.random((3,))\n",
    "action_df['2'] = [1]*3"
   ]
  },
  {
   "cell_type": "code",
   "execution_count": 7,
   "id": "e249c455",
   "metadata": {},
   "outputs": [
    {
     "data": {
      "text/html": [
       "<div>\n",
       "<style scoped>\n",
       "    .dataframe tbody tr th:only-of-type {\n",
       "        vertical-align: middle;\n",
       "    }\n",
       "\n",
       "    .dataframe tbody tr th {\n",
       "        vertical-align: top;\n",
       "    }\n",
       "\n",
       "    .dataframe thead th {\n",
       "        text-align: right;\n",
       "    }\n",
       "</style>\n",
       "<table border=\"1\" class=\"dataframe\">\n",
       "  <thead>\n",
       "    <tr style=\"text-align: right;\">\n",
       "      <th></th>\n",
       "      <th>0</th>\n",
       "      <th>1</th>\n",
       "      <th>2</th>\n",
       "    </tr>\n",
       "  </thead>\n",
       "  <tbody>\n",
       "    <tr>\n",
       "      <th>0</th>\n",
       "      <td>0</td>\n",
       "      <td>0.920664</td>\n",
       "      <td>1</td>\n",
       "    </tr>\n",
       "    <tr>\n",
       "      <th>1</th>\n",
       "      <td>0</td>\n",
       "      <td>0.084629</td>\n",
       "      <td>1</td>\n",
       "    </tr>\n",
       "    <tr>\n",
       "      <th>2</th>\n",
       "      <td>0</td>\n",
       "      <td>0.008699</td>\n",
       "      <td>1</td>\n",
       "    </tr>\n",
       "  </tbody>\n",
       "</table>\n",
       "</div>"
      ],
      "text/plain": [
       "   0         1  2\n",
       "0  0  0.920664  1\n",
       "1  0  0.084629  1\n",
       "2  0  0.008699  1"
      ]
     },
     "execution_count": 7,
     "metadata": {},
     "output_type": "execute_result"
    }
   ],
   "source": [
    "action_df"
   ]
  },
  {
   "cell_type": "code",
   "execution_count": 8,
   "id": "bc9b2d5b",
   "metadata": {},
   "outputs": [],
   "source": [
    "vix_portfolio_value = []"
   ]
  },
  {
   "cell_type": "code",
   "execution_count": 9,
   "id": "a699d064",
   "metadata": {},
   "outputs": [],
   "source": [
    "for time_index in range(0,action_df.shape[0]):\n",
    "\n",
    "    action_array = action_df.iloc[time_index].tolist()\n",
    "    action_array = np.reshape(action_array,(-1,))\n",
    "\n",
    "    returned_observation, reward, done, info = local_env.step(action_array)\n",
    "    \n",
    "    vix_portfolio_value.append(info['total_vix_value'])"
   ]
  },
  {
   "cell_type": "code",
   "execution_count": 10,
   "id": "e9963dbc",
   "metadata": {},
   "outputs": [
    {
     "data": {
      "text/plain": [
       "{'bought_spy': False,\n",
       " 'sold_spy': False,\n",
       " 'total_vix_value': 49782.12993124612,\n",
       " 'total_spy_value': 0.0,\n",
       " 'vix_price_trajectory': [95.440002, 94.959999, 95.279999, 95.160004],\n",
       " 'spy_price_trajectory': [271.615356, 273.25, 275.40741, 275.540497]}"
      ]
     },
     "execution_count": 10,
     "metadata": {},
     "output_type": "execute_result"
    }
   ],
   "source": [
    "info"
   ]
  },
  {
   "cell_type": "code",
   "execution_count": 11,
   "id": "3051849d",
   "metadata": {},
   "outputs": [
    {
     "data": {
      "text/plain": [
       "4"
      ]
     },
     "execution_count": 11,
     "metadata": {},
     "output_type": "execute_result"
    }
   ],
   "source": [
    "len(info['vix_price_trajectory'])"
   ]
  },
  {
   "cell_type": "code",
   "execution_count": 12,
   "id": "f835cfb7",
   "metadata": {},
   "outputs": [
    {
     "data": {
      "text/plain": [
       "3"
      ]
     },
     "execution_count": 12,
     "metadata": {},
     "output_type": "execute_result"
    }
   ],
   "source": [
    "len(vix_portfolio_value)"
   ]
  },
  {
   "cell_type": "code",
   "execution_count": 13,
   "id": "4bbe802b",
   "metadata": {},
   "outputs": [],
   "source": [
    "#in to match the length of action and price trajectory\n",
    "#i should postpend a set of actions of all zeros at the end of a simulation"
   ]
  },
  {
   "cell_type": "code",
   "execution_count": 14,
   "id": "75a2ce9f",
   "metadata": {},
   "outputs": [
    {
     "data": {
      "text/html": [
       "<div>\n",
       "<style scoped>\n",
       "    .dataframe tbody tr th:only-of-type {\n",
       "        vertical-align: middle;\n",
       "    }\n",
       "\n",
       "    .dataframe tbody tr th {\n",
       "        vertical-align: top;\n",
       "    }\n",
       "\n",
       "    .dataframe thead th {\n",
       "        text-align: right;\n",
       "    }\n",
       "</style>\n",
       "<table border=\"1\" class=\"dataframe\">\n",
       "  <thead>\n",
       "    <tr style=\"text-align: right;\">\n",
       "      <th></th>\n",
       "      <th>0</th>\n",
       "      <th>1</th>\n",
       "      <th>2</th>\n",
       "    </tr>\n",
       "  </thead>\n",
       "  <tbody>\n",
       "    <tr>\n",
       "      <th>0</th>\n",
       "      <td>0</td>\n",
       "      <td>0.920664</td>\n",
       "      <td>1</td>\n",
       "    </tr>\n",
       "    <tr>\n",
       "      <th>1</th>\n",
       "      <td>0</td>\n",
       "      <td>0.084629</td>\n",
       "      <td>1</td>\n",
       "    </tr>\n",
       "    <tr>\n",
       "      <th>2</th>\n",
       "      <td>0</td>\n",
       "      <td>0.008699</td>\n",
       "      <td>1</td>\n",
       "    </tr>\n",
       "    <tr>\n",
       "      <th>3</th>\n",
       "      <td>0</td>\n",
       "      <td>0.000000</td>\n",
       "      <td>0</td>\n",
       "    </tr>\n",
       "  </tbody>\n",
       "</table>\n",
       "</div>"
      ],
      "text/plain": [
       "   0         1  2\n",
       "0  0  0.920664  1\n",
       "1  0  0.084629  1\n",
       "2  0  0.008699  1\n",
       "3  0  0.000000  0"
      ]
     },
     "execution_count": 14,
     "metadata": {},
     "output_type": "execute_result"
    }
   ],
   "source": [
    "action_df.loc[len(action_df.index)] = [0,0,0]\n",
    "action_df"
   ]
  },
  {
   "cell_type": "code",
   "execution_count": 16,
   "id": "fca576d1",
   "metadata": {},
   "outputs": [],
   "source": [
    "import matplotlib.pyplot as plt"
   ]
  },
  {
   "cell_type": "code",
   "execution_count": null,
   "id": "1d20fb45",
   "metadata": {},
   "outputs": [],
   "source": []
  }
 ],
 "metadata": {
  "kernelspec": {
   "display_name": "Python 3.7.4 64-bit ('p37': conda)",
   "language": "python",
   "name": "python37464bitp37condace755f694755478c9bd95f16cbb10579"
  },
  "language_info": {
   "codemirror_mode": {
    "name": "ipython",
    "version": 3
   },
   "file_extension": ".py",
   "mimetype": "text/x-python",
   "name": "python",
   "nbconvert_exporter": "python",
   "pygments_lexer": "ipython3",
   "version": "3.7.4"
  }
 },
 "nbformat": 4,
 "nbformat_minor": 5
}
