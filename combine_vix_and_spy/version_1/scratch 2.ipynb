{
 "cells": [
  {
   "cell_type": "code",
   "execution_count": 1,
   "metadata": {},
   "outputs": [],
   "source": [
    "import trading_vix_and_spy"
   ]
  },
  {
   "cell_type": "code",
   "execution_count": 2,
   "metadata": {},
   "outputs": [],
   "source": [
    "local_env = trading_vix_and_spy.trading_vix_and_spy()"
   ]
  },
  {
   "cell_type": "code",
   "execution_count": 3,
   "metadata": {},
   "outputs": [
    {
     "data": {
      "text/plain": [
       "246.313324"
      ]
     },
     "execution_count": 3,
     "metadata": {},
     "output_type": "execute_result"
    }
   ],
   "source": [
    "local_env.index_feature_dataframe.iloc[100][-1][-1]"
   ]
  },
  {
   "cell_type": "code",
   "execution_count": 4,
   "metadata": {},
   "outputs": [
    {
     "data": {
      "text/plain": [
       "vix_price_adj_close                                                105.8\n",
       "vix_adj_close                                                       10.7\n",
       "mv_ratio                                                         5.09396\n",
       "days_since_5                                                           1\n",
       "days_since_6                                                          10\n",
       "days_since_7                                                          78\n",
       "spy_observation        [239.759613, 239.825241, 241.062866, 240.12524...\n",
       "Name: 100, dtype: object"
      ]
     },
     "execution_count": 4,
     "metadata": {},
     "output_type": "execute_result"
    }
   ],
   "source": [
    "local_env.index_feature_dataframe.iloc[100]"
   ]
  },
  {
   "cell_type": "code",
   "execution_count": 5,
   "metadata": {},
   "outputs": [
    {
     "data": {
      "text/plain": [
       "array([16.559998999999998, 4.421496369593475, 7, 11, 50,\n",
       "       list([256.506134, 257.15640299999995, 257.062134, 258.306152, 262.801239, 262.471344, 260.775085, 259.43692000000004, 259.154175, 259.435242, 255.924973, 256.36016800000004, 255.868179, 249.472214, 244.1548, 250.834671, 246.567535, 245.838928, 248.980209, 243.606079, 246.728348, 249.368164, 251.336182, 245.734894, 246.945984, 250.872467, 249.557388, 251.610489, 250.872467, 252.935089]),\n",
       "       0, 0], dtype=object)"
      ]
     },
     "execution_count": 5,
     "metadata": {},
     "output_type": "execute_result"
    }
   ],
   "source": [
    "local_env.reset()"
   ]
  },
  {
   "cell_type": "code",
   "execution_count": 6,
   "metadata": {},
   "outputs": [
    {
     "data": {
      "text/plain": [
       "array([10.7, 5.093964294843991, 1, 10, 78,\n",
       "       list([239.759613, 239.825241, 241.062866, 240.125244, 240.547165, 239.356461, 239.665848, 241.625397, 240.725357, 241.100327, 241.419128, 241.512909, 242.319229, 242.69426, 242.52549700000003, 242.938004, 242.056717, 241.981644, 242.206711, 241.644165, 240.434677, 242.478592, 241.766022, 242.178558, 243.763062, 243.54747000000003, 244.10997000000003, 243.988129, 246.463333, 246.313324])],\n",
       "      dtype=object)"
      ]
     },
     "execution_count": 6,
     "metadata": {},
     "output_type": "execute_result"
    }
   ],
   "source": [
    "local_env.index_feature_dataframe.iloc[100][1:].to_numpy()"
   ]
  },
  {
   "cell_type": "code",
   "execution_count": 7,
   "metadata": {},
   "outputs": [],
   "source": [
    "import numpy as np"
   ]
  },
  {
   "cell_type": "code",
   "execution_count": 8,
   "metadata": {},
   "outputs": [
    {
     "data": {
      "text/plain": [
       "(6,)"
      ]
     },
     "execution_count": 8,
     "metadata": {},
     "output_type": "execute_result"
    }
   ],
   "source": [
    "local_env.index_feature_dataframe.iloc[100][1:].to_numpy().shape"
   ]
  },
  {
   "cell_type": "code",
   "execution_count": 9,
   "metadata": {},
   "outputs": [],
   "source": [
    "observation = local_env.index_feature_dataframe.iloc[100][1:].to_numpy()"
   ]
  },
  {
   "cell_type": "code",
   "execution_count": 10,
   "metadata": {},
   "outputs": [
    {
     "data": {
      "text/plain": [
       "array([10.7, 5.093964294843991, 1, 10, 78,\n",
       "       list([239.759613, 239.825241, 241.062866, 240.125244, 240.547165, 239.356461, 239.665848, 241.625397, 240.725357, 241.100327, 241.419128, 241.512909, 242.319229, 242.69426, 242.52549700000003, 242.938004, 242.056717, 241.981644, 242.206711, 241.644165, 240.434677, 242.478592, 241.766022, 242.178558, 243.763062, 243.54747000000003, 244.10997000000003, 243.988129, 246.463333, 246.313324]),\n",
       "       0, 0], dtype=object)"
      ]
     },
     "execution_count": 10,
     "metadata": {},
     "output_type": "execute_result"
    }
   ],
   "source": [
    "np.concatenate((observation,[0,0]),axis = 0)"
   ]
  },
  {
   "cell_type": "code",
   "execution_count": 11,
   "metadata": {},
   "outputs": [
    {
     "data": {
      "text/plain": [
       "(8,)"
      ]
     },
     "execution_count": 11,
     "metadata": {},
     "output_type": "execute_result"
    }
   ],
   "source": [
    "np.concatenate((observation,[0,0]),axis = 0).shape"
   ]
  },
  {
   "cell_type": "code",
   "execution_count": 12,
   "metadata": {},
   "outputs": [
    {
     "data": {
      "text/plain": [
       "(3,)"
      ]
     },
     "execution_count": 12,
     "metadata": {},
     "output_type": "execute_result"
    }
   ],
   "source": [
    "a = np.asarray([1,2,3])\n",
    "a.shape"
   ]
  },
  {
   "cell_type": "code",
   "execution_count": 13,
   "metadata": {},
   "outputs": [
    {
     "data": {
      "text/plain": [
       "1"
      ]
     },
     "execution_count": 13,
     "metadata": {},
     "output_type": "execute_result"
    }
   ],
   "source": [
    "a[0]"
   ]
  },
  {
   "cell_type": "code",
   "execution_count": 14,
   "metadata": {},
   "outputs": [
    {
     "data": {
      "text/plain": [
       "2"
      ]
     },
     "execution_count": 14,
     "metadata": {},
     "output_type": "execute_result"
    }
   ],
   "source": [
    "a[1]"
   ]
  },
  {
   "cell_type": "code",
   "execution_count": null,
   "metadata": {},
   "outputs": [],
   "source": []
  }
 ],
 "metadata": {
  "kernelspec": {
   "display_name": "Python 3.7.4 64-bit ('p37': conda)",
   "language": "python",
   "name": "python37464bitp37condace755f694755478c9bd95f16cbb10579"
  },
  "language_info": {
   "codemirror_mode": {
    "name": "ipython",
    "version": 3
   },
   "file_extension": ".py",
   "mimetype": "text/x-python",
   "name": "python",
   "nbconvert_exporter": "python",
   "pygments_lexer": "ipython3",
   "version": "3.7.4"
  }
 },
 "nbformat": 4,
 "nbformat_minor": 2
}
