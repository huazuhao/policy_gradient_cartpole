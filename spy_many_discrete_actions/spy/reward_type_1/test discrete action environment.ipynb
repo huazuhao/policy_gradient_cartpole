{
 "cells": [
  {
   "cell_type": "code",
   "execution_count": 1,
   "id": "a90ef021",
   "metadata": {},
   "outputs": [],
   "source": [
    "import random\n",
    "import trading_spy_with_many_discrete_actions_reward_type_1\n",
    "import matplotlib.pyplot as plt\n",
    "import numpy as np"
   ]
  },
  {
   "cell_type": "code",
   "execution_count": 2,
   "id": "dd6aa7e7",
   "metadata": {},
   "outputs": [],
   "source": [
    "max_simulation_length = 1000 # in unit of interval\n",
    "min_history_length = 5 #in unit of interval\n",
    "max_position = 10\n",
    "init_cash_value = 10000"
   ]
  },
  {
   "cell_type": "code",
   "execution_count": 3,
   "id": "b563d8f0",
   "metadata": {},
   "outputs": [],
   "source": [
    "local_env = trading_spy_with_many_discrete_actions_reward_type_1.trading_spy(max_simulation_length,\n",
    "                                                                            min_history_length,\n",
    "                                                                            max_position,\n",
    "                                                                            init_cash_value)"
   ]
  },
  {
   "cell_type": "code",
   "execution_count": 4,
   "id": "d595ed25",
   "metadata": {},
   "outputs": [],
   "source": [
    "total_portfolio_value = []\n",
    "stock_price = []\n",
    "stock_percentage = []\n",
    "recorded_action = [0]#i always start with all cash\n",
    "\n",
    "hypothetical_action = []\n",
    "\n",
    "for _ in range(0,5):\n",
    "    hypothetical_action.append(random.randint(0,max_position))"
   ]
  },
  {
   "cell_type": "code",
   "execution_count": 9,
   "id": "162efadb",
   "metadata": {},
   "outputs": [],
   "source": [
    "observation_dict = local_env.reset()\n",
    "\n",
    "total_portfolio_value.append(observation_dict['current_portfolio_value'])\n",
    "stock_price.append(observation_dict['price_history'][-1])\n",
    "stock_percentage.append(observation_dict['current_stock_ratio'])"
   ]
  },
  {
   "cell_type": "code",
   "execution_count": 10,
   "id": "d7d36f91",
   "metadata": {},
   "outputs": [
    {
     "data": {
      "text/plain": [
       "[243.03500000000003, 246.805, 248.7, 248.505, 248.29500000000002]"
      ]
     },
     "execution_count": 10,
     "metadata": {},
     "output_type": "execute_result"
    }
   ],
   "source": [
    "observation_dict['price_history']"
   ]
  },
  {
   "cell_type": "code",
   "execution_count": 11,
   "id": "0f21d994",
   "metadata": {},
   "outputs": [
    {
     "data": {
      "text/plain": [
       "[1.5512169029152005,\n",
       " 0.7678126456109027,\n",
       " -0.07840772014475306,\n",
       " -0.08450534194483339]"
      ]
     },
     "execution_count": 11,
     "metadata": {},
     "output_type": "execute_result"
    }
   ],
   "source": [
    "[100.0 * a1 / a2 - 100 for a1, a2 in zip(observation_dict['price_history'][1:], observation_dict['price_history'])]"
   ]
  },
  {
   "cell_type": "code",
   "execution_count": 6,
   "id": "e4a3e327",
   "metadata": {},
   "outputs": [
    {
     "data": {
      "text/plain": [
       "array([276.485, 276.615, 276.675, 276.705, 276.855,   0.   ])"
      ]
     },
     "execution_count": 6,
     "metadata": {},
     "output_type": "execute_result"
    }
   ],
   "source": [
    "observation_dict['price_history'].append(observation_dict['current_stock_ratio'])\n",
    "nn_input = np.asarray(observation_dict['price_history'])\n",
    "nn_input"
   ]
  },
  {
   "cell_type": "code",
   "execution_count": 15,
   "id": "c30c407c",
   "metadata": {},
   "outputs": [
    {
     "data": {
      "text/plain": [
       "(6,)"
      ]
     },
     "execution_count": 15,
     "metadata": {},
     "output_type": "execute_result"
    }
   ],
   "source": [
    "nn_input.shape"
   ]
  },
  {
   "cell_type": "code",
   "execution_count": 16,
   "id": "b3127231",
   "metadata": {
    "scrolled": false
   },
   "outputs": [
    {
     "name": "stdout",
     "output_type": "stream",
     "text": [
      "the price history is [332.9, 332.505, 332.61, 331.97, 331.325]\n",
      "the price history is [332.505, 332.61, 331.97, 331.325, 330.88]\n",
      "the price history is [332.61, 331.97, 331.325, 330.88, 330.8]\n",
      "the price history is [331.97, 331.325, 330.88, 330.8, 331.075]\n",
      "the price history is [331.325, 330.88, 330.8, 331.075, 331.155]\n"
     ]
    }
   ],
   "source": [
    "for time_index in range(0,len(hypothetical_action)):\n",
    "    \n",
    "    action = hypothetical_action[time_index]\n",
    "    \n",
    "    observation_dict,reward,execute_action = local_env.step(action)\n",
    "\n",
    "    total_portfolio_value.append(observation_dict['current_portfolio_value'])\n",
    "    stock_price.append(observation_dict['price_history'][-1])\n",
    "    stock_percentage.append(observation_dict['current_stock_ratio'])\n",
    "    recorded_action.append(observation_dict['action'])\n",
    "    \n",
    "    \n",
    "    print('the price history is',observation_dict['price_history'])"
   ]
  },
  {
   "cell_type": "code",
   "execution_count": null,
   "id": "319409b5",
   "metadata": {},
   "outputs": [],
   "source": [
    "plt.rcParams[\"figure.figsize\"] = (15,8)\n",
    "\n",
    "fig, ax1 = plt.subplots()\n",
    "color = 'tab:red'\n",
    "ax1.set_xlabel('Day')\n",
    "ax1.set_ylabel('price history', color=color)\n",
    "ax1.plot(stock_price, color=color)\n",
    "ax1.tick_params(axis='y', labelcolor=color)\n",
    "ax2 = ax1.twinx()  # instantiate a second axes that shares the same x-axis\n",
    "color = 'tab:blue'\n",
    "ax2.set_ylabel('total_portfolio_value', color=color)  # we already handled the x-label with ax1\n",
    "ax2.plot(total_portfolio_value, color=color)\n",
    "ax2.tick_params(axis='y', labelcolor=color)\n",
    "fig.tight_layout()  # otherwise the right y-label is slightly clipped\n",
    "plt.show()"
   ]
  },
  {
   "cell_type": "code",
   "execution_count": null,
   "id": "b6613b0c",
   "metadata": {},
   "outputs": [],
   "source": [
    "plt.rcParams[\"figure.figsize\"] = (15,8)\n",
    "\n",
    "\n",
    "plt.plot(np.asarray(stock_price)/stock_price[0],label = 'stock')\n",
    "plt.plot(np.asarray(total_portfolio_value)/total_portfolio_value[0],label = 'portfolio')\n",
    "plt.legend()\n",
    "plt.show()"
   ]
  },
  {
   "cell_type": "code",
   "execution_count": null,
   "id": "e30af1e8",
   "metadata": {},
   "outputs": [],
   "source": [
    "plt.rcParams[\"figure.figsize\"] = (15,8)\n",
    "\n",
    "fig, ax1 = plt.subplots()\n",
    "color = 'tab:red'\n",
    "ax1.set_xlabel('Day')\n",
    "ax1.set_ylabel('stock holding percentage', color=color)\n",
    "ax1.plot(stock_percentage, color=color)\n",
    "ax1.tick_params(axis='y', labelcolor=color)\n",
    "ax2 = ax1.twinx()  # instantiate a second axes that shares the same x-axis\n",
    "color = 'tab:blue'\n",
    "ax2.set_ylabel('total_portfolio_value', color=color)  # we already handled the x-label with ax1\n",
    "ax2.plot(total_portfolio_value, color=color)\n",
    "ax2.tick_params(axis='y', labelcolor=color)\n",
    "fig.tight_layout()  # otherwise the right y-label is slightly clipped\n",
    "plt.show()"
   ]
  },
  {
   "cell_type": "code",
   "execution_count": null,
   "id": "4ffdc6e7",
   "metadata": {},
   "outputs": [],
   "source": [
    "print(len(total_portfolio_value))\n",
    "print(len(stock_price))\n",
    "print(len(stock_percentage))\n",
    "print(len(hypothetical_action))\n",
    "print(len(recorded_action))"
   ]
  },
  {
   "cell_type": "code",
   "execution_count": null,
   "id": "0b946bb0",
   "metadata": {},
   "outputs": [],
   "source": [
    "print(recorded_action)\n",
    "print(hypothetical_action)"
   ]
  },
  {
   "cell_type": "code",
   "execution_count": null,
   "id": "13da0500",
   "metadata": {},
   "outputs": [],
   "source": [
    "already_plotted_sell_legend = False\n",
    "already_plotted_buy_legend = False\n",
    "\n",
    "plt.plot(stock_price)\n",
    "for time_index in range(1,len(recorded_action)):\n",
    "\n",
    "    \n",
    "    if recorded_action[time_index]>recorded_action[time_index-1]:\n",
    "        #buy\n",
    "        if already_plotted_buy_legend == False:\n",
    "            plt.scatter(time_index,stock_price[time_index],color = 'b',label = 'buy')\n",
    "            already_plotted_buy_legend = True\n",
    "        else:\n",
    "            plt.scatter(time_index,stock_price[time_index],color = 'b')\n",
    "        \n",
    "    if recorded_action[time_index]<recorded_action[time_index-1]:\n",
    "        #sell\n",
    "        if already_plotted_sell_legend == False:\n",
    "            plt.scatter(time_index,stock_price[time_index],color = 'r',label = 'sell')\n",
    "            already_plotted_sell_legend = True\n",
    "        else:\n",
    "            plt.scatter(time_index,stock_price[time_index],color = 'r')\n",
    "    \n",
    "plt.legend()\n",
    "plt.show()"
   ]
  },
  {
   "cell_type": "code",
   "execution_count": 17,
   "id": "4a5b5449",
   "metadata": {},
   "outputs": [],
   "source": [
    "max_simulation_day = 30\n",
    "num_minutes_per_trading_day = (6*2+1)*30\n",
    "data_interval_minute = 5\n",
    "max_simulation_length = int(max_simulation_day*num_minutes_per_trading_day/data_interval_minute) #in unit of interval"
   ]
  },
  {
   "cell_type": "code",
   "execution_count": 18,
   "id": "db2f7a5a",
   "metadata": {},
   "outputs": [
    {
     "data": {
      "text/plain": [
       "2340"
      ]
     },
     "execution_count": 18,
     "metadata": {},
     "output_type": "execute_result"
    }
   ],
   "source": [
    "max_simulation_length"
   ]
  }
 ],
 "metadata": {
  "kernelspec": {
   "display_name": "Python 3.7.4 64-bit ('p37': conda)",
   "language": "python",
   "name": "python37464bitp37condace755f694755478c9bd95f16cbb10579"
  },
  "language_info": {
   "codemirror_mode": {
    "name": "ipython",
    "version": 3
   },
   "file_extension": ".py",
   "mimetype": "text/x-python",
   "name": "python",
   "nbconvert_exporter": "python",
   "pygments_lexer": "ipython3",
   "version": "3.7.4"
  }
 },
 "nbformat": 4,
 "nbformat_minor": 5
}
