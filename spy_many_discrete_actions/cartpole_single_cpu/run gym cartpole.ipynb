{
 "cells": [
  {
   "cell_type": "code",
   "execution_count": 4,
   "id": "cdd96343",
   "metadata": {},
   "outputs": [],
   "source": [
    "import gym\n",
    "import os\n",
    "import torch\n",
    "from torch.distributions import Categorical"
   ]
  },
  {
   "cell_type": "code",
   "execution_count": 5,
   "id": "23954a98",
   "metadata": {},
   "outputs": [],
   "source": [
    "import agent\n",
    "import config"
   ]
  },
  {
   "cell_type": "code",
   "execution_count": 6,
   "id": "6652aab1",
   "metadata": {},
   "outputs": [],
   "source": [
    "env = gym.make('CartPole-v0')"
   ]
  },
  {
   "cell_type": "code",
   "execution_count": 11,
   "id": "e3d6ce99",
   "metadata": {},
   "outputs": [
    {
     "data": {
      "text/plain": [
       "<All keys matched successfully>"
      ]
     },
     "execution_count": 11,
     "metadata": {},
     "output_type": "execute_result"
    }
   ],
   "source": [
    "cwd = os.getcwd()\n",
    "parameter_file = 'cartpole_nn_trained_model.pt'\n",
    "cwd = os.path.join(cwd,parameter_file)\n",
    "\n",
    "device = torch.device('cpu')\n",
    "model = agent.Agent(observation_space_size=env.observation_space.shape[0],\n",
    "                           action_space_size=env.action_space.n,\n",
    "                           hidden_size=config.HIDDEN_SIZE)\n",
    "model.load_state_dict(torch.load(cwd, map_location=device))"
   ]
  },
  {
   "cell_type": "code",
   "execution_count": 12,
   "id": "a70689e9",
   "metadata": {},
   "outputs": [],
   "source": [
    "state = env.reset()"
   ]
  },
  {
   "cell_type": "code",
   "execution_count": 15,
   "id": "611153c8",
   "metadata": {},
   "outputs": [
    {
     "name": "stdout",
     "output_type": "stream",
     "text": [
      "test state is [-0.04291867 -0.15060052 -0.04828635  0.31915303]\n",
      "test_reward is 1.0\n",
      "test done is False\n"
     ]
    }
   ],
   "source": [
    "test_state,test_reward,test_done,_ = env.step(0)\n",
    "\n",
    "print('test state is',test_state)\n",
    "print('test_reward is',test_reward)\n",
    "print('test done is',test_done)"
   ]
  },
  {
   "cell_type": "code",
   "execution_count": 16,
   "id": "c5611a0b",
   "metadata": {},
   "outputs": [
    {
     "name": "stdout",
     "output_type": "stream",
     "text": [
      "<class 'float'>\n"
     ]
    }
   ],
   "source": [
    "print(type(test_reward))"
   ]
  },
  {
   "cell_type": "code",
   "execution_count": null,
   "id": "ede7ee4c",
   "metadata": {},
   "outputs": [],
   "source": [
    "device = 'cpu'\n",
    "\n",
    "state = env.reset()\n",
    "\n",
    "while True:\n",
    "    env.render()\n",
    "    \n",
    "    # get the action logits from the agent - (preferences)\n",
    "    action_logits = model(torch.tensor(state).float().unsqueeze(dim=0).to(device))\n",
    "    \n",
    "    # sample an action according to the action distribution\n",
    "    action = Categorical(logits=action_logits).sample()\n",
    "    \n",
    "    # take the chosen action, observe the reward and the next state\n",
    "    state, reward, done, _ = env.step(action=action.cpu().item())\n",
    "    \n",
    "    if done:\n",
    "        break"
   ]
  },
  {
   "cell_type": "code",
   "execution_count": null,
   "id": "bf7c76f5",
   "metadata": {},
   "outputs": [],
   "source": []
  }
 ],
 "metadata": {
  "kernelspec": {
   "display_name": "Python 3.7.4 64-bit ('p37': conda)",
   "language": "python",
   "name": "python37464bitp37condace755f694755478c9bd95f16cbb10579"
  },
  "language_info": {
   "codemirror_mode": {
    "name": "ipython",
    "version": 3
   },
   "file_extension": ".py",
   "mimetype": "text/x-python",
   "name": "python",
   "nbconvert_exporter": "python",
   "pygments_lexer": "ipython3",
   "version": "3.7.4"
  }
 },
 "nbformat": 4,
 "nbformat_minor": 5
}
