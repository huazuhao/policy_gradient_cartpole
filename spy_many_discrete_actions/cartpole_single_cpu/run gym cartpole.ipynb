{
 "cells": [
  {
   "cell_type": "code",
   "execution_count": 1,
   "id": "623495ab",
   "metadata": {},
   "outputs": [],
   "source": [
    "import gym\n",
    "import os\n",
    "import torch\n",
    "from torch.distributions import Categorical"
   ]
  },
  {
   "cell_type": "code",
   "execution_count": 2,
   "id": "ec8fb48c",
   "metadata": {},
   "outputs": [],
   "source": [
    "import agent\n",
    "import config"
   ]
  },
  {
   "cell_type": "code",
   "execution_count": 3,
   "id": "884ba066",
   "metadata": {},
   "outputs": [
    {
     "data": {
      "text/plain": [
       "[12345]"
      ]
     },
     "execution_count": 3,
     "metadata": {},
     "output_type": "execute_result"
    }
   ],
   "source": [
    "env = gym.make('CartPole-v0')\n",
    "env.seed(12345)"
   ]
  },
  {
   "cell_type": "code",
   "execution_count": 4,
   "id": "c3297f0f",
   "metadata": {},
   "outputs": [
    {
     "data": {
      "text/plain": [
       "<All keys matched successfully>"
      ]
     },
     "execution_count": 4,
     "metadata": {},
     "output_type": "execute_result"
    }
   ],
   "source": [
    "cwd = os.getcwd()\n",
    "parameter_file = 'cartpole_nn_trained_model.pt'\n",
    "cwd = os.path.join(cwd,parameter_file)\n",
    "\n",
    "device = torch.device('cpu')\n",
    "model = agent.Agent(observation_space_size=env.observation_space.shape[0],\n",
    "                           action_space_size=env.action_space.n,\n",
    "                           hidden_size=config.HIDDEN_SIZE)\n",
    "model.load_state_dict(torch.load(cwd, map_location=device))"
   ]
  },
  {
   "cell_type": "code",
   "execution_count": 5,
   "id": "ed26d917",
   "metadata": {},
   "outputs": [],
   "source": [
    "device = 'cpu'\n",
    "\n",
    "state = env.reset()\n",
    "\n",
    "while True:\n",
    "    env.render()\n",
    "    \n",
    "    # get the action logits from the agent - (preferences)\n",
    "    action_logits = model(torch.tensor(state).float().unsqueeze(dim=0).to(device))\n",
    "    \n",
    "    # sample an action according to the action distribution\n",
    "    action = Categorical(logits=action_logits).sample()\n",
    "    \n",
    "    # take the chosen action, observe the reward and the next state\n",
    "    state, reward, done, _ = env.step(action=action.cpu().item())\n",
    "    \n",
    "    if done:\n",
    "        break"
   ]
  },
  {
   "cell_type": "code",
   "execution_count": null,
   "id": "612ad3f9",
   "metadata": {},
   "outputs": [],
   "source": []
  }
 ],
 "metadata": {
  "kernelspec": {
   "display_name": "Python 3.7.4 64-bit ('p37': conda)",
   "language": "python",
   "name": "python37464bitp37condace755f694755478c9bd95f16cbb10579"
  },
  "language_info": {
   "codemirror_mode": {
    "name": "ipython",
    "version": 3
   },
   "file_extension": ".py",
   "mimetype": "text/x-python",
   "name": "python",
   "nbconvert_exporter": "python",
   "pygments_lexer": "ipython3",
   "version": "3.7.4"
  }
 },
 "nbformat": 4,
 "nbformat_minor": 5
}
