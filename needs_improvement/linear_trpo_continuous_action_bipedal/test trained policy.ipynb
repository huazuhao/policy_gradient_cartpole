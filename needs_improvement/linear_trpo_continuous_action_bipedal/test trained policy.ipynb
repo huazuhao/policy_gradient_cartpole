{
 "cells": [
  {
   "cell_type": "code",
   "execution_count": 1,
   "metadata": {},
   "outputs": [],
   "source": [
    "import jsonpickle"
   ]
  },
  {
   "cell_type": "code",
   "execution_count": 2,
   "metadata": {},
   "outputs": [],
   "source": [
    "learned_parameter_theta_file_name = 'learned_parameter_theta.json'"
   ]
  },
  {
   "cell_type": "code",
   "execution_count": 3,
   "metadata": {},
   "outputs": [],
   "source": [
    "learned_parameter_theta_dict = jsonpickle.decode(open(learned_parameter_theta_file_name).read())"
   ]
  },
  {
   "cell_type": "code",
   "execution_count": 4,
   "metadata": {},
   "outputs": [],
   "source": [
    "theta = learned_parameter_theta_dict['learned_parameter_theta']"
   ]
  },
  {
   "cell_type": "code",
   "execution_count": 5,
   "metadata": {},
   "outputs": [],
   "source": [
    "import gym\n",
    "import utils\n",
    "import config as C\n",
    "import numpy as np\n",
    "\n",
    "env = gym.make('Pendulum-v0')"
   ]
  },
  {
   "cell_type": "code",
   "execution_count": 6,
   "metadata": {},
   "outputs": [
    {
     "name": "stdout",
     "output_type": "stream",
     "text": [
      "Episode finished after 200 timesteps\n"
     ]
    }
   ],
   "source": [
    "rewards = []\n",
    "\n",
    "#test the training result\n",
    "observation = env.reset()\n",
    "current_feature = utils.extract_features(observation,C.output_dim)\n",
    "for t in range(200):\n",
    "\n",
    "    #env.render()\n",
    "\n",
    "    #compute an action given current observation\n",
    "    action = utils.compute_action_distribution(theta, current_feature, mode = 'test')\n",
    "\n",
    "    #apply the action to the environment\n",
    "    observation, reward, done, info = env.step(action)\n",
    "\n",
    "    #compute the next feature vector\n",
    "    current_feature = utils.extract_features(observation, C.output_dim)\n",
    "\n",
    "    rewards.append(reward)\n",
    "    \n",
    "    if done:\n",
    "        print(\"Episode finished after {} timesteps\".format(t+1))\n",
    "        break"
   ]
  },
  {
   "cell_type": "code",
   "execution_count": 7,
   "metadata": {},
   "outputs": [
    {
     "data": {
      "text/plain": [
       "-133.07828"
      ]
     },
     "execution_count": 7,
     "metadata": {},
     "output_type": "execute_result"
    }
   ],
   "source": [
    "np.sum(rewards)"
   ]
  },
  {
   "cell_type": "code",
   "execution_count": 8,
   "metadata": {},
   "outputs": [],
   "source": [
    "goal = []\n",
    "\n",
    "for _ in range(0,100):\n",
    "    \n",
    "    rewards = []\n",
    "\n",
    "    #test the training result\n",
    "    observation = env.reset()\n",
    "    current_feature = utils.extract_features(observation,C.output_dim)\n",
    "    for t in range(200):\n",
    "\n",
    "        #env.render()\n",
    "\n",
    "        #compute an action given current observation\n",
    "        action = utils.compute_action_distribution(theta, current_feature, mode = 'test')\n",
    "\n",
    "        #apply the action to the environment\n",
    "        observation, reward, done, info = env.step(action)\n",
    "\n",
    "        #compute the next feature vector\n",
    "        current_feature = utils.extract_features(observation, C.output_dim)\n",
    "\n",
    "        rewards.append(reward)\n",
    "\n",
    "    goal.append(np.sum(rewards))"
   ]
  },
  {
   "cell_type": "code",
   "execution_count": 9,
   "metadata": {},
   "outputs": [
    {
     "data": {
      "text/plain": [
       "-161.5193"
      ]
     },
     "execution_count": 9,
     "metadata": {},
     "output_type": "execute_result"
    }
   ],
   "source": [
    "np.mean(goal)"
   ]
  },
  {
   "cell_type": "code",
   "execution_count": 10,
   "metadata": {},
   "outputs": [
    {
     "data": {
      "text/plain": [
       "103.233315"
      ]
     },
     "execution_count": 10,
     "metadata": {},
     "output_type": "execute_result"
    }
   ],
   "source": [
    "np.std(goal)"
   ]
  },
  {
   "cell_type": "code",
   "execution_count": 11,
   "metadata": {},
   "outputs": [
    {
     "data": {
      "image/png": "[encoded data removed]",
      "text/plain": [
       "<Figure size 432x288 with 1 Axes>"
      ]
     },
     "metadata": {
      "needs_background": "light"
     },
     "output_type": "display_data"
    }
   ],
   "source": [
    "import matplotlib.pyplot as plt\n",
    "plt.hist(goal,bins = 100)\n",
    "plt.show()"
   ]
  },
  {
   "cell_type": "code",
   "execution_count": null,
   "metadata": {},
   "outputs": [],
   "source": []
  }
 ],
 "metadata": {
  "kernelspec": {
   "display_name": "Python 3.7.4 64-bit ('p37': conda)",
   "language": "python",
   "name": "python37464bitp37condace755f694755478c9bd95f16cbb10579"
  },
  "language_info": {
   "codemirror_mode": {
    "name": "ipython",
    "version": 3
   },
   "file_extension": ".py",
   "mimetype": "text/x-python",
   "name": "python",
   "nbconvert_exporter": "python",
   "pygments_lexer": "ipython3",
   "version": "3.7.4"
  }
 },
 "nbformat": 4,
 "nbformat_minor": 2
}
