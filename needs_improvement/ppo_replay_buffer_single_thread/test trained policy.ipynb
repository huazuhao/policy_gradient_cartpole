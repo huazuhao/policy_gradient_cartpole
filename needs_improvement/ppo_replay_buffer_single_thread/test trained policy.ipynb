{
 "cells": [
  {
   "cell_type": "code",
   "execution_count": null,
   "metadata": {},
   "outputs": [],
   "source": [
    "import gym\n",
    "import network\n",
    "import os\n",
    "import torch\n",
    "import config as C\n",
    "import numpy as np"
   ]
  },
  {
   "cell_type": "code",
   "execution_count": null,
   "metadata": {},
   "outputs": [],
   "source": [
    "env = gym.make('Pendulum-v0')\n",
    "\n",
    "observation_space_size = env.observation_space.shape[0]\n",
    "action_space_size = env.action_space.shape[0]"
   ]
  },
  {
   "cell_type": "code",
   "execution_count": null,
   "metadata": {},
   "outputs": [],
   "source": [
    "cwd = os.getcwd()\n",
    "parameter_file = 'pendulum_nn_trained_model.pt'\n",
    "cwd = os.path.join(cwd,parameter_file)\n",
    "\n",
    "device = torch.device('cpu')\n",
    "model = network.Agent(observation_space_size=observation_space_size,\n",
    "                           action_space_size=action_space_size,\n",
    "                           hidden_size=C.hidden_size)\n",
    "model.load_state_dict(torch.load(cwd, map_location=device))"
   ]
  },
  {
   "cell_type": "code",
   "execution_count": null,
   "metadata": {},
   "outputs": [],
   "source": [
    "model.parameters"
   ]
  },
  {
   "cell_type": "code",
   "execution_count": null,
   "metadata": {},
   "outputs": [],
   "source": [
    "device = 'cpu'\n",
    "rewards = []\n",
    "\n",
    "state = env.reset()\n",
    "\n",
    "while True:\n",
    "    env.render()\n",
    "    \n",
    "    action = model(torch.tensor(state).float().unsqueeze(dim=0).to(device))\n",
    "    \n",
    "    #print('action is',action.cpu().item())\n",
    "    \n",
    "    # take the chosen action, observe the reward and the next state\n",
    "    state, reward, done, _ = env.step(action=[action.cpu().item()])\n",
    "    \n",
    "    rewards.append(reward)\n",
    "    \n",
    "    if done:\n",
    "        break"
   ]
  },
  {
   "cell_type": "code",
   "execution_count": null,
   "metadata": {},
   "outputs": [],
   "source": [
    "np.sum(rewards)"
   ]
  },
  {
   "cell_type": "code",
   "execution_count": null,
   "metadata": {},
   "outputs": [],
   "source": []
  }
 ],
 "metadata": {
  "kernelspec": {
   "display_name": "Python 3.7.4 64-bit ('p37': conda)",
   "language": "python",
   "name": "python37464bitp37condace755f694755478c9bd95f16cbb10579"
  },
  "language_info": {
   "codemirror_mode": {
    "name": "ipython",
    "version": 3
   },
   "file_extension": ".py",
   "mimetype": "text/x-python",
   "name": "python",
   "nbconvert_exporter": "python",
   "pygments_lexer": "ipython3",
   "version": "3.7.4"
  }
 },
 "nbformat": 4,
 "nbformat_minor": 2
}
