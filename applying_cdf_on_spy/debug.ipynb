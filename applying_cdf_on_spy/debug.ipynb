{
 "cells": [
  {
   "cell_type": "code",
   "execution_count": 1,
   "id": "8ac4eef8",
   "metadata": {},
   "outputs": [],
   "source": [
    "import numpy as np\n",
    "import matplotlib.pyplot as plt"
   ]
  },
  {
   "cell_type": "code",
   "execution_count": 2,
   "id": "f865d8c8",
   "metadata": {},
   "outputs": [],
   "source": [
    "import simple_continuous_buy_sell_spy"
   ]
  },
  {
   "cell_type": "code",
   "execution_count": 3,
   "id": "77a2c2ba",
   "metadata": {},
   "outputs": [],
   "source": [
    "env = simple_continuous_buy_sell_spy.simple_continuous_buy_sell_spy()"
   ]
  },
  {
   "cell_type": "code",
   "execution_count": 4,
   "id": "ceebc850",
   "metadata": {},
   "outputs": [],
   "source": [
    "df = env.index_feature_dataframe"
   ]
  },
  {
   "cell_type": "code",
   "execution_count": 5,
   "id": "2f65c0f3",
   "metadata": {},
   "outputs": [
    {
     "data": {
      "text/html": [
       "<div>\n",
       "<style scoped>\n",
       "    .dataframe tbody tr th:only-of-type {\n",
       "        vertical-align: middle;\n",
       "    }\n",
       "\n",
       "    .dataframe tbody tr th {\n",
       "        vertical-align: top;\n",
       "    }\n",
       "\n",
       "    .dataframe thead th {\n",
       "        text-align: right;\n",
       "    }\n",
       "</style>\n",
       "<table border=\"1\" class=\"dataframe\">\n",
       "  <thead>\n",
       "    <tr style=\"text-align: right;\">\n",
       "      <th></th>\n",
       "      <th>index_raw_price</th>\n",
       "      <th>ewm_5</th>\n",
       "      <th>ewm_15</th>\n",
       "      <th>ewm_50</th>\n",
       "    </tr>\n",
       "  </thead>\n",
       "  <tbody>\n",
       "    <tr>\n",
       "      <th>0</th>\n",
       "      <td>26.635313</td>\n",
       "      <td>0.664980</td>\n",
       "      <td>0.642980</td>\n",
       "      <td>0.720856</td>\n",
       "    </tr>\n",
       "    <tr>\n",
       "      <th>1</th>\n",
       "      <td>26.598322</td>\n",
       "      <td>0.349506</td>\n",
       "      <td>0.439969</td>\n",
       "      <td>0.554796</td>\n",
       "    </tr>\n",
       "    <tr>\n",
       "      <th>2</th>\n",
       "      <td>26.598322</td>\n",
       "      <td>0.232733</td>\n",
       "      <td>0.384714</td>\n",
       "      <td>0.529941</td>\n",
       "    </tr>\n",
       "    <tr>\n",
       "      <th>3</th>\n",
       "      <td>26.598322</td>\n",
       "      <td>0.155035</td>\n",
       "      <td>0.336428</td>\n",
       "      <td>0.506332</td>\n",
       "    </tr>\n",
       "    <tr>\n",
       "      <th>4</th>\n",
       "      <td>26.487343</td>\n",
       "      <td>-0.175389</td>\n",
       "      <td>-0.071940</td>\n",
       "      <td>0.083140</td>\n",
       "    </tr>\n",
       "    <tr>\n",
       "      <th>...</th>\n",
       "      <td>...</td>\n",
       "      <td>...</td>\n",
       "      <td>...</td>\n",
       "      <td>...</td>\n",
       "    </tr>\n",
       "    <tr>\n",
       "      <th>7063</th>\n",
       "      <td>420.059998</td>\n",
       "      <td>0.541435</td>\n",
       "      <td>1.494138</td>\n",
       "      <td>4.752854</td>\n",
       "    </tr>\n",
       "    <tr>\n",
       "      <th>7064</th>\n",
       "      <td>417.299988</td>\n",
       "      <td>-0.079481</td>\n",
       "      <td>0.723113</td>\n",
       "      <td>3.898964</td>\n",
       "    </tr>\n",
       "    <tr>\n",
       "      <th>7065</th>\n",
       "      <td>418.200012</td>\n",
       "      <td>0.090643</td>\n",
       "      <td>0.821841</td>\n",
       "      <td>3.954968</td>\n",
       "    </tr>\n",
       "    <tr>\n",
       "      <th>7066</th>\n",
       "      <td>415.619995</td>\n",
       "      <td>-0.351851</td>\n",
       "      <td>0.174813</td>\n",
       "      <td>3.179557</td>\n",
       "    </tr>\n",
       "    <tr>\n",
       "      <th>7067</th>\n",
       "      <td>415.750000</td>\n",
       "      <td>-0.214017</td>\n",
       "      <td>0.180333</td>\n",
       "      <td>3.081995</td>\n",
       "    </tr>\n",
       "  </tbody>\n",
       "</table>\n",
       "<p>7068 rows × 4 columns</p>\n",
       "</div>"
      ],
      "text/plain": [
       "      index_raw_price     ewm_5    ewm_15    ewm_50\n",
       "0           26.635313  0.664980  0.642980  0.720856\n",
       "1           26.598322  0.349506  0.439969  0.554796\n",
       "2           26.598322  0.232733  0.384714  0.529941\n",
       "3           26.598322  0.155035  0.336428  0.506332\n",
       "4           26.487343 -0.175389 -0.071940  0.083140\n",
       "...               ...       ...       ...       ...\n",
       "7063       420.059998  0.541435  1.494138  4.752854\n",
       "7064       417.299988 -0.079481  0.723113  3.898964\n",
       "7065       418.200012  0.090643  0.821841  3.954968\n",
       "7066       415.619995 -0.351851  0.174813  3.179557\n",
       "7067       415.750000 -0.214017  0.180333  3.081995\n",
       "\n",
       "[7068 rows x 4 columns]"
      ]
     },
     "execution_count": 5,
     "metadata": {},
     "output_type": "execute_result"
    }
   ],
   "source": [
    "df"
   ]
  },
  {
   "cell_type": "code",
   "execution_count": 6,
   "id": "b0fe8617",
   "metadata": {},
   "outputs": [
    {
     "data": {
      "image/png": "[encoded data removed]",
      "text/plain": [
       "<Figure size 432x288 with 1 Axes>"
      ]
     },
     "metadata": {
      "needs_background": "light"
     },
     "output_type": "display_data"
    }
   ],
   "source": [
    "plt.hist(df['ewm_5'],bins = 100)\n",
    "plt.show()"
   ]
  },
  {
   "cell_type": "code",
   "execution_count": 7,
   "id": "1ce6561e",
   "metadata": {},
   "outputs": [
    {
     "data": {
      "image/png": "[encoded data removed]",
      "text/plain": [
       "<Figure size 432x288 with 1 Axes>"
      ]
     },
     "metadata": {
      "needs_background": "light"
     },
     "output_type": "display_data"
    }
   ],
   "source": [
    "plt.hist(df['ewm_15'],bins = 100)\n",
    "plt.show()"
   ]
  },
  {
   "cell_type": "code",
   "execution_count": 8,
   "id": "12e84138",
   "metadata": {},
   "outputs": [
    {
     "data": {
      "image/png": "[encoded data removed]",
      "text/plain": [
       "<Figure size 432x288 with 1 Axes>"
      ]
     },
     "metadata": {
      "needs_background": "light"
     },
     "output_type": "display_data"
    }
   ],
   "source": [
    "plt.hist(df['ewm_50'],bins = 100)\n",
    "plt.show()"
   ]
  },
  {
   "cell_type": "code",
   "execution_count": 9,
   "id": "c3772f1e",
   "metadata": {},
   "outputs": [],
   "source": [
    "df.replace([np.inf, -np.inf], np.nan, inplace=True)"
   ]
  },
  {
   "cell_type": "code",
   "execution_count": 10,
   "id": "38a6a634",
   "metadata": {},
   "outputs": [
    {
     "data": {
      "text/plain": [
       "False"
      ]
     },
     "execution_count": 10,
     "metadata": {},
     "output_type": "execute_result"
    }
   ],
   "source": [
    "df.isnull().values.any()"
   ]
  },
  {
   "cell_type": "code",
   "execution_count": 11,
   "id": "dbaf0727",
   "metadata": {},
   "outputs": [
    {
     "data": {
      "text/plain": [
       "array([[-0.37649814],\n",
       "       [-0.03877486],\n",
       "       [ 2.35616924],\n",
       "       [ 0.        ]])"
      ]
     },
     "execution_count": 11,
     "metadata": {},
     "output_type": "execute_result"
    }
   ],
   "source": [
    "env.reset()"
   ]
  },
  {
   "cell_type": "code",
   "execution_count": 12,
   "id": "81ae32f4",
   "metadata": {},
   "outputs": [
    {
     "name": "stdout",
     "output_type": "stream",
     "text": [
      "[[1.60287115]\n",
      " [2.81160461]\n",
      " [5.41018481]\n",
      " [0.        ]]\n"
     ]
    }
   ],
   "source": [
    "current_feature = env.reset()\n",
    "print(current_feature)"
   ]
  },
  {
   "cell_type": "code",
   "execution_count": 30,
   "id": "daff3ee7",
   "metadata": {},
   "outputs": [
    {
     "data": {
      "text/html": [
       "<div>\n",
       "<style scoped>\n",
       "    .dataframe tbody tr th:only-of-type {\n",
       "        vertical-align: middle;\n",
       "    }\n",
       "\n",
       "    .dataframe tbody tr th {\n",
       "        vertical-align: top;\n",
       "    }\n",
       "\n",
       "    .dataframe thead th {\n",
       "        text-align: right;\n",
       "    }\n",
       "</style>\n",
       "<table border=\"1\" class=\"dataframe\">\n",
       "  <thead>\n",
       "    <tr style=\"text-align: right;\">\n",
       "      <th></th>\n",
       "      <th>0</th>\n",
       "      <th>1</th>\n",
       "      <th>2</th>\n",
       "      <th>3</th>\n",
       "    </tr>\n",
       "  </thead>\n",
       "  <tbody>\n",
       "    <tr>\n",
       "      <th>0</th>\n",
       "      <td>0.832419</td>\n",
       "      <td>0.9433</td>\n",
       "      <td>0.995549</td>\n",
       "      <td>0.0</td>\n",
       "    </tr>\n",
       "  </tbody>\n",
       "</table>\n",
       "</div>"
      ],
      "text/plain": [
       "          0       1         2    3\n",
       "0  0.832419  0.9433  0.995549  0.0"
      ]
     },
     "execution_count": 30,
     "metadata": {},
     "output_type": "execute_result"
    }
   ],
   "source": [
    "from scipy.special import expit\n",
    "import pandas as pd\n",
    "current_feature = np.transpose(current_feature)\n",
    "logistic_transform = expit(current_feature)\n",
    "holding_position = np.reshape(current_feature[:,-1],(1,1))\n",
    "data_point_for_df = np.concatenate((logistic_transform[:,:-1],holding_position),axis = 1)\n",
    "data_point_for_copula = pd.DataFrame(data_point_for_df)\n",
    "data_point_for_copula"
   ]
  },
  {
   "cell_type": "code",
   "execution_count": 17,
   "id": "510a77a4",
   "metadata": {},
   "outputs": [
    {
     "data": {
      "text/plain": [
       "numpy.ndarray"
      ]
     },
     "execution_count": 17,
     "metadata": {},
     "output_type": "execute_result"
    }
   ],
   "source": [
    "type(logistic_transform)"
   ]
  },
  {
   "cell_type": "code",
   "execution_count": 18,
   "id": "e3bf05a1",
   "metadata": {},
   "outputs": [
    {
     "data": {
      "text/plain": [
       "(1, 4)"
      ]
     },
     "execution_count": 18,
     "metadata": {},
     "output_type": "execute_result"
    }
   ],
   "source": [
    "logistic_transform.shape"
   ]
  },
  {
   "cell_type": "code",
   "execution_count": 20,
   "id": "981f4164",
   "metadata": {},
   "outputs": [
    {
     "data": {
      "text/plain": [
       "(1, 3)"
      ]
     },
     "execution_count": 20,
     "metadata": {},
     "output_type": "execute_result"
    }
   ],
   "source": [
    "logistic_transform[:,:-1].shape"
   ]
  },
  {
   "cell_type": "code",
   "execution_count": 26,
   "id": "5f63f4c0",
   "metadata": {},
   "outputs": [
    {
     "data": {
      "text/plain": [
       "(1,)"
      ]
     },
     "execution_count": 26,
     "metadata": {},
     "output_type": "execute_result"
    }
   ],
   "source": [
    "current_feature[:,-1].shape"
   ]
  },
  {
   "cell_type": "code",
   "execution_count": 34,
   "id": "3e1ffd0a",
   "metadata": {},
   "outputs": [],
   "source": [
    "free_parameters = {'cov_para_1': -0.1613112151622772, 'cov_para_2': -0.8676685351878405, 'cov_para_3': -0.5514910072088242, 'beta_1a': 8.532856702804565, 'beta_1b': 5.741763710975647, 'beta_2a': 10.587245225906372, 'beta_2b': 9.560279250144958, 'beta_3a': 13.055520057678223, 'beta_3b': 17.514920234680176}"
   ]
  },
  {
   "cell_type": "code",
   "execution_count": 43,
   "id": "6f5ef325",
   "metadata": {},
   "outputs": [
    {
     "name": "stderr",
     "output_type": "stream",
     "text": [
      "/home/zuhao/anaconda2/envs/p37/lib/python3.7/site-packages/ipykernel_launcher.py:7: RuntimeWarning: invalid value encountered in sqrt\n",
      "  import sys\n"
     ]
    }
   ],
   "source": [
    "free_para1 = free_parameters['cov_para_1']\n",
    "free_para2 = free_parameters['cov_para_2']\n",
    "free_para3 = free_parameters['cov_para_3']\n",
    "\n",
    "diag_1 = 1\n",
    "diag_2 = np.sqrt(1-free_para1**2)\n",
    "diag_3 = np.sqrt(1-free_para2**2-free_para3**2)\n",
    "\n",
    "lower_triangular_matrix = np.asarray([[diag_1,0,0],\n",
    "                        [free_para1,diag_2,0],\n",
    "                        [free_para2,free_para3,diag_3]])\n",
    "\n",
    "\n",
    "cov_matrix = lower_triangular_matrix@lower_triangular_matrix.transpose()"
   ]
  },
  {
   "cell_type": "code",
   "execution_count": 44,
   "id": "299fcb25",
   "metadata": {},
   "outputs": [
    {
     "data": {
      "text/plain": [
       "1"
      ]
     },
     "execution_count": 44,
     "metadata": {},
     "output_type": "execute_result"
    }
   ],
   "source": [
    "diag_1"
   ]
  },
  {
   "cell_type": "code",
   "execution_count": 45,
   "id": "0b808fc2",
   "metadata": {},
   "outputs": [
    {
     "data": {
      "text/plain": [
       "0.9869035879268397"
      ]
     },
     "execution_count": 45,
     "metadata": {},
     "output_type": "execute_result"
    }
   ],
   "source": [
    "diag_2"
   ]
  },
  {
   "cell_type": "code",
   "execution_count": 46,
   "id": "54327c4f",
   "metadata": {},
   "outputs": [
    {
     "data": {
      "text/plain": [
       "nan"
      ]
     },
     "execution_count": 46,
     "metadata": {},
     "output_type": "execute_result"
    }
   ],
   "source": [
    "diag_3"
   ]
  },
  {
   "cell_type": "code",
   "execution_count": 47,
   "id": "8ad0cc60",
   "metadata": {},
   "outputs": [
    {
     "data": {
      "text/plain": [
       "-0.8676685351878405"
      ]
     },
     "execution_count": 47,
     "metadata": {},
     "output_type": "execute_result"
    }
   ],
   "source": [
    "free_para2"
   ]
  },
  {
   "cell_type": "code",
   "execution_count": 48,
   "id": "5d20bace",
   "metadata": {},
   "outputs": [
    {
     "data": {
      "text/plain": [
       "-0.5514910072088242"
      ]
     },
     "execution_count": 48,
     "metadata": {},
     "output_type": "execute_result"
    }
   ],
   "source": [
    "free_para3"
   ]
  },
  {
   "cell_type": "code",
   "execution_count": 49,
   "id": "0af454b7",
   "metadata": {},
   "outputs": [
    {
     "data": {
      "text/plain": [
       "-0.056991017987216064"
      ]
     },
     "execution_count": 49,
     "metadata": {},
     "output_type": "execute_result"
    }
   ],
   "source": [
    "1-free_para2**2-free_para3**2"
   ]
  },
  {
   "cell_type": "code",
   "execution_count": null,
   "id": "d77cf201",
   "metadata": {},
   "outputs": [],
   "source": []
  }
 ],
 "metadata": {
  "kernelspec": {
   "display_name": "Python 3.7.4 64-bit ('p37': conda)",
   "language": "python",
   "name": "python37464bitp37condace755f694755478c9bd95f16cbb10579"
  },
  "language_info": {
   "codemirror_mode": {
    "name": "ipython",
    "version": 3
   },
   "file_extension": ".py",
   "mimetype": "text/x-python",
   "name": "python",
   "nbconvert_exporter": "python",
   "pygments_lexer": "ipython3",
   "version": "3.7.4"
  }
 },
 "nbformat": 4,
 "nbformat_minor": 5
}
