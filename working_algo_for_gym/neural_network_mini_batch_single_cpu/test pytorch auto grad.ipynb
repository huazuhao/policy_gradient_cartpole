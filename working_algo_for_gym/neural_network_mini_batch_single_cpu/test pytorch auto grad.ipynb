{
 "cells": [
  {
   "cell_type": "code",
   "execution_count": 1,
   "id": "1a273eff",
   "metadata": {},
   "outputs": [
    {
     "name": "stdout",
     "output_type": "stream",
     "text": [
      "tensor([[ 73.,  67.,  43.],\n",
      "        [ 91.,  88.,  64.],\n",
      "        [ 87., 134.,  58.],\n",
      "        [102.,  43.,  37.],\n",
      "        [ 69.,  96.,  70.]])\n",
      "tensor([[ 56.,  70.],\n",
      "        [ 81., 101.],\n",
      "        [119., 133.],\n",
      "        [ 22.,  37.],\n",
      "        [103., 119.]])\n",
      "tensor([[-0.3839,  0.3048,  0.9397],\n",
      "        [-0.7339,  1.1167,  0.8516]], requires_grad=True)\n",
      "tensor([-1.3151,  1.2552], requires_grad=True)\n",
      "tensor([[-0.3839,  0.3048,  0.9397],\n",
      "        [-0.7339,  1.1167,  0.8516]], requires_grad=True)\n",
      "tensor([[-2716.3430, -3238.2925, -1884.4607],\n",
      "        [-1005.2106,  -593.3996,  -481.8434]])\n"
     ]
    }
   ],
   "source": [
    "import torch\n",
    "import numpy as np\n",
    "\n",
    "# Temp, rain, hum\n",
    "inputs = np.array([[73, 67, 43], \n",
    "                   [91, 88, 64], \n",
    "                   [87, 134, 58], \n",
    "                   [102, 43, 37], \n",
    "                   [69, 96, 70]], dtype='float32')\n",
    "\n",
    "# apples and oranges\n",
    "targets = np.array([[56, 70], \n",
    "                    [81, 101], \n",
    "                    [119, 133], \n",
    "                    [22, 37], \n",
    "                    [103, 119]], dtype='float32')\n",
    "\n",
    "inputs = torch.from_numpy(inputs)\n",
    "targets = torch.from_numpy(targets)\n",
    "print(inputs)\n",
    "print(targets)\n",
    "\n",
    "# weights and Biases\n",
    "w = torch.randn(2,3, requires_grad=True)\n",
    "b = torch.randn(2, requires_grad=True)\n",
    "print(w)\n",
    "print(b)\n",
    "\n",
    "\n",
    "#  Define model\n",
    "def model(x):\n",
    "  return x @ w.t() + b\n",
    "\n",
    "predit = model(inputs)\n",
    "\n",
    "def mse(t1, t2):\n",
    "  diff = t1 - t2\n",
    "  return torch.sum(diff * diff)/ diff.numel()\n",
    "\n",
    "loss = mse(predit, targets)\n",
    "loss\n",
    "\n",
    "\n",
    "# Compute gradient\n",
    "w.retain_grad()\n",
    "b.retain_grad()\n",
    "loss.backward()\n",
    "\n",
    "print(w)\n",
    "print(w.grad)"
   ]
  },
  {
   "cell_type": "code",
   "execution_count": 2,
   "id": "83079511",
   "metadata": {},
   "outputs": [
    {
     "name": "stdout",
     "output_type": "stream",
     "text": [
      "Tensor x: tensor([0.7174, 0.2645, 0.2980, 0.9340, 0.8258], requires_grad=True)\n",
      "Tensor y: tensor([1., 1., 1., 1., 1.], requires_grad=True)\n",
      "\n",
      "Tracing back tensors:\n",
      "<MulBackward0 object at 0x7f6fd979f450>\n",
      "<SumBackward0 object at 0x7f6fd97a9a90>\n",
      "<MulBackward0 object at 0x7f6fd97a21d0>\n",
      "<AccumulateGrad object at 0x7f6fd97a2110>\n",
      "Tensor with grad found: tensor([0.7174, 0.2645, 0.2980, 0.9340, 0.8258], requires_grad=True)\n",
      " - gradient: tensor([3., 3., 3., 3., 3.])\n",
      "\n",
      "<AccumulateGrad object at 0x7f6fd97a22d0>\n",
      "Tensor with grad found: tensor([1., 1., 1., 1., 1.], requires_grad=True)\n",
      " - gradient: tensor([2.1523, 0.7935, 0.8939, 2.8021, 2.4775])\n",
      "\n"
     ]
    }
   ],
   "source": [
    "import torch\n",
    "from torch import nn\n",
    "d = 5\n",
    "x = torch.rand(d, requires_grad=True)\n",
    "print('Tensor x:', x)\n",
    "y = torch.ones(d, requires_grad=True)\n",
    "print('Tensor y:', y)\n",
    "loss = torch.sum(x*y)*3\n",
    "\n",
    "del x\n",
    "print()\n",
    "print('Tracing back tensors:')\n",
    "def getBack(var_grad_fn):\n",
    "    print(var_grad_fn)\n",
    "    for n in var_grad_fn.next_functions:\n",
    "        if n[0]:\n",
    "            try:\n",
    "                tensor = getattr(n[0], 'variable')\n",
    "                print(n[0])\n",
    "                print('Tensor with grad found:', tensor)\n",
    "                print(' - gradient:', tensor.grad)\n",
    "                print()\n",
    "            except AttributeError as e:\n",
    "                getBack(n[0])\n",
    "\n",
    "loss.backward()\n",
    "getBack(loss.grad_fn)"
   ]
  },
  {
   "cell_type": "code",
   "execution_count": null,
   "id": "241c28dc",
   "metadata": {},
   "outputs": [],
   "source": []
  }
 ],
 "metadata": {
  "kernelspec": {
   "display_name": "Python 3.7.4 64-bit ('p37': conda)",
   "language": "python",
   "name": "python37464bitp37condace755f694755478c9bd95f16cbb10579"
  },
  "language_info": {
   "codemirror_mode": {
    "name": "ipython",
    "version": 3
   },
   "file_extension": ".py",
   "mimetype": "text/x-python",
   "name": "python",
   "nbconvert_exporter": "python",
   "pygments_lexer": "ipython3",
   "version": "3.7.4"
  }
 },
 "nbformat": 4,
 "nbformat_minor": 5
}
