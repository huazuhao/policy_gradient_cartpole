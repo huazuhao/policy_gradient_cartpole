{
 "cells": [
  {
   "cell_type": "code",
   "execution_count": 1,
   "id": "574ef264",
   "metadata": {},
   "outputs": [],
   "source": [
    "import jsonpickle"
   ]
  },
  {
   "cell_type": "code",
   "execution_count": 2,
   "id": "95f0cdd5",
   "metadata": {},
   "outputs": [],
   "source": [
    "optimization_process_file_name = 'optimization_history.json'"
   ]
  },
  {
   "cell_type": "code",
   "execution_count": 3,
   "id": "58a5dbb9",
   "metadata": {},
   "outputs": [],
   "source": [
    "optimization_history_dict = jsonpickle.decode(open(optimization_process_file_name).read())"
   ]
  },
  {
   "cell_type": "code",
   "execution_count": 4,
   "id": "6103a74c",
   "metadata": {},
   "outputs": [],
   "source": [
    "import numpy as np\n",
    "import matplotlib\n",
    "import matplotlib.pyplot as plt"
   ]
  },
  {
   "cell_type": "code",
   "execution_count": 5,
   "id": "2847a9bc",
   "metadata": {},
   "outputs": [],
   "source": [
    "objective_history = optimization_history_dict['objective_history']"
   ]
  },
  {
   "cell_type": "code",
   "execution_count": 6,
   "id": "c9cb0150",
   "metadata": {},
   "outputs": [
    {
     "data": {
      "image/png": "[encoded data removed]",
      "text/plain": [
       "<Figure size 504x360 with 1 Axes>"
      ]
     },
     "metadata": {
      "needs_background": "light"
     },
     "output_type": "display_data"
    }
   ],
   "source": [
    "fig = plt.figure(figsize=(7, 5))\n",
    "matplotlib.rcParams.update({'font.size': 16})\n",
    "plt.plot(objective_history, 'b.', ms=10)  # Plot all evaluated points as blue dots\n",
    "plt.plot(np.maximum.accumulate(objective_history), 'r', lw=3)  # Plot cumulative minimum as a red line\n",
    "plt.xlim([0, len(objective_history)])\n",
    "plt.ylim([np.min(objective_history), 100])\n",
    "plt.title(\"ppo replay buffer single thread 4\")\n",
    "\n",
    "plt.tight_layout()\n",
    "plt.show()\n"
   ]
  },
  {
   "cell_type": "code",
   "execution_count": 7,
   "id": "f359c1a6",
   "metadata": {},
   "outputs": [
    {
     "data": {
      "text/plain": [
       "-1236.384299856768"
      ]
     },
     "execution_count": 7,
     "metadata": {},
     "output_type": "execute_result"
    }
   ],
   "source": [
    "max(objective_history)"
   ]
  },
  {
   "cell_type": "code",
   "execution_count": null,
   "id": "e464a686",
   "metadata": {},
   "outputs": [],
   "source": []
  }
 ],
 "metadata": {
  "kernelspec": {
   "display_name": "Python 3.7.4 64-bit ('p37': conda)",
   "language": "python",
   "name": "python37464bitp37condace755f694755478c9bd95f16cbb10579"
  },
  "language_info": {
   "codemirror_mode": {
    "name": "ipython",
    "version": 3
   },
   "file_extension": ".py",
   "mimetype": "text/x-python",
   "name": "python",
   "nbconvert_exporter": "python",
   "pygments_lexer": "ipython3",
   "version": "3.7.4"
  }
 },
 "nbformat": 4,
 "nbformat_minor": 5
}
